{
 "cells": [
  {
   "cell_type": "code",
   "execution_count": 2,
   "metadata": {},
   "outputs": [
    {
     "name": "stdout",
     "output_type": "stream",
     "text": [
      "C:\\Users\\matze\\Documents\\Winton\n"
     ]
    }
   ],
   "source": [
    "import numpy as np # linear algebra\n",
    "import pandas as pd # data processing, CSV file I/O (e.g. pd.read_csv)\n",
    "import matplotlib.pyplot as plt\n",
    "import seaborn as sns\n",
    "\n",
    "import os\n",
    "print(os.getcwd()) \n",
    "\n",
    "X_train = pd.read_csv(\"featureset/X_train_features.csv\", index_col=0)\n",
    "X_test = pd.read_csv(\"featureset/X_test_features.csv\", index_col=0)\n",
    "y_train = pd.read_csv('Clean Data/y_train_prep.csv', index_col=0)\n",
    "y_test = pd.read_csv('Clean Data/y_test_prep.csv', index_col=0)\n",
    "\n"
   ]
  },
  {
   "cell_type": "code",
   "execution_count": 147,
   "metadata": {},
   "outputs": [
    {
     "data": {
      "text/plain": [
       "(13200,)"
      ]
     },
     "execution_count": 147,
     "metadata": {},
     "output_type": "execute_result"
    }
   ],
   "source": [
    "weights_daily = pd.read_csv('Clean Data/weight_daily.csv', index_col=0, header = None).loc[X_test.index,:].values.reshape(-1,1).flatten()\n",
    "\n",
    "intraday_weights = pd.read_csv('Clean Data/weight_intraday.csv', index_col=0, header = None).loc[X_test.index,:].values.reshape(-1,1).flatten()\n",
    "weights_daily.shape"
   ]
  },
  {
   "cell_type": "markdown",
   "metadata": {},
   "source": [
    "### Interaction"
   ]
  },
  {
   "cell_type": "code",
   "execution_count": 129,
   "metadata": {},
   "outputs": [],
   "source": [
    "from sklearn.preprocessing import PolynomialFeatures\n",
    "poly = PolynomialFeatures(interaction_only=True)\n",
    "Train_Poly = poly.fit_transform(X_train)\n",
    "Test_Poly = poly.fit_transform(X_test)"
   ]
  },
  {
   "cell_type": "markdown",
   "metadata": {},
   "source": [
    "# Scorer"
   ]
  },
  {
   "cell_type": "code",
   "execution_count": 4,
   "metadata": {},
   "outputs": [],
   "source": [
    "from sklearn.metrics import mean_squared_error"
   ]
  },
  {
   "cell_type": "code",
   "execution_count": 5,
   "metadata": {},
   "outputs": [],
   "source": [
    "train_zeros = pd.DataFrame(np.zeros(y_train.shape), columns = y_train.columns)\n",
    "test_zeros = pd.DataFrame(np.zeros(y_test.shape), columns = y_test.columns)"
   ]
  },
  {
   "cell_type": "code",
   "execution_count": 16,
   "metadata": {},
   "outputs": [],
   "source": [
    "test_score = mean_squared_error(y_test, test_zeros)\n",
    "test_score_minutes = mean_squared_error(y_test.loc[:,'Ret_121':'Ret_180'], test_zeros.loc[:,'Ret_121':'Ret_180'])\n",
    "test_score_daily = mean_squared_error(y_test.loc[:,'Ret_PlusOne':'Ret_PlusTwo'], test_zeros.loc[:,'Ret_PlusOne':'Ret_PlusTwo'])"
   ]
  },
  {
   "cell_type": "code",
   "execution_count": 18,
   "metadata": {},
   "outputs": [],
   "source": [
    "train_score = mean_squared_error(y_train, train_zeros)\n",
    "train_score_minutes = mean_squared_error(y_train.loc[:,'Ret_121':'Ret_180'], train_zeros.loc[:,'Ret_121':'Ret_180'])\n",
    "train_score_daily = mean_squared_error(y_train.loc[:,'Ret_PlusOne':'Ret_PlusTwo'], train_zeros.loc[:,'Ret_PlusOne':'Ret_PlusTwo'])"
   ]
  },
  {
   "cell_type": "markdown",
   "metadata": {},
   "source": [
    "# Regression Models"
   ]
  },
  {
   "cell_type": "markdown",
   "metadata": {},
   "source": [
    "### Random Forest"
   ]
  },
  {
   "cell_type": "code",
   "execution_count": 46,
   "metadata": {},
   "outputs": [
    {
     "name": "stdout",
     "output_type": "stream",
     "text": [
      "RF 10 Ret_PlusOne \n",
      " Score 0.0007020410438811058\n",
      "Zero:  0.0005966937810296722\n"
     ]
    }
   ],
   "source": [
    "from sklearn.ensemble import RandomForestRegressor\n",
    "regr = RandomForestRegressor(random_state=0)\n",
    "regr.fit(X_train, y_train.Ret_PlusOne)\n",
    "pred = regr.predict(X_test)\n",
    "print('RF 10 Ret_PlusOne ')\n",
    "print(' Score',mean_squared_error(pred, y_test.Ret_PlusOne))\n",
    "print('Zero: ', test_score_daily)"
   ]
  },
  {
   "cell_type": "code",
   "execution_count": 47,
   "metadata": {},
   "outputs": [
    {
     "data": {
      "text/plain": [
       "0.0005996651960335922"
      ]
     },
     "execution_count": 47,
     "metadata": {},
     "output_type": "execute_result"
    }
   ],
   "source": [
    "regr100 = RandomForestRegressor(n_estimators =50 ,random_state=0)\n",
    "regr100.fit(X_train, y_train.Ret_PlusOne)\n",
    "pred100 = regr100.predict(X_test)\n",
    "mean_squared_error(pred100, y_test.Ret_PlusOne)"
   ]
  },
  {
   "cell_type": "code",
   "execution_count": 21,
   "metadata": {},
   "outputs": [
    {
     "data": {
      "text/plain": [
       "0.0005966937810296722"
      ]
     },
     "execution_count": 21,
     "metadata": {},
     "output_type": "execute_result"
    }
   ],
   "source": [
    "test_score_daily"
   ]
  },
  {
   "cell_type": "code",
   "execution_count": 48,
   "metadata": {},
   "outputs": [
    {
     "name": "stdout",
     "output_type": "stream",
     "text": [
      "RF 1 Ret_PlusOne \n",
      " Score 0.0019056509496557918\n",
      "Zero:  1.3923236682626972e-06\n"
     ]
    }
   ],
   "source": [
    "regr1 = RandomForestRegressor(n_estimators =1 ,random_state=0)\n",
    "regr1.fit(X_train, y_train.Ret_PlusOne)\n",
    "pred1 = regr1.predict(X_test)\n",
    "print('RF 1 Ret_PlusOne ')\n",
    "print(' Score',mean_squared_error(pred1, y_test.Ret_PlusOne))\n",
    "print('Zero: ', test_score_daily)"
   ]
  },
  {
   "cell_type": "code",
   "execution_count": 35,
   "metadata": {},
   "outputs": [
    {
     "name": "stdout",
     "output_type": "stream",
     "text": [
      "RF 1 Ret_121 \n",
      " Score 1.2474362135587695e-06\n",
      "Zero:  1.3923236682626972e-06\n"
     ]
    }
   ],
   "source": [
    "regr1 = RandomForestRegressor(n_estimators =1 ,random_state=0)\n",
    "regr1.fit(X_train, y_train.Ret_121)\n",
    "pred1 = regr1.predict(X_test)\n",
    "print('RF 1 Ret_121 ')\n",
    "print(' Score',mean_squared_error(pred1, y_test.Ret_121))\n",
    "print('Zero: ', test_score_minutes)"
   ]
  },
  {
   "cell_type": "code",
   "execution_count": 49,
   "metadata": {},
   "outputs": [
    {
     "name": "stdout",
     "output_type": "stream",
     "text": [
      "RF 10 Ret_121 \n",
      " Score 1.2441529253613372e-06\n",
      "Zero:  1.3923236682626972e-06\n"
     ]
    }
   ],
   "source": [
    "regr1 = RandomForestRegressor(n_estimators =10 ,random_state=0)\n",
    "regr1.fit(X_train, y_train.Ret_121)\n",
    "pred1 = regr1.predict(X_test)\n",
    "print('RF 10 Ret_121 ')\n",
    "print(' Score',mean_squared_error(pred1, y_test.Ret_121))\n",
    "print('Zero: ', test_score_minutes)"
   ]
  },
  {
   "cell_type": "code",
   "execution_count": 52,
   "metadata": {},
   "outputs": [
    {
     "name": "stdout",
     "output_type": "stream",
     "text": [
      "RF 10 Ret_PlusOne \n",
      " Score 2.204865700239446e-07\n",
      "Zero:  1.344453902618752e-06\n",
      "Zero:  1.3923236682626972e-06\n"
     ]
    }
   ],
   "source": [
    "pred1 = regr1.predict(X_train)\n",
    "print('RF 10 Ret_PlusOne ')\n",
    "print(' Score',mean_squared_error(pred1, y_train.Ret_121))\n",
    "print('Zero: ', train_score_minutes)\n",
    "print('Zero: ', test_score_minutes)"
   ]
  },
  {
   "cell_type": "code",
   "execution_count": 53,
   "metadata": {},
   "outputs": [
    {
     "name": "stdout",
     "output_type": "stream",
     "text": [
      "RF 10 Ret_121 \n",
      " Score 1.1075681188009348e-06\n",
      "Zero:  1.3923236682626972e-06\n"
     ]
    }
   ],
   "source": [
    "regr1 = RandomForestRegressor(n_estimators =100 ,random_state=0)\n",
    "regr1.fit(X_train, y_train.Ret_121)\n",
    "pred1 = regr1.predict(X_test)\n",
    "print('RF 10 Ret_121 ')\n",
    "print(' Score',mean_squared_error(pred1, y_test.Ret_121))\n",
    "print('Zero: ', test_score_minutes)"
   ]
  },
  {
   "cell_type": "code",
   "execution_count": 144,
   "metadata": {},
   "outputs": [
    {
     "data": {
      "text/plain": [
       "(13200,)"
      ]
     },
     "execution_count": 144,
     "metadata": {},
     "output_type": "execute_result"
    }
   ],
   "source": []
  },
  {
   "cell_type": "markdown",
   "metadata": {},
   "source": [
    "### Ridge/Lasso"
   ]
  },
  {
   "cell_type": "code",
   "execution_count": 171,
   "metadata": {},
   "outputs": [
    {
     "name": "stdout",
     "output_type": "stream",
     "text": [
      "Lasso 01 Ret_121 \n",
      "Score 1.0736013733432277e-06\n",
      "Zero:  1.3923236682626972e-06\n"
     ]
    }
   ],
   "source": [
    "from sklearn import linear_model\n",
    "lasso01 = linear_model.Lasso(alpha=0.1, normalize = False)\n",
    "lasso01.fit(X_train,y_train.Ret_121)\n",
    "pred_lasso01 = lasso01.predict(X_test)\n",
    "print('Lasso 01 Ret_121 ')\n",
    "print('Score',mean_squared_error(pred_lasso01, y_test.Ret_121, sample_weight = intraday_weights))\n",
    "print('Zero: ', test_score_minutes)"
   ]
  },
  {
   "cell_type": "code",
   "execution_count": 169,
   "metadata": {},
   "outputs": [
    {
     "name": "stdout",
     "output_type": "stream",
     "text": [
      "Lasso 01 Ret_122 \n",
      "Score 1.2341529143992744e-06\n",
      "Zero:  1.3923236682626972e-06\n"
     ]
    }
   ],
   "source": [
    "from sklearn import linear_model\n",
    "lasso01 = linear_model.Lasso(alpha=0.1)\n",
    "lasso01.fit(X_train,y_train.Ret_122)\n",
    "pred_lasso01 = lasso01.predict(X_test)\n",
    "print('Lasso 01 Ret_122 ')\n",
    "print('Score',mean_squared_error(pred_lasso01, y_test.Ret_122, sample_weight = intraday_weights))\n",
    "print('Zero: ', test_score_minutes)"
   ]
  },
  {
   "cell_type": "code",
   "execution_count": 168,
   "metadata": {},
   "outputs": [
    {
     "name": "stdout",
     "output_type": "stream",
     "text": [
      "Lasso 01 Ret_123 \n",
      "Score 1.2292176985223422e-06\n",
      "Zero:  1.3923236682626972e-06\n"
     ]
    }
   ],
   "source": [
    "from sklearn import linear_model\n",
    "lasso01 = linear_model.Lasso(alpha=0.1, normalize = True)\n",
    "lasso01.fit(X_train,y_train.loc[:,'Ret_121':'Ret_129'])\n",
    "pred_lasso01 = lasso01.predict(X_test)\n",
    "print('Lasso 01 Ret_123 ')\n",
    "print('Score',mean_squared_error(pred_lasso01, y_test.loc[:,'Ret_121':'Ret_129']))\n",
    "print('Zero: ', test_score_minutes)"
   ]
  },
  {
   "cell_type": "code",
   "execution_count": 172,
   "metadata": {},
   "outputs": [
    {
     "name": "stdout",
     "output_type": "stream",
     "text": [
      "Lasso 01 Ret_123 \n",
      "Score 0.0005354886744994992\n",
      "Zero: 0.0005966937810296722\n"
     ]
    }
   ],
   "source": [
    "from sklearn import linear_model\n",
    "lasso01 = linear_model.Lasso(alpha=0.1)\n",
    "lasso01.fit(X_train,y_train.Ret_PlusOne)\n",
    "pred_lasso01 = lasso01.predict(X_test)\n",
    "print('Lasso 01 Ret_123 ')\n",
    "print('Score',mean_squared_error(pred_lasso01, y_test.Ret_PlusOne, sample_weight = weights_daily))\n",
    "print('Zero:', test_score_daily)\n"
   ]
  },
  {
   "cell_type": "markdown",
   "metadata": {},
   "source": [
    "Poly Features"
   ]
  },
  {
   "cell_type": "code",
   "execution_count": 167,
   "metadata": {},
   "outputs": [
    {
     "name": "stdout",
     "output_type": "stream",
     "text": [
      "Lasso 01 Ret_123 \n",
      "Score 0.0005354518924535067\n",
      "Zero:  0.0005966937810296722\n"
     ]
    }
   ],
   "source": [
    "lasso01 = linear_model.Lasso(alpha=0.1, normalize = True)\n",
    "lasso01.fit(Train_Poly, y_train.Ret_PlusOne)\n",
    "pred_lasso01 = lasso01.predict(Test_Poly)\n",
    "print('Lasso 01 Ret_123 ')\n",
    "print('Score',mean_squared_error(pred_lasso01, y_test.Ret_PlusOne, sample_weight = weights_daily))\n",
    "print('Zero: ', test_score_daily)\n"
   ]
  },
  {
   "cell_type": "markdown",
   "metadata": {},
   "source": [
    "### GBR"
   ]
  },
  {
   "cell_type": "code",
   "execution_count": 54,
   "metadata": {},
   "outputs": [],
   "source": [
    "from sklearn.ensemble import GradientBoostingRegressor"
   ]
  },
  {
   "cell_type": "code",
   "execution_count": 160,
   "metadata": {},
   "outputs": [
    {
     "name": "stdout",
     "output_type": "stream",
     "text": [
      "GBR 100 Ret_121 \n",
      "Score 1.0157865930115265e-06\n",
      "Zero:  1.3923236682626972e-06\n"
     ]
    }
   ],
   "source": [
    "gbr = GradientBoostingRegressor(random_state = 0)\n",
    "gbr.fit(X_train, y_train.Ret_121)\n",
    "pred_gbr = gbr.predict(X_test)\n",
    "print('GBR 100 Ret_121 ')\n",
    "print('Score',mean_squared_error(pred_gbr, y_test.Ret_121, sample_weight = weights_daily))\n",
    "print('Zero: ', test_score_minutes)"
   ]
  },
  {
   "cell_type": "code",
   "execution_count": null,
   "metadata": {
    "scrolled": true
   },
   "outputs": [],
   "source": [
    "gbr = GradientBoostingRegressor()\n",
    "gbr.fit(X_train, y_train.Ret_121)\n",
    "pred_gbr = gbr.predict(X_test)\n",
    "print('GBR 100 Ret_121 ')\n",
    "print('Score',mean_squared_error(pred_gbr, y_test.Ret_121))\n",
    "print('Zero: ', test_score_minutes)"
   ]
  },
  {
   "cell_type": "code",
   "execution_count": 112,
   "metadata": {},
   "outputs": [
    {
     "name": "stdout",
     "output_type": "stream",
     "text": [
      "GBR 100 Ret_PlusOne \n"
     ]
    },
    {
     "ename": "TypeError",
     "evalue": "1D weights expected when shapes of a and weights differ.",
     "output_type": "error",
     "traceback": [
      "\u001b[1;31m---------------------------------------------------------------------------\u001b[0m",
      "\u001b[1;31mTypeError\u001b[0m                                 Traceback (most recent call last)",
      "\u001b[1;32m<ipython-input-112-b6dd2f6e97a2>\u001b[0m in \u001b[0;36m<module>\u001b[1;34m()\u001b[0m\n\u001b[0;32m      3\u001b[0m \u001b[0mpred_gbr\u001b[0m \u001b[1;33m=\u001b[0m \u001b[0mgbr\u001b[0m\u001b[1;33m.\u001b[0m\u001b[0mpredict\u001b[0m\u001b[1;33m(\u001b[0m\u001b[0mX_test\u001b[0m\u001b[1;33m)\u001b[0m\u001b[1;33m\u001b[0m\u001b[0m\n\u001b[0;32m      4\u001b[0m \u001b[0mprint\u001b[0m\u001b[1;33m(\u001b[0m\u001b[1;34m'GBR 100 Ret_PlusOne '\u001b[0m\u001b[1;33m)\u001b[0m\u001b[1;33m\u001b[0m\u001b[0m\n\u001b[1;32m----> 5\u001b[1;33m \u001b[0mprint\u001b[0m\u001b[1;33m(\u001b[0m\u001b[1;34m'Score'\u001b[0m\u001b[1;33m,\u001b[0m\u001b[0mmean_squared_error\u001b[0m\u001b[1;33m(\u001b[0m\u001b[0mpred_gbr\u001b[0m\u001b[1;33m,\u001b[0m \u001b[0my_test\u001b[0m\u001b[1;33m.\u001b[0m\u001b[0mRet_PlusOne\u001b[0m\u001b[1;33m,\u001b[0m \u001b[0msample_weight\u001b[0m \u001b[1;33m=\u001b[0m \u001b[0mweights_daily\u001b[0m\u001b[1;33m)\u001b[0m\u001b[1;33m)\u001b[0m\u001b[1;33m\u001b[0m\u001b[0m\n\u001b[0m\u001b[0;32m      6\u001b[0m \u001b[0mprint\u001b[0m\u001b[1;33m(\u001b[0m\u001b[1;34m'Zero: '\u001b[0m\u001b[1;33m,\u001b[0m \u001b[0mtest_score_daily\u001b[0m\u001b[1;33m)\u001b[0m\u001b[1;33m\u001b[0m\u001b[0m\n",
      "\u001b[1;32m~\\Anaconda3\\lib\\site-packages\\sklearn\\metrics\\regression.py\u001b[0m in \u001b[0;36mmean_squared_error\u001b[1;34m(y_true, y_pred, sample_weight, multioutput)\u001b[0m\n\u001b[0;32m    238\u001b[0m         y_true, y_pred, multioutput)\n\u001b[0;32m    239\u001b[0m     output_errors = np.average((y_true - y_pred) ** 2, axis=0,\n\u001b[1;32m--> 240\u001b[1;33m                                weights=sample_weight)\n\u001b[0m\u001b[0;32m    241\u001b[0m     \u001b[1;32mif\u001b[0m \u001b[0misinstance\u001b[0m\u001b[1;33m(\u001b[0m\u001b[0mmultioutput\u001b[0m\u001b[1;33m,\u001b[0m \u001b[0mstring_types\u001b[0m\u001b[1;33m)\u001b[0m\u001b[1;33m:\u001b[0m\u001b[1;33m\u001b[0m\u001b[0m\n\u001b[0;32m    242\u001b[0m         \u001b[1;32mif\u001b[0m \u001b[0mmultioutput\u001b[0m \u001b[1;33m==\u001b[0m \u001b[1;34m'raw_values'\u001b[0m\u001b[1;33m:\u001b[0m\u001b[1;33m\u001b[0m\u001b[0m\n",
      "\u001b[1;32m~\\Anaconda3\\lib\\site-packages\\numpy\\lib\\function_base.py\u001b[0m in \u001b[0;36maverage\u001b[1;34m(a, axis, weights, returned)\u001b[0m\n\u001b[0;32m   1144\u001b[0m             \u001b[1;32mif\u001b[0m \u001b[0mwgt\u001b[0m\u001b[1;33m.\u001b[0m\u001b[0mndim\u001b[0m \u001b[1;33m!=\u001b[0m \u001b[1;36m1\u001b[0m\u001b[1;33m:\u001b[0m\u001b[1;33m\u001b[0m\u001b[0m\n\u001b[0;32m   1145\u001b[0m                 raise TypeError(\n\u001b[1;32m-> 1146\u001b[1;33m                     \"1D weights expected when shapes of a and weights differ.\")\n\u001b[0m\u001b[0;32m   1147\u001b[0m             \u001b[1;32mif\u001b[0m \u001b[0mwgt\u001b[0m\u001b[1;33m.\u001b[0m\u001b[0mshape\u001b[0m\u001b[1;33m[\u001b[0m\u001b[1;36m0\u001b[0m\u001b[1;33m]\u001b[0m \u001b[1;33m!=\u001b[0m \u001b[0ma\u001b[0m\u001b[1;33m.\u001b[0m\u001b[0mshape\u001b[0m\u001b[1;33m[\u001b[0m\u001b[0maxis\u001b[0m\u001b[1;33m]\u001b[0m\u001b[1;33m:\u001b[0m\u001b[1;33m\u001b[0m\u001b[0m\n\u001b[0;32m   1148\u001b[0m                 raise ValueError(\n",
      "\u001b[1;31mTypeError\u001b[0m: 1D weights expected when shapes of a and weights differ."
     ]
    }
   ],
   "source": [
    "gbr = GradientBoostingRegressor(n_estimators= 100, random_state=0)\n",
    "gbr.fit(X_train, y_train.Ret_PlusOne)\n",
    "pred_gbr = gbr.predict(X_test)\n",
    "print('GBR 100 Ret_PlusOne ')\n",
    "print('Score',mean_squared_error(pred_gbr, y_test.Ret_PlusOne))\n",
    "print('Zero: ', test_score_daily)"
   ]
  },
  {
   "cell_type": "markdown",
   "metadata": {},
   "source": [
    "# Generating Output"
   ]
  },
  {
   "cell_type": "code",
   "execution_count": null,
   "metadata": {},
   "outputs": [],
   "source": []
  }
 ],
 "metadata": {
  "kernelspec": {
   "display_name": "Python 3",
   "language": "python",
   "name": "python3"
  },
  "language_info": {
   "codemirror_mode": {
    "name": "ipython",
    "version": 3
   },
   "file_extension": ".py",
   "mimetype": "text/x-python",
   "name": "python",
   "nbconvert_exporter": "python",
   "pygments_lexer": "ipython3",
   "version": "3.6.4"
  }
 },
 "nbformat": 4,
 "nbformat_minor": 2
}
