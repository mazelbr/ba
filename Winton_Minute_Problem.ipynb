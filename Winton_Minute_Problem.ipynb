{
 "cells": [
  {
   "cell_type": "code",
   "execution_count": 1,
   "metadata": {
    "scrolled": true
   },
   "outputs": [
    {
     "name": "stdout",
     "output_type": "stream",
     "text": [
      "C:\\Users\\matze\\Documents\\Winton\n"
     ]
    }
   ],
   "source": [
    "import numpy as np # linear algebra\n",
    "import pandas as pd # data processing, CSV file I/O (e.g. pd.read_csv)\n",
    "import matplotlib.pyplot as plt\n",
    "import seaborn as sns\n",
    "\n",
    "import os\n",
    "print(os.getcwd()) \n",
    "\n",
    "df_train = pd.read_csv('train.csv')\n",
    "df_test = pd.read_csv('test_2.csv')"
   ]
  },
  {
   "cell_type": "markdown",
   "metadata": {},
   "source": [
    "## Overview\n",
    "\n",
    "Long story short: Trying to Predict the next two day return rates based on the 25 features the past 2 day return rates and handcrafted features\n",
    "\n",
    "In terms of machine learning workflow i try to orientate on the **CRISP_DM** process\n",
    "\n",
    "**Business understanding**\n",
    "    This initial phase focuses on understanding the project objectives and requirements from a business perspective, and then converting this knowledge into a data mining problem definition, and a preliminary plan designed to achieve the objectives. A decision model, especially one built using the Decision Model and Notation standard can be used.\n",
    "    \n",
    "**Data understanding**\n",
    "    The data understanding phase starts with an initial data collection and proceeds with activities in order to get familiar with the data, to identify data quality problems, to discover first insights into the data, or to detect interesting subsets to form hypotheses for hidden information.\n",
    "    \n",
    "**Data preparation**\n",
    "    The data preparation phase covers all activities to construct the final dataset (data that will be fed into the modeling tool(s)) from the initial raw data. Data preparation tasks are likely to be performed multiple times, and not in any prescribed order. Tasks include table, record, and attribute selection as well as transformation and cleaning of data for modeling tools.\n",
    "    \n",
    "**Modeling**\n",
    "   In this phase, various modeling techniques are selected and applied, and their parameters are calibrated to optimal values. Typically, there are several techniques for the same data mining problem type. Some techniques have specific requirements on the form of data. Therefore, stepping back to the data preparation phase is often needed.\n",
    "    \n",
    "**Evaluation**\n",
    "    At this stage in the project you have built a model (or models) that appears to have high quality, from a data analysis perspective. Before proceeding to final deployment of the model, it is important to more thoroughly evaluate the model, and review the steps executed to construct the model, to be certain it properly achieves the business objectives. A key objective is to determine if there is some important business issue that has not been sufficiently considered. At the end of this phase, a decision on the use of the data mining results should be reached.\n",
    "    \n",
    "**Deployment**\n",
    "    Creation of the model is generally not the end of the project. Even if the purpose of the model is to increase knowledge of the data, the knowledge gained will need to be organized and presented in a way that is useful to the customer. Depending on the requirements, the deployment phase can be as simple as generating a report or as complex as implementing a repeatable data scoring (e.g. segment allocation) or data mining process. In many cases it will be the customer, not the data analyst, who will carry out the deployment steps. Even if the analyst deploys the model it is important for the customer to understand up front the actions which will need to be carried out in order to actually make use of the created models. \n"
   ]
  },
  {
   "cell_type": "code",
   "execution_count": 2,
   "metadata": {},
   "outputs": [
    {
     "name": "stdout",
     "output_type": "stream",
     "text": [
      "Number of Columns:: 40000\n",
      "Number of Rows:: 211\n",
      "Column Names::: ['Id', 'Feature_1', 'Feature_2', 'Feature_3', 'Feature_4', 'Feature_5', 'Feature_6', 'Feature_7', 'Feature_8', 'Feature_9', 'Feature_10', 'Feature_11', 'Feature_12', 'Feature_13', 'Feature_14', 'Feature_15', 'Feature_16', 'Feature_17', 'Feature_18', 'Feature_19', 'Feature_20', 'Feature_21', 'Feature_22', 'Feature_23', 'Feature_24', 'Feature_25', 'Ret_MinusTwo', 'Ret_MinusOne', 'Ret_2', 'Ret_3', 'Ret_4', 'Ret_5', 'Ret_6', 'Ret_7', 'Ret_8', 'Ret_9', 'Ret_10', 'Ret_11', 'Ret_12', 'Ret_13', 'Ret_14', 'Ret_15', 'Ret_16', 'Ret_17', 'Ret_18', 'Ret_19', 'Ret_20', 'Ret_21', 'Ret_22', 'Ret_23', 'Ret_24', 'Ret_25', 'Ret_26', 'Ret_27', 'Ret_28', 'Ret_29', 'Ret_30', 'Ret_31', 'Ret_32', 'Ret_33', 'Ret_34', 'Ret_35', 'Ret_36', 'Ret_37', 'Ret_38', 'Ret_39', 'Ret_40', 'Ret_41', 'Ret_42', 'Ret_43', 'Ret_44', 'Ret_45', 'Ret_46', 'Ret_47', 'Ret_48', 'Ret_49', 'Ret_50', 'Ret_51', 'Ret_52', 'Ret_53', 'Ret_54', 'Ret_55', 'Ret_56', 'Ret_57', 'Ret_58', 'Ret_59', 'Ret_60', 'Ret_61', 'Ret_62', 'Ret_63', 'Ret_64', 'Ret_65', 'Ret_66', 'Ret_67', 'Ret_68', 'Ret_69', 'Ret_70', 'Ret_71', 'Ret_72', 'Ret_73', 'Ret_74', 'Ret_75', 'Ret_76', 'Ret_77', 'Ret_78', 'Ret_79', 'Ret_80', 'Ret_81', 'Ret_82', 'Ret_83', 'Ret_84', 'Ret_85', 'Ret_86', 'Ret_87', 'Ret_88', 'Ret_89', 'Ret_90', 'Ret_91', 'Ret_92', 'Ret_93', 'Ret_94', 'Ret_95', 'Ret_96', 'Ret_97', 'Ret_98', 'Ret_99', 'Ret_100', 'Ret_101', 'Ret_102', 'Ret_103', 'Ret_104', 'Ret_105', 'Ret_106', 'Ret_107', 'Ret_108', 'Ret_109', 'Ret_110', 'Ret_111', 'Ret_112', 'Ret_113', 'Ret_114', 'Ret_115', 'Ret_116', 'Ret_117', 'Ret_118', 'Ret_119', 'Ret_120', 'Ret_121', 'Ret_122', 'Ret_123', 'Ret_124', 'Ret_125', 'Ret_126', 'Ret_127', 'Ret_128', 'Ret_129', 'Ret_130', 'Ret_131', 'Ret_132', 'Ret_133', 'Ret_134', 'Ret_135', 'Ret_136', 'Ret_137', 'Ret_138', 'Ret_139', 'Ret_140', 'Ret_141', 'Ret_142', 'Ret_143', 'Ret_144', 'Ret_145', 'Ret_146', 'Ret_147', 'Ret_148', 'Ret_149', 'Ret_150', 'Ret_151', 'Ret_152', 'Ret_153', 'Ret_154', 'Ret_155', 'Ret_156', 'Ret_157', 'Ret_158', 'Ret_159', 'Ret_160', 'Ret_161', 'Ret_162', 'Ret_163', 'Ret_164', 'Ret_165', 'Ret_166', 'Ret_167', 'Ret_168', 'Ret_169', 'Ret_170', 'Ret_171', 'Ret_172', 'Ret_173', 'Ret_174', 'Ret_175', 'Ret_176', 'Ret_177', 'Ret_178', 'Ret_179', 'Ret_180', 'Ret_PlusOne', 'Ret_PlusTwo', 'Weight_Intraday', 'Weight_Daily']\n",
      "Columns with missing Values:: ['Feature_1', 'Feature_2', 'Feature_3', 'Feature_4', 'Feature_6', 'Feature_8', 'Feature_9', 'Feature_10', 'Feature_11', 'Feature_12', 'Feature_13', 'Feature_14', 'Feature_15', 'Feature_16', 'Feature_17', 'Feature_18', 'Feature_19', 'Feature_20', 'Feature_21', 'Feature_22', 'Feature_23', 'Feature_24', 'Feature_25', 'Ret_2', 'Ret_3', 'Ret_4', 'Ret_5', 'Ret_6', 'Ret_7', 'Ret_8', 'Ret_9', 'Ret_10', 'Ret_11', 'Ret_12', 'Ret_13', 'Ret_14', 'Ret_15', 'Ret_16', 'Ret_17', 'Ret_18', 'Ret_19', 'Ret_20', 'Ret_21', 'Ret_22', 'Ret_23', 'Ret_24', 'Ret_25', 'Ret_26', 'Ret_27', 'Ret_28', 'Ret_29', 'Ret_30', 'Ret_31', 'Ret_32', 'Ret_33', 'Ret_34', 'Ret_35', 'Ret_36', 'Ret_37', 'Ret_38', 'Ret_39', 'Ret_40', 'Ret_41', 'Ret_42', 'Ret_43', 'Ret_44', 'Ret_45', 'Ret_46', 'Ret_47', 'Ret_48', 'Ret_49', 'Ret_50', 'Ret_51', 'Ret_52', 'Ret_53', 'Ret_54', 'Ret_55', 'Ret_56', 'Ret_57', 'Ret_58', 'Ret_59', 'Ret_60', 'Ret_61', 'Ret_62', 'Ret_63', 'Ret_64', 'Ret_65', 'Ret_66', 'Ret_67', 'Ret_68', 'Ret_69', 'Ret_70', 'Ret_71', 'Ret_72', 'Ret_73', 'Ret_74', 'Ret_75', 'Ret_76', 'Ret_77', 'Ret_78', 'Ret_79', 'Ret_80', 'Ret_81', 'Ret_82', 'Ret_83', 'Ret_84', 'Ret_85', 'Ret_86', 'Ret_87', 'Ret_88', 'Ret_89', 'Ret_90', 'Ret_91', 'Ret_92', 'Ret_93', 'Ret_94', 'Ret_95', 'Ret_96', 'Ret_97', 'Ret_98', 'Ret_99', 'Ret_100', 'Ret_101', 'Ret_102', 'Ret_103', 'Ret_104', 'Ret_105', 'Ret_106', 'Ret_107', 'Ret_108', 'Ret_109', 'Ret_110', 'Ret_111', 'Ret_112', 'Ret_113', 'Ret_114', 'Ret_115', 'Ret_116', 'Ret_117', 'Ret_118', 'Ret_119']\n",
      "<class 'pandas.core.frame.DataFrame'>\n",
      "RangeIndex: 40000 entries, 0 to 39999\n",
      "Columns: 211 entries, Id to Weight_Daily\n",
      "dtypes: float64(209), int64(2)\n",
      "memory usage: 64.4 MB\n",
      "None\n"
     ]
    }
   ],
   "source": [
    "print(\"Number of Columns::\", df_train.shape[0])\n",
    "print(\"Number of Rows::\", df_train.shape[1])\n",
    "print(\"Column Names:::\", df_train.columns.values.tolist())\n",
    "print(\"Columns with missing Values::\", df_train.columns[df_train.isnull().any()].tolist())\n",
    "### columns without missing values\n",
    "print(df_train.info())"
   ]
  },
  {
   "cell_type": "code",
   "execution_count": 3,
   "metadata": {},
   "outputs": [
    {
     "name": "stdout",
     "output_type": "stream",
     "text": [
      "[dtype('int64') dtype('float64')]\n"
     ]
    }
   ],
   "source": [
    "\n",
    "print(df_train.dtypes.unique())\n",
    "#all floats except feature 7 and id which are ints"
   ]
  },
  {
   "cell_type": "markdown",
   "metadata": {},
   "source": [
    "## Data preparation\n",
    "\n",
    "1. Data Processing & Wrangling\n",
    "The first step is to subset the data into training and test data as already mentioned somewhere feature_7 plays an outstanding role in terms of CV therefore I came up with a couple of more or less scientific solutions\n",
    "\n",
    "The SKLEarn package provides a method for grouped data even though I'm not too sure about that beeing the right solution in our case but it's worth trying especially if the Feature_7 is a stock ID or Group identifier\n",
    "\n",
    "Another approach could be sorting the data after Feature_7 to prevent leakage of futur to past in case Feature_7 is a timestamp\n",
    "\n",
    "With the trainingsdata we now can start with the preprocessing. To simplify the data we can get rid of unused columns like minute return rates and then start with preprocessing\n",
    "2. Feature Engineering & Scaling\n",
    "\n",
    "3. Feature Selection"
   ]
  },
  {
   "cell_type": "code",
   "execution_count": 57,
   "metadata": {
    "scrolled": true
   },
   "outputs": [
    {
     "name": "stdout",
     "output_type": "stream",
     "text": [
      "Feature_7    0\n",
      "Feature_5    0\n",
      "dtype: int64\n",
      "First Index of imputed train:  26194\n",
      "Shape of imputed train:  (26800, 119)\n",
      "First Index of imputed test:  34104\n",
      "Shape of imputed test:  (13200, 119)\n",
      "Missing Values in train:  False\n",
      "Missing Values in test:  False\n",
      "Cleaning the dataset all done\n"
     ]
    }
   ],
   "source": [
    "### PreProcessing and Wrangling\n",
    "\n",
    "### Typecasting\n",
    "\n",
    "\n",
    "#selecting used data\n",
    "#print(df_train.columns[1:28]) #all the minute data\n",
    "\n",
    "cols_to_drop = ['Feature_1', 'Feature_2', 'Feature_3', 'Feature_4',\n",
    "       'Feature_6', 'Feature_8', 'Feature_9', 'Feature_10',\n",
    "       'Feature_11', 'Feature_12', 'Feature_13', 'Feature_14', 'Feature_15',\n",
    "       'Feature_16', 'Feature_17', 'Feature_18', 'Feature_19', 'Feature_20',\n",
    "       'Feature_21', 'Feature_22', 'Feature_23', 'Feature_24', 'Feature_25', 'Ret_PlusOne', 'Ret_PlusTwo']\n",
    "train_raw = df_train.drop(cols_to_drop, axis = 'columns')\n",
    "train_raw = train_raw.drop('Weight_Daily', axis = 'columns')\n",
    "#print(train_raw.shape)\n",
    "#print(train_raw.head())\n",
    "\n",
    "# check for missing data especially for feature 5 and 7\n",
    "#print(train_raw[['Feature_7','Feature_5']].isnull().sum())\n",
    "#print(print(train_raw[['Feature_7','Feature_5']].sort_values('Feature_7')))\n",
    "#check missing values in target values\n",
    "#print(train_raw[['Ret_PlusOne','Ret_PlusTwo']].isnull().sum())\n",
    "\n",
    "# encode feature 5\n",
    "train_raw.Feature_5 = train_raw.Feature_5.astype(int)\n",
    "Feature_5_dummies = pd.get_dummies(train_raw['Feature_5'], prefix  = \"Feature_5\")\n",
    "#print(Feature_5_dummies)\n",
    "# merging data\n",
    "\n",
    "train_raw = pd.concat([train_raw, Feature_5_dummies], axis=1)\n",
    "#print(train_raw.head())\n",
    "\n",
    "\n",
    "# splitting in test and train data\n",
    "from sklearn.model_selection import train_test_split\n",
    "\n",
    "train_sort = train_raw.sort_values('Feature_7')\n",
    "\n",
    "#print(train_sort.columns.tolist())\n",
    "X= train_sort.drop(train_sort.columns[124 : 184], axis = 'columns') #dropping the ret_121 to ret_180\n",
    "#print(X.columns.tolist()) \n",
    "y= train_sort.loc[:, 'Ret_121':'Ret_180']\n",
    "#print(y.columns.tolist())\n",
    "\n",
    "#splitting into test and training data\n",
    "X_train, X_test, y_train, y_test = train_test_split(X, y, test_size=0.33, shuffle = False)\n",
    "\n",
    "\n",
    "################################\n",
    "####  From here on we need to proess train and test data seperately\n",
    "################################\n",
    "\n",
    "\n",
    "# imputation\n",
    "from sklearn.preprocessing import Imputer\n",
    "\n",
    "#check for missing values in test and training\n",
    "#print('count missings in training data', X.isnull().sum())\n",
    "\n",
    "#print('count missing in test data', y.isnull().sum())\n",
    "# no missing values in targets\n",
    "\n",
    "#imputation columnvise because of the distribution of each stock\n",
    "#assumption that imputation with zeros could make sense especially in case of zeros not beeing in the return rates\n",
    "# -> no data no buy/sells\n",
    "#print('difference between not zeros and length: ', np.count_nonzero(X_train.Ret_2.values)- len(X_train.Ret_2.values)) \n",
    "#there are zeros in the returns assumption not correct\n",
    "minute_returns = X_train.columns[5:124]\n",
    "\n",
    "mean_imputer = Imputer(axis=1)\n",
    "\n",
    "mean_imputer.fit(X_train[minute_returns])\n",
    "#print(X_train[minute_returns])\n",
    "# i'm pretty sure i dont need to subset the dataset for transformation because the only nan's are in the minute rates\n",
    "########################### double check -----> doesn't work\n",
    "\n",
    "# we need to rename the columns and assing the index of x train to the dataset so we can concate them\n",
    "#the imputer only calculates the values and removes the col names therefore we need to add them again\n",
    "X_train_imp = pd.DataFrame(mean_imputer.transform(X_train[minute_returns]), columns= minute_returns, index = X_train.index)\n",
    "#print('printing the index of x train',X_train.index)\n",
    "#print('printing the index of imputed',X_train_imp.index)\n",
    "#result = pd.concat([df1, s2, s2, s2], axis=1)\n",
    "\n",
    "X_train = pd.concat([X_train.drop(minute_returns,axis='columns'), X_train_imp], axis=1).drop('Id', axis=1)\n",
    "\n",
    "#print('test data before imputation',X_test.head())\n",
    "X_test_imp = pd.DataFrame(mean_imputer.transform(X_test[minute_returns]), columns= minute_returns, index = X_test.index)\n",
    "X_test = pd.concat([X_test.drop(minute_returns,axis='columns'), X_test_imp], axis=1).drop('Id', axis=1)\n",
    "#print('test data after imputation', X_test.head())\n",
    "\n",
    "print('First Index of imputed train: ', X_train_imp.index.tolist()[0])\n",
    "print('Shape of imputed train: ', X_train_imp.shape)\n",
    "print('First Index of imputed test: ', X_test_imp.index.tolist()[0])\n",
    "print('Shape of imputed test: ', X_test_imp.shape)\n",
    "print('Missing Values in train: ', X_train.isnull().any().any())\n",
    "print('Missing Values in test: ', X_test.isnull().any().any())\n",
    "\n",
    "#Whyever the the index plus one is added to the dataframe as an Id column, absolutely don't get it but i think we can just drop them\n",
    "\n",
    "\n",
    "\n",
    "\n",
    "#####\n",
    "# At this point we have a clean dataset and can start with the feature engineering\n",
    "#####\n",
    "\n",
    "print('Cleaning the dataset all done')\n"
   ]
  },
  {
   "cell_type": "markdown",
   "metadata": {},
   "source": [
    "### Fature Engineering (training)"
   ]
  },
  {
   "cell_type": "code",
   "execution_count": 59,
   "metadata": {},
   "outputs": [
    {
     "name": "stdout",
     "output_type": "stream",
     "text": [
      "count_features_before 159\n",
      "Feature calculations all done\n",
      "0  New Features generated\n"
     ]
    }
   ],
   "source": [
    "\n",
    "#####################\n",
    "# feature engineering\n",
    "#####################\n",
    "count_train_features = X_train.shape[1]\n",
    "\n",
    "print('count_features_before', count_train_features)\n",
    "#Delta Return\n",
    "X_train['Delta_Ret120'] = pd.DataFrame((X_train[minute_returns].cumsum(axis=1))).iloc[:,-1]\n",
    "X_train['Delta_Ret119'] = pd.DataFrame((X_train[minute_returns].cumsum(axis=1))).iloc[:,-2]\n",
    "X_train['Delta_Ret118'] = pd.DataFrame((X_train[minute_returns].cumsum(axis=1))).iloc[:,-3]\n",
    "X_train['Delta_Ret5'] = pd.DataFrame(X_train[minute_returns[len(minute_returns)-5:len(minute_returns)]].cumsum(axis=1)).iloc[:, -1]\n",
    "X_train['Delta_Ret_last60'] = pd.DataFrame(X_train[minute_returns[len(minute_returns)-60:len(minute_returns)]].cumsum(axis=1)).iloc[:, -1]\n",
    "#weird behaviour when i select the last column with minus one all good but when im selecting the last\n",
    "# few minus one gives me the second last ---> solved difference in indexing of range and location\n",
    "\n",
    "#concat\n",
    "#df_Delta_Ret = pd.DataFrame(pd.concat([Delta_Ret120, Delta_Ret119, Delta_Ret118, Delta_Ret5], axis=1).values, columns= ['Delta_Ret120', 'Delta_Ret119', 'Delta_Ret118', 'Delta_Ret5'], index = X_train.index)\n",
    "\n",
    "\n",
    "#Volatility\n",
    "\n",
    "#MAD\n",
    "X_train['MAD_120'] = X_train[minute_returns].mad(axis=1).rename('MAD_120')\n",
    "X_train['MAD_60'] = X_train[minute_returns[len(minute_returns)-60:len(minute_returns)]].mad(axis=1).rename('MAD_60')\n",
    "X_train['MAD_30'] = X_train[minute_returns[len(minute_returns)-30:len(minute_returns)]].mad(axis=1).rename('MAD_30')\n",
    "X_train['MAD_15'] = X_train[minute_returns[len(minute_returns)-15:len(minute_returns)]].mad(axis=1).rename('MAD_15')\n",
    "#ratio of last 15 to 120 stuff like that\n",
    "X_train['MAD_60_120'] = X_train.MAD_60.divide(X_train.MAD_120)\n",
    "X_train['MAD_15_120'] = X_train.MAD_15.divide(X_train.MAD_120)\n",
    "\n",
    "\n",
    "#concat\n",
    "#df_MAD = (pd.concat([MAD_120, MAD_60, MAD_30, MAD_15], axis = 1))\n",
    "\n",
    "#Trend_previous\n",
    "#df['binary'] = (df['number'] < 15).astype(int)\n",
    "#print((X_train['Ret_MinusOne'] < 0).astype(int))\n",
    "X_train['Trend_Ret_MinusOne'] = (X_train['Ret_MinusOne'] < 0).astype(int)\n",
    "X_train['Trend_120'] = (X_train['Ret_120'] < 0).astype(int)\n",
    "#X_train['Trend_cum_120'] = (Delta_Ret120 < 0).astype(int) problem with indexing\n",
    "\n",
    "#MEAN last 120 60 30 15\n",
    "X_train['Mean_120']  = X_train[minute_returns].mean(axis=1)\n",
    "X_train['Mean_60'] = X_train[minute_returns[len(minute_returns)-60:len(minute_returns)]].mean(axis=1)\n",
    "X_train['Mean_30'] = X_train[minute_returns[len(minute_returns)-30:len(minute_returns)]].mean(axis=1)\n",
    "X_train['Mean_15'] = X_train[minute_returns[len(minute_returns)-15:len(minute_returns)]].mean(axis=1)\n",
    "#difference in means\n",
    "#trend mean\n",
    "\n",
    "X_train['High_Low'] = X_train[minute_returns].max(axis=1).sub(X_train[minute_returns].min(axis=1))\n",
    "#print(X_train['High_Low'])\n",
    "#first half vs last half\n",
    "\n",
    "X_train['High'] = X_train[minute_returns].max(axis=1)\n",
    "X_train['Low'] = X_train[minute_returns].min(axis=1)\n",
    "X_train['First'] = X_train['Ret_2']\n",
    "X_train['Last'] = X_train['Ret_120']\n",
    "#binning last minute\n",
    "\n",
    "#Alphas\n",
    "X_train['Low-Last'] =X_train.Low.sub(X_train.Last)\n",
    "X_train['High-Last']=X_train.High.sub(X_train.Last)\n",
    "X_train['Alpha_101'] = (X_train['Delta_Ret120'].divide(X_train['High_Low'].add(0.001)))\n",
    "#X_train['Alpha_54'] = ()\n",
    "\n",
    "print('Feature calculations all done')\n",
    "print (count_train_features - X_train.shape[1], ' New Features generated')"
   ]
  },
  {
   "cell_type": "markdown",
   "metadata": {},
   "source": [
    "### Feature Engineering on test"
   ]
  },
  {
   "cell_type": "code",
   "execution_count": 75,
   "metadata": {},
   "outputs": [
    {
     "name": "stdout",
     "output_type": "stream",
     "text": [
      "count_features_before 159\n",
      "Shape:  (13200, 159)\n",
      "Shape:  (13200, 159)\n",
      "Shape:  (13200, 159)\n",
      "Feature calculations all done\n",
      "0  New Features generated\n",
      "Shape of train (26800, 159)\n",
      "Shape of test (13200, 159)\n"
     ]
    }
   ],
   "source": [
    "count_test_features = X_test.shape[1]\n",
    "\n",
    "print('count_features_before', count_test_features)\n",
    "print('Shape: ', X_test.shape)\n",
    "#Delta Return\n",
    "X_test['Delta_Ret120'] = pd.DataFrame((X_test[minute_returns].cumsum(axis=1))).iloc[:,-1]\n",
    "X_test['Delta_Ret119'] = pd.DataFrame((X_test[minute_returns].cumsum(axis=1))).iloc[:,-2]\n",
    "X_test['Delta_Ret118'] = pd.DataFrame((X_test[minute_returns].cumsum(axis=1))).iloc[:,-3]\n",
    "X_test['Delta_Ret5'] = pd.DataFrame(X_test[minute_returns[len(minute_returns)-5:len(minute_returns)]].cumsum(axis=1)).iloc[:, -1]\n",
    "X_test['Delta_Ret_last60'] = pd.DataFrame(X_test[minute_returns[len(minute_returns)-60:len(minute_returns)]].cumsum(axis=1)).iloc[:, -1]\n",
    "#weird behaviour when i select the last column with minus one all good but when im selecting the last\n",
    "# few minus one gives me the second last ---> solved difference in indexing of range and location\n",
    "\n",
    "#concat\n",
    "#df_Delta_Ret = pd.DataFrame(pd.concat([Delta_Ret120, Delta_Ret119, Delta_Ret118, Delta_Ret5], axis=1).values, columns= ['Delta_Ret120', 'Delta_Ret119', 'Delta_Ret118', 'Delta_Ret5'], index = X_train.index)\n",
    "\n",
    "print('Shape: ', X_test.shape)\n",
    "#Volatility\n",
    "\n",
    "#MAD\n",
    "X_test['MAD_120'] = X_test[minute_returns].mad(axis=1).rename('MAD_120')\n",
    "X_test['MAD_60'] = X_test[minute_returns[len(minute_returns)-60:len(minute_returns)]].mad(axis=1).rename('MAD_60')\n",
    "X_test['MAD_30'] = X_test[minute_returns[len(minute_returns)-30:len(minute_returns)]].mad(axis=1).rename('MAD_30')\n",
    "X_test['MAD_15'] = X_test[minute_returns[len(minute_returns)-15:len(minute_returns)]].mad(axis=1).rename('MAD_15')\n",
    "#ratio of last 15 to 120 stuff like that\n",
    "X_test['MAD_60_120'] = X_test.MAD_60.divide(X_test.MAD_120)\n",
    "X_test['MAD_15_120'] = X_test.MAD_15.divide(X_test.MAD_120)\n",
    "\n",
    "print('Shape: ', X_test.shape)\n",
    "\n",
    "#concat\n",
    "#df_MAD = (pd.concat([MAD_120, MAD_60, MAD_30, MAD_15], axis = 1))\n",
    "\n",
    "#Trend_previous\n",
    "#df['binary'] = (df['number'] < 15).astype(int)\n",
    "#print((X_train['Ret_MinusOne'] < 0).astype(int))\n",
    "X_test['Trend_Ret_MinusOne'] = (X_test['Ret_MinusOne'] < 0).astype(int)\n",
    "X_test['Trend_120'] = (X_test['Ret_120'] < 0).astype(int)\n",
    "#X_train['Trend_cum_120'] = (Delta_Ret120 < 0).astype(int) problem with indexing\n",
    "\n",
    "#MEAN last 120 60 30 15\n",
    "X_test['Mean_120']  = X_test[minute_returns].mean(axis=1)\n",
    "X_test['Mean_60'] = X_test[minute_returns[len(minute_returns)-60:len(minute_returns)]].mean(axis=1)\n",
    "X_test['Mean_30'] = X_test[minute_returns[len(minute_returns)-30:len(minute_returns)]].mean(axis=1)\n",
    "X_test['Mean_15'] = X_test[minute_returns[len(minute_returns)-15:len(minute_returns)]].mean(axis=1)\n",
    "#difference in means\n",
    "#trend mean\n",
    "\n",
    "X_test['High_Low'] = X_test[minute_returns].max(axis=1).sub(X_test[minute_returns].min(axis=1))\n",
    "\n",
    "#first half vs last half\n",
    "\n",
    "X_test['High'] = X_test[minute_returns].max(axis=1)\n",
    "X_test['Low'] = X_test[minute_returns].min(axis=1)\n",
    "X_test['First'] = X_test['Ret_2']\n",
    "X_test['Last'] = X_test['Ret_120']\n",
    "#binning last minute\n",
    "\n",
    "#Alphas\n",
    "X_test['Low-Last'] =X_test.Low.sub(X_test.Last)\n",
    "X_test['High-Last']=X_test.High.sub(X_test.Last)\n",
    "X_test['Alpha_101'] = (X_test['Delta_Ret120'].divide(X_test['High_Low'].add(0.001)))\n",
    "#X_train['Alpha_54'] = ()\n",
    "\n",
    "print('Feature calculations all done')\n",
    "print (count_test_features - X_test.shape[1], ' New Features generated')\n",
    "\n",
    "print(\"Shape of train\", X_train.shape)\n",
    "print('Shape of test', X_test.shape)"
   ]
  },
  {
   "cell_type": "markdown",
   "metadata": {},
   "source": [
    "### Scaling"
   ]
  },
  {
   "cell_type": "code",
   "execution_count": 101,
   "metadata": {},
   "outputs": [
    {
     "name": "stdout",
     "output_type": "stream",
     "text": [
      "Scaling for training data done\n",
      "Shape of scaled Data is:  (26800, 40)\n",
      "Scaling for test data done\n",
      "Shape of scaled Data is:  (13200, 40)\n"
     ]
    }
   ],
   "source": [
    "# scaling\n",
    "from sklearn.preprocessing import StandardScaler, MinMaxScaler, RobustScaler\n",
    "\n",
    "#fit scaler from trainingsdata\n",
    "scaler = RobustScaler()\n",
    "#fit and transform training data, i think we need to subset it into fit and train so we can use it for the test data as well\n",
    "X_train_scaled = pd.DataFrame(scaler.fit_transform(X_train),index = X_train.index, columns = X_train.columns).drop(minute_returns, axis = 'columns')\n",
    "#print(X_train_scaled)\n",
    "print('Scaling for training data done')\n",
    "print('Shape of scaled Data is: ', X_train_scaled.shape)\n",
    "\n",
    "X_test_scaled = pd.DataFrame(scaler.transform(X_test), index = X_test.index, columns = X_test.columns).drop(minute_returns, axis = 'columns')\n",
    "print('Scaling for test data done')\n",
    "print('Shape of scaled Data is: ', X_test_scaled.shape)"
   ]
  },
  {
   "cell_type": "markdown",
   "metadata": {},
   "source": [
    "### Feature Selection"
   ]
  },
  {
   "cell_type": "code",
   "execution_count": 24,
   "metadata": {},
   "outputs": [
    {
     "name": "stdout",
     "output_type": "stream",
     "text": [
      "Start Selection\n",
      "fit\n",
      "[0.         0.03190688 0.03248543 0.         0.         0.\n",
      " 0.         0.         0.         0.         0.         0.\n",
      " 0.         0.         0.         0.05755725 0.0224359  0.08142227\n",
      " 0.03187219 0.         0.03510401 0.30428417 0.06518463 0.07204265\n",
      " 0.         0.         0.         0.         0.         0.02764483\n",
      " 0.04826703 0.05625066 0.02674869 0.01446339 0.09233003 0.\n",
      " 0.         0.         0.         0.        ]\n"
     ]
    },
    {
     "data": {
      "text/plain": [
       "'\\nfrom xgboost import XGBClassifier\\nfrom xgboost import plot_importance\\nxgb = XGBClassifier()\\nxgb.fit(X_train_scaled, y_train)\\n# plot feature importance\\nplot_importance(model)\\n'"
      ]
     },
     "execution_count": 24,
     "metadata": {},
     "output_type": "execute_result"
    },
    {
     "data": {
      "image/png": "[encoded data removed]",
      "text/plain": [
       "<matplotlib.figure.Figure at 0x1f195305be0>"
      ]
     },
     "metadata": {},
     "output_type": "display_data"
    }
   ],
   "source": [
    "# selection\n",
    "print('Start Selection')\n",
    "\n",
    "def plot_feature_importance(model):\n",
    "    n_features = X_train_scaled.shape[1]\n",
    "    plt.figure(figsize=(30,30))\n",
    "    plt.barh(range(n_features), model.feature_importances_, align='center')\n",
    "    plt.yticks(np.arange(n_features), X_train_scaled.columns.values)\n",
    "    \n",
    "\n",
    "from sklearn.ensemble import RandomForestRegressor\n",
    "\n",
    "regr = RandomForestRegressor(n_estimators = 20, max_depth=2, random_state=0)\n",
    "\n",
    "regr.fit(X_train_scaled, y_train)\n",
    "print('fit')\n",
    "\n",
    "print(regr.feature_importances_)\n",
    "plot_feature_importance(regr)\n",
    "### kurze zwischen finding, je höher ich die maximale tiefe wähle, desto wichtiger wird feature_7 hier sieht man klares overfitting\n",
    "\n",
    "\n",
    "\n",
    "'''\n",
    "from xgboost import XGBClassifier\n",
    "from xgboost import plot_importance\n",
    "xgb = XGBClassifier()\n",
    "xgb.fit(X_train_scaled, y_train)\n",
    "# plot feature importance\n",
    "plot_importance(model)\n",
    "'''\n",
    "\n",
    "\n",
    "#model = SelectFromModel(clf, prefit=True)\n",
    "#X_new = model.transform(X)\n",
    "#X_new.shape               \n",
    "\n",
    "# evaluation"
   ]
  },
  {
   "cell_type": "markdown",
   "metadata": {},
   "source": [
    "### modelling"
   ]
  },
  {
   "cell_type": "code",
   "execution_count": 107,
   "metadata": {},
   "outputs": [
    {
     "data": {
      "text/plain": [
       "0.0006446258787144891"
      ]
     },
     "execution_count": 107,
     "metadata": {},
     "output_type": "execute_result"
    }
   ],
   "source": [
    "from sklearn.metrics import mean_absolute_error\n",
    "\n",
    "pred_zero = np.zeros(shape= y_test.shape)\n",
    "# create a rudimental Zero Benchamrk\n",
    "mean_absolute_error(y_test, pred_zero, sample_weight=None, multioutput= 'uniform_average')\n",
    "#mean_absolute_error(y_test, pred_zero, sample_weight=None, multioutput= 'raw_values')"
   ]
  },
  {
   "cell_type": "code",
   "execution_count": 134,
   "metadata": {},
   "outputs": [
    {
     "name": "stdout",
     "output_type": "stream",
     "text": [
      "Results for unscaled and unweighted ridge regression\n",
      "Training score:  0.0006040858940205472\n",
      "Test score:  0.0006350812419158201\n",
      "Results for scaled and unweighted ridge regression\n",
      "Training score:  0.0006157247126934286\n",
      "Test score:  0.0006478240092355063\n",
      "Results for scaled and weighted ridge regression\n",
      "Training score:  0.0006133690321736047\n",
      "Test score:  0.0006444215081930356\n"
     ]
    },
    {
     "data": {
      "text/plain": [
       "'\\nQUESTION: Not quite sure how to use the weights, Winton says\\nWeight_Intraday: weight used to evaluate intraday return predictions Ret 121 to 180\\nWeight_Daily: weight used to evaluate daily return predictions (Ret_PlusOne and Ret_PlusTwo).\\ntherefore i asume i need them for the weights are for the scorer, but i could improve the \\n'"
      ]
     },
     "execution_count": 134,
     "metadata": {},
     "output_type": "execute_result"
    }
   ],
   "source": [
    "### Ridge Regression\n",
    "from sklearn.linear_model import Ridge\n",
    "\n",
    "#Ridge unscaled unweighted\n",
    "ridge = Ridge(alpha=.30)\n",
    "ridge.fit(X_train, y_train)\n",
    "ridge_score_train = mean_absolute_error(ridge.predict(X_train), y_train, sample_weight= X_train['Weight_Intraday'])\n",
    "ridge_score_test = mean_absolute_error(ridge.predict(X_test), y_test, sample_weight= X_test['Weight_Intraday'])\n",
    "print('Results for unscaled and unweighted ridge regression')\n",
    "print(\"Training score: \",ridge_score_train)\n",
    "print(\"Test score: \",ridge_score_test)\n",
    "#logis_score_test = logis.score(data_test, label_test)\n",
    "#print(\"Testing score: \",logis_score_test)\n",
    "\n",
    "#Ridge scaled unweighted\n",
    "ridge1 = Ridge(alpha=1.0)\n",
    "ridge1.fit(X_train_scaled, y_train)\n",
    "ridge_score_train = mean_absolute_error(ridge1.predict(X_train_scaled), y_train, sample_weight= X_train['Weight_Intraday'])\n",
    "ridge_score_test = mean_absolute_error(ridge1.predict(X_test_scaled), y_test, sample_weight= X_test['Weight_Intraday'])\n",
    "print('Results for scaled and unweighted ridge regression')\n",
    "print(\"Training score: \",ridge_score_train)\n",
    "print(\"Test score: \",ridge_score_test)\n",
    "\n",
    "#Ridge scaled weighted\n",
    "ridge2 = Ridge(alpha=.10)\n",
    "ridge2.fit(X_train_scaled, y_train, sample_weight= X_train['Weight_Intraday'])\n",
    "ridge_score_train = mean_absolute_error(ridge2.predict(X_train_scaled), y_train, sample_weight= X_train['Weight_Intraday'])\n",
    "ridge_score_test = mean_absolute_error(ridge2.predict(X_test_scaled), y_test, sample_weight= X_test['Weight_Intraday'])\n",
    "print('Results for scaled and weighted ridge regression')\n",
    "print(\"Training score: \",ridge_score_train)\n",
    "print(\"Test score: \",ridge_score_test)\n",
    "\n",
    "\n",
    "'''\n",
    "QUESTION: Not quite sure how to use the weights, Winton says\n",
    "Weight_Intraday: weight used to evaluate intraday return predictions Ret 121 to 180\n",
    "Weight_Daily: weight used to evaluate daily return predictions (Ret_PlusOne and Ret_PlusTwo).\n",
    "therefore i asume i need them for the weights are for the scorer, but i could improve the \n",
    "'''"
   ]
  },
  {
   "cell_type": "code",
   "execution_count": 147,
   "metadata": {},
   "outputs": [
    {
     "name": "stdout",
     "output_type": "stream",
     "text": [
      "Results for scaled lasso regression\n",
      "Training score:  0.0005988084653868626\n",
      "Test score:  0.000615406995800509\n",
      "Results for unscaled lasso regression\n",
      "Training score:  0.0005991629829393906\n",
      "Test score:  0.0006160197671127945\n"
     ]
    }
   ],
   "source": [
    "### Lasso Regression\n",
    "from sklearn.linear_model import Lasso\n",
    "lasso = Lasso(alpha = 1.0)\n",
    "lasso.fit(X_train_scaled, y_train)\n",
    "lasso_score_train = mean_absolute_error(lasso.predict(X_train_scaled), y_train, sample_weight= X_train['Weight_Intraday'])\n",
    "lasso_score_test = mean_absolute_error(lasso.predict(X_test_scaled), y_test, sample_weight= X_test['Weight_Intraday'])\n",
    "print('Results for scaled lasso regression')\n",
    "print(\"Training score: \",lasso_score_train)\n",
    "print(\"Test score: \",lasso_score_test)\n",
    "\n",
    "lasso1 = Lasso(alpha = 1.0)\n",
    "lasso1.fit(X_train, y_train)\n",
    "lasso_score_train = mean_absolute_error(lasso1.predict(X_train), y_train, sample_weight= X_train['Weight_Intraday'])\n",
    "lasso_score_test = mean_absolute_error(lasso1.predict(X_test), y_test, sample_weight= X_test['Weight_Intraday'])\n",
    "print('Results for unscaled lasso regression')\n",
    "print(\"Training score: \",lasso_score_train)\n",
    "print(\"Test score: \",lasso_score_test)\n"
   ]
  },
  {
   "cell_type": "code",
   "execution_count": null,
   "metadata": {},
   "outputs": [],
   "source": [
    "### Random Forest\n",
    "from sklearn.ensemble import RandomForestRegressor\n",
    "rand_for = RandomForestRegressor(n_estimators = 2, max_depth=2, random_state=0, criterion = \"mae\")\n",
    "rand_for.fit(X_train, y_train)\n",
    "\n",
    "train_score = mean_absolute_error(rand_for.predict(X_train), y_train, sample_weight= X_train['Weight_Intraday'])\n",
    "test_score = mean_absolute_error(rand_for.predict(X_test), y_test, sample_weight= X_test['Weight_Intraday'])\n",
    "print('Results for Random Forest max depth 2')\n",
    "print(\"Training score: \",train_score)\n",
    "print(\"Test score: \",test_score)"
   ]
  },
  {
   "cell_type": "code",
   "execution_count": null,
   "metadata": {},
   "outputs": [],
   "source": [
    "### Gradien Boost\n",
    "from sklearn.ensemble import GradientBoostingRegressor\n",
    "gbreg = "
   ]
  }
 ],
 "metadata": {
  "kernelspec": {
   "display_name": "Python 3",
   "language": "python",
   "name": "python3"
  },
  "language_info": {
   "codemirror_mode": {
    "name": "ipython",
    "version": 3
   },
   "file_extension": ".py",
   "mimetype": "text/x-python",
   "name": "python",
   "nbconvert_exporter": "python",
   "pygments_lexer": "ipython3",
   "version": "3.6.4"
  }
 },
 "nbformat": 4,
 "nbformat_minor": 2
}
