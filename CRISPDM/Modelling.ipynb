{
 "cells": [
  {
   "cell_type": "code",
   "execution_count": 5,
   "metadata": {},
   "outputs": [
    {
     "name": "stdout",
     "output_type": "stream",
     "text": [
      "C:\\Users\\matze\\Documents\\Winton\\CRISPDM\n"
     ]
    }
   ],
   "source": [
    "import numpy as np # linear algebra\n",
    "import pandas as pd # data processing, CSV file I/O (e.g. pd.read_csv)\n",
    "import matplotlib.pyplot as plt\n",
    "import seaborn as sns\n",
    "\n",
    "import os\n",
    "print(os.getcwd()) \n",
    "\n"
   ]
  },
  {
   "cell_type": "code",
   "execution_count": 7,
   "metadata": {},
   "outputs": [],
   "source": [
    "X = pd.read_csv('X_features.csv', index_col=0)\n",
    "y = pd.read_csv('y_features.csv', index_col=0)"
   ]
  },
  {
   "cell_type": "markdown",
   "metadata": {},
   "source": [
    "### Score and Benchmark"
   ]
  },
  {
   "cell_type": "code",
   "execution_count": 10,
   "metadata": {},
   "outputs": [],
   "source": [
    "from sklearn.metrics import mean_absolute_error\n",
    "zeros = pd.DataFrame(np.zeros(y.shape), columns = y.columns)\n"
   ]
  },
  {
   "cell_type": "code",
   "execution_count": 13,
   "metadata": {},
   "outputs": [
    {
     "name": "stdout",
     "output_type": "stream",
     "text": [
      "0.021625530418345765\n",
      "0.0006331533763565462\n",
      "0.0155220073711832\n"
     ]
    }
   ],
   "source": [
    "test_score = mean_absolute_error(y, zeros)\n",
    "test_score_minutes = mean_absolute_error(y.loc[:,'Ret_121':'Ret_180'], zeros.loc[:,'Ret_121':'Ret_180'])\n",
    "test_score_daily = mean_absolute_error(y.loc[:,'Ret_PlusOne':'Ret_PlusTwo'], zeros.loc[:,'Ret_PlusOne':'Ret_PlusTwo'])\n",
    "print(test_score)\n",
    "print(test_score_minutes)\n",
    "print(test_score_daily)"
   ]
  },
  {
   "cell_type": "markdown",
   "metadata": {},
   "source": [
    "## Linear Regression"
   ]
  },
  {
   "cell_type": "code",
   "execution_count": 2,
   "metadata": {},
   "outputs": [],
   "source": [
    "from sklearn.linear_model import LinearRegression\n",
    "from sklearn.linear_model import Ridge\n",
    "from sklearn.linear_model import Lasso\n",
    "linreg = LinearRegression()\n",
    "ridge = Ridge()\n",
    "lasso = Lasso()"
   ]
  },
  {
   "cell_type": "code",
   "execution_count": 101,
   "metadata": {},
   "outputs": [
    {
     "name": "stdout",
     "output_type": "stream",
     "text": [
      "Score: [-0.00061921 -0.00062317 -0.00066605 -0.000601   -0.00059505 -0.00073446\n",
      " -0.00062817 -0.00066855 -0.00059782 -0.00055231]\n",
      "Score Mean: -0.0006285793252795579\n",
      "Score Max: -0.000552307075398458 Score Min: -0.0007344601337599301\n",
      "Benchmark: 0.0006331533763565462\n"
     ]
    }
   ],
   "source": [
    "from sklearn.model_selection import cross_val_score\n",
    "from sklearn.model_selection import GroupKFold\n",
    "\n",
    "winton_cv = cross_val_score(linreg, X, y.Ret_121, X.Feature_7, cv=GroupKFold(n_splits=10),scoring='neg_mean_absolute_error')\n",
    "print('Score: {}'.format(winton_cv))\n",
    "print('Score Mean: {}'.format(winton_cv.mean()))\n",
    "print('Score Max: {}'.format(winton_cv.max()), 'Score Min: {}'.format(winton_cv.min()))\n",
    "print('Benchmark: {}'.format(test_score_minutes))"
   ]
  },
  {
   "cell_type": "code",
   "execution_count": 106,
   "metadata": {},
   "outputs": [
    {
     "name": "stdout",
     "output_type": "stream",
     "text": [
      "Score: [-0.00059576 -0.00060948 -0.00065632 -0.00058282 -0.00058428 -0.00074498\n",
      " -0.00062312 -0.0006665  -0.00058426 -0.00053056]\n",
      "Score Mean: -0.0006178083596747471\n",
      "Score Max: -0.0005305583771803281 Score Min: -0.000744977287942406\n",
      "Benchmark: 0.0006331533763565462\n"
     ]
    }
   ],
   "source": [
    "ridge = Ridge(normalize=True)\n",
    "winton_cv = cross_val_score(ridge, X, y.Ret_121, X.Feature_7, cv=GroupKFold(n_splits=10),scoring='neg_mean_absolute_error')\n",
    "print('Score: {}'.format(winton_cv))\n",
    "print('Score Mean: {}'.format(winton_cv.mean()))\n",
    "print('Score Max: {}'.format(winton_cv.max()), 'Score Min: {}'.format(winton_cv.min()))\n",
    "print('Benchmark: {}'.format(test_score_minutes))"
   ]
  },
  {
   "cell_type": "code",
   "execution_count": 19,
   "metadata": {},
   "outputs": [
    {
     "name": "stdout",
     "output_type": "stream",
     "text": [
      "Score: [-0.00058496 -0.0005963  -0.00064945 -0.00056168 -0.00057212 -0.00074801\n",
      " -0.00060083 -0.00067214 -0.0005735  -0.00052119]\n",
      "Score Mean: -0.0006080174419997037\n",
      "Score Max: -0.0005211943114080878 Score Min: -0.0007480140423706209\n",
      "Benchmark: 0.0006331533763565462\n"
     ]
    }
   ],
   "source": [
    "winton_cv = cross_val_score(lasso, X, y.Ret_121, X.Feature_7, cv=GroupKFold(n_splits=10),scoring='neg_mean_absolute_error')\n",
    "print('Score: {}'.format(winton_cv))\n",
    "print('Score Mean: {}'.format(winton_cv.mean()))\n",
    "print('Score Max: {}'.format(winton_cv.max()), 'Score Min: {}'.format(winton_cv.min()))\n",
    "print('Benchmark: {}'.format(test_score_minutes))"
   ]
  },
  {
   "cell_type": "code",
   "execution_count": 76,
   "metadata": {},
   "outputs": [
    {
     "name": "stdout",
     "output_type": "stream",
     "text": [
      "Score: [-0.00058496 -0.00059649 -0.00064963 -0.00056113 -0.00057216 -0.00074801\n",
      " -0.00060069 -0.00067211 -0.0005735  -0.00052046]\n",
      "Score Mean: -0.0006079147761024154\n",
      "Score Max: -0.0005204633439076678 Score Min: -0.0007480140423706209\n",
      "Benchmark: 0.0006331533763565462\n"
     ]
    }
   ],
   "source": [
    "lasso= Lasso(normalize =True)\n",
    "winton_cv = cross_val_score(lasso, X, y.Ret_121, X.Feature_7, cv=GroupKFold(n_splits=10),scoring='neg_mean_absolute_error')\n",
    "print('Score: {}'.format(winton_cv))\n",
    "print('Score Mean: {}'.format(winton_cv.mean()))\n",
    "print('Score Max: {}'.format(winton_cv.max()), 'Score Min: {}'.format(winton_cv.min()))\n",
    "print('Benchmark: {}'.format(test_score_minutes))"
   ]
  },
  {
   "cell_type": "code",
   "execution_count": 108,
   "metadata": {},
   "outputs": [
    {
     "name": "stdout",
     "output_type": "stream",
     "text": [
      "Score: [-0.00149765 -0.00187759 -0.00174793 -0.00183153 -0.00182986 -0.00196353\n",
      " -0.00175625 -0.00206738 -0.00158528 -0.00185007]\n",
      "Score Mean: -0.0018007064235862566\n",
      "Score Max: -0.0014976471264876677 Score Min: -0.00206738165804562\n",
      "Benchmark: 0.0006331533763565462\n"
     ]
    },
    {
     "data": {
      "text/plain": [
       "0.001797113925478407"
      ]
     },
     "execution_count": 108,
     "metadata": {},
     "output_type": "execute_result"
    }
   ],
   "source": [
    "winton_cv = cross_val_score(lasso, X, y.Ret_Next_10, X.Feature_7, cv=GroupKFold(n_splits=10),scoring='neg_mean_absolute_error')\n",
    "print('Score: {}'.format(winton_cv))\n",
    "print('Score Mean: {}'.format(winton_cv.mean()))\n",
    "print('Score Max: {}'.format(winton_cv.max()), 'Score Min: {}'.format(winton_cv.min()))\n",
    "print('Benchmark: {}'.format(test_score_minutes))\n",
    "mean_absolute_error(y.Ret_Next_10, zeros.Ret_121)\n"
   ]
  },
  {
   "cell_type": "code",
   "execution_count": 110,
   "metadata": {},
   "outputs": [
    {
     "name": "stdout",
     "output_type": "stream",
     "text": [
      "Score: [-0.01396033 -0.01483157 -0.01694395 -0.01532647 -0.01487931 -0.01590525\n",
      " -0.01594459 -0.01826528 -0.01510128 -0.016546  ]\n",
      "Score Mean: -0.01577040256202347\n",
      "Score Max: -0.013960331817667208 Score Min: -0.01826527618004748\n",
      "Benchmark: 0.0155220073711832\n"
     ]
    }
   ],
   "source": [
    "winton_cv = cross_val_score(lasso, X, y.Ret_PlusOne, X.Feature_7, cv=GroupKFold(n_splits=10),scoring='neg_mean_absolute_error')\n",
    "print('Score: {}'.format(winton_cv))\n",
    "print('Score Mean: {}'.format(winton_cv.mean()))\n",
    "print('Score Max: {}'.format(winton_cv.max()), 'Score Min: {}'.format(winton_cv.min()))\n",
    "print('Benchmark: {}'.format(test_score_daily))\n",
    "\n"
   ]
  },
  {
   "cell_type": "code",
   "execution_count": null,
   "metadata": {},
   "outputs": [],
   "source": [
    "\n",
    "\n"
   ]
  },
  {
   "cell_type": "code",
   "execution_count": null,
   "metadata": {},
   "outputs": [],
   "source": []
  },
  {
   "cell_type": "code",
   "execution_count": null,
   "metadata": {},
   "outputs": [],
   "source": []
  },
  {
   "cell_type": "code",
   "execution_count": null,
   "metadata": {},
   "outputs": [],
   "source": [
    "\n"
   ]
  },
  {
   "cell_type": "markdown",
   "metadata": {},
   "source": [
    "lasso mit X_Interaction:\n",
    "Score: [-0.00058796 -0.00059969 -0.00064973 -0.00057151 -0.00057197 -0.00074997\n",
    " -0.00060218 -0.00067318 -0.00056749 -0.000529  ]\n",
    "Score Mean: -0.0006102710573105517\n",
    "Score Max: -0.0005290048458109724 Score Min: -0.0007499733011142033\n",
    "Benchmark: 0.0155220073711832"
   ]
  },
  {
   "cell_type": "code",
   "execution_count": null,
   "metadata": {},
   "outputs": [],
   "source": []
  },
  {
   "cell_type": "markdown",
   "metadata": {},
   "source": [
    "### Random Forets"
   ]
  },
  {
   "cell_type": "code",
   "execution_count": 111,
   "metadata": {},
   "outputs": [
    {
     "name": "stdout",
     "output_type": "stream",
     "text": [
      "Score: [-0.00059818 -0.00064709 -0.00065108 -0.00058882 -0.00061449 -0.0007332\n",
      " -0.00062632 -0.00074564 -0.00061879 -0.00054931]\n",
      "Score Mean: -0.0006372905437952748\n",
      "Score Max: -0.0005493056638844501 Score Min: -0.0007456384552396402\n",
      "Benchmark: 0.0006331533763565462\n"
     ]
    }
   ],
   "source": [
    "from sklearn.ensemble import RandomForestRegressor\n",
    "regr1 = RandomForestRegressor(n_estimators =100 ,random_state=0)\n",
    "winton_cv = cross_val_score(regr1, X, y.Ret_121, X.Feature_7, cv=GroupKFold(n_splits=10),scoring='neg_mean_absolute_error')\n",
    "print('Score: {}'.format(winton_cv))\n",
    "print('Score Mean: {}'.format(winton_cv.mean()))\n",
    "print('Score Max: {}'.format(winton_cv.max()), 'Score Min: {}'.format(winton_cv.min()))\n",
    "print('Benchmark: {}'.format(test_score_minutes))\n"
   ]
  },
  {
   "cell_type": "code",
   "execution_count": null,
   "metadata": {},
   "outputs": [],
   "source": [
    "regr2 = RandomForestRegressor(n_estimators =100, criterion= 'mse', max_depth= 8, min_samples_leaf= 20, min_samples_split= 10)\n",
    "winton_cv = cross_val_score(regr2, X, y.Ret_121, X.Feature_7, cv=GroupKFold(n_splits=10),scoring='neg_mean_absolute_error')\n",
    "print('Score: {}'.format(winton_cv))\n",
    "print('Score Mean: {}'.format(winton_cv.mean()))\n",
    "print('Score Max: {}'.format(winton_cv.max()), 'Score Min: {}'.format(winton_cv.min()))\n",
    "print('Benchmark: {}'.format(test_score_minutes))"
   ]
  },
  {
   "cell_type": "markdown",
   "metadata": {},
   "source": [
    "### GBR"
   ]
  },
  {
   "cell_type": "code",
   "execution_count": 23,
   "metadata": {},
   "outputs": [
    {
     "name": "stdout",
     "output_type": "stream",
     "text": [
      "Score: [-0.00058766 -0.00062389 -0.00064821 -0.00057316 -0.00057348 -0.00071936\n",
      " -0.00060596 -0.00067042 -0.00059935 -0.0005306 ]\n",
      "Score Mean: -0.0006132104333579254\n",
      "Score Max: -0.0005306000757901328 Score Min: -0.000719362571550964\n",
      "Benchmark: 0.0006331533763565462\n"
     ]
    }
   ],
   "source": [
    "from sklearn.ensemble import GradientBoostingRegressor\n",
    "gbr1 = GradientBoostingRegressor(n_estimators =100)\n",
    "winton_cv = cross_val_score(gbr1, X, y.Ret_121, X.Feature_7, cv=GroupKFold(n_splits=10),scoring='neg_mean_absolute_error')\n",
    "print('Score: {}'.format(winton_cv))\n",
    "print('Score Mean: {}'.format(winton_cv.mean()))\n",
    "print('Score Max: {}'.format(winton_cv.max()), 'Score Min: {}'.format(winton_cv.min()))\n",
    "print('Benchmark: {}'.format(test_score_minutes))"
   ]
  },
  {
   "cell_type": "code",
   "execution_count": 27,
   "metadata": {},
   "outputs": [
    {
     "name": "stdout",
     "output_type": "stream",
     "text": [
      "Score: [-0.00056574 -0.00070529 -0.00078044 -0.00064104 -0.0006669  -0.00072632\n",
      " -0.00063581 -0.00078307 -0.0006907  -0.00061852]\n",
      "Score Mean: -0.0006813843941282283\n",
      "Score Max: -0.0005657441357384968 Score Min: -0.0007830691060645135\n",
      "Benchmark: 0.0006331533763565462\n"
     ]
    }
   ],
   "source": [
    "from sklearn.ensemble import GradientBoostingRegressor\n",
    "gbr1 = GradientBoostingRegressor(n_estimators =100)\n",
    "winton_cv = cross_val_score(gbr1, X, y.Ret_122, X.Feature_7, cv=GroupKFold(n_splits=10),scoring='neg_mean_absolute_error')\n",
    "print('Score: {}'.format(winton_cv))\n",
    "print('Score Mean: {}'.format(winton_cv.mean()))\n",
    "print('Score Max: {}'.format(winton_cv.max()), 'Score Min: {}'.format(winton_cv.min()))\n",
    "print('Benchmark: {}'.format(test_score_minutes))"
   ]
  },
  {
   "cell_type": "code",
   "execution_count": 29,
   "metadata": {},
   "outputs": [
    {
     "name": "stdout",
     "output_type": "stream",
     "text": [
      "Score: [-0.00057902 -0.0006058  -0.00064332 -0.00056648 -0.00056851 -0.00071577\n",
      " -0.0006062  -0.00066789 -0.00059362 -0.00052623]\n",
      "Score Mean: -0.0006072831737799556\n",
      "Score Max: -0.0005262345068230863 Score Min: -0.0007157664404122108\n",
      "Benchmark: 0.0006331533763565462\n"
     ]
    }
   ],
   "source": [
    "gbr1 = GradientBoostingRegressor(n_estimators =30)\n",
    "winton_cv = cross_val_score(gbr1, X, y.Ret_121, X.Feature_7, cv=GroupKFold(n_splits=10),scoring='neg_mean_absolute_error')\n",
    "print('Score: {}'.format(winton_cv))\n",
    "print('Score Mean: {}'.format(winton_cv.mean()))\n",
    "print('Score Max: {}'.format(winton_cv.max()), 'Score Min: {}'.format(winton_cv.min()))\n",
    "print('Benchmark: {}'.format(test_score_minutes))"
   ]
  },
  {
   "cell_type": "code",
   "execution_count": 40,
   "metadata": {},
   "outputs": [
    {
     "name": "stdout",
     "output_type": "stream",
     "text": [
      "Score: [-0.00021034 -0.00021172 -0.00024116 -0.00021874 -0.00021826 -0.00025662\n",
      " -0.00023138 -0.00026151 -0.00024776 -0.00021152]\n",
      "Score Mean: -0.00023090284487026227\n",
      "Score Max: -0.00021034073747926773 Score Min: -0.00026151366545320876\n",
      "Benchmark: 0.0155220073711832\n"
     ]
    },
    {
     "data": {
      "text/plain": [
       "0.0012023219862151305"
      ]
     },
     "execution_count": 40,
     "metadata": {},
     "output_type": "execute_result"
    }
   ],
   "source": [
    "from sklearn.ensemble import GradientBoostingClassifier\n",
    "gbr1 = GradientBoostingRegressor(n_estimators =30)\n",
    "winton_cv = cross_val_score(gbr1, X, y.MAD_Next_5, X.Feature_7, cv=GroupKFold(n_splits=10),scoring='neg_mean_absolute_error')\n",
    "print('Score: {}'.format(winton_cv))\n",
    "print('Score Mean: {}'.format(winton_cv.mean()))\n",
    "print('Score Max: {}'.format(winton_cv.max()), 'Score Min: {}'.format(winton_cv.min()))\n",
    "print('Benchmark: {}'.format(test_score_daily))\n",
    "mean_absolute_error(y.Ret_Next_5, zeros.Ret_121)"
   ]
  },
  {
   "cell_type": "code",
   "execution_count": 54,
   "metadata": {},
   "outputs": [
    {
     "data": {
      "text/plain": [
       "0.00037646845237094683"
      ]
     },
     "execution_count": 54,
     "metadata": {},
     "output_type": "execute_result"
    }
   ],
   "source": [
    "\n",
    "#np.repeat(y.MAD_Next_5.mean(),y.MAD_Next_5.size)\n",
    "#y.MAD_Next_5\n",
    "mean_absolute_error(y.MAD_Next_5 ,pd.DataFrame(np.repeat(y.MAD_Next_5.mean(),y.MAD_Next_5.size),index=y.index))"
   ]
  },
  {
   "cell_type": "code",
   "execution_count": null,
   "metadata": {},
   "outputs": [],
   "source": [
    "from sklearn.linear_model import ElasticNet\n",
    "\n",
    "enet = ElasticNet(alpha=alpha, l1_ratio=0.7)"
   ]
  },
  {
   "cell_type": "code",
   "execution_count": null,
   "metadata": {},
   "outputs": [],
   "source": [
    "from sklearn.svm import SVR\n",
    "\n",
    "clf = SVR(C=1.0, epsilon=0.2)\n"
   ]
  },
  {
   "cell_type": "code",
   "execution_count": null,
   "metadata": {},
   "outputs": [],
   "source": [
    "from sklearn.svm import NuSVR\n",
    "clf = NuSVR(C=1.0, nu=0.1)\n"
   ]
  },
  {
   "cell_type": "code",
   "execution_count": null,
   "metadata": {},
   "outputs": [],
   "source": [
    "from sklearn.linear_model import SGDRegressor()\n",
    "\n",
    "clf = SGDRegressor()\n"
   ]
  },
  {
   "cell_type": "code",
   "execution_count": null,
   "metadata": {},
   "outputs": [],
   "source": [
    "from sklearn.naive_bayes import GaussianNB\n",
    "gnb = GaussianNB()"
   ]
  },
  {
   "cell_type": "code",
   "execution_count": null,
   "metadata": {},
   "outputs": [],
   "source": [
    "from sklearn.ensemble import AdaBoostClassifier\n",
    "clf = AdaBoostClassifier(n_estimators=100)"
   ]
  }
 ],
 "metadata": {
  "kernelspec": {
   "display_name": "Python 3",
   "language": "python",
   "name": "python3"
  },
  "language_info": {
   "codemirror_mode": {
    "name": "ipython",
    "version": 3
   },
   "file_extension": ".py",
   "mimetype": "text/x-python",
   "name": "python",
   "nbconvert_exporter": "python",
   "pygments_lexer": "ipython3",
   "version": "3.6.4"
  }
 },
 "nbformat": 4,
 "nbformat_minor": 2
}
