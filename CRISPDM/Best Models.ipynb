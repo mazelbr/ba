{
 "cells": [
  {
   "cell_type": "code",
   "execution_count": 364,
   "metadata": {},
   "outputs": [
    {
     "name": "stdout",
     "output_type": "stream",
     "text": [
      "C:\\Users\\matze\\Documents\\Winton\\CRISPDM\n"
     ]
    }
   ],
   "source": [
    "import numpy as np # linear algebra\n",
    "import pandas as pd # data processing, CSV file I/O (e.g. pd.read_csv)\n",
    "import matplotlib.pyplot as plt\n",
    "import seaborn as sns\n",
    "\n",
    "import os\n",
    "print(os.getcwd()) \n",
    "\n",
    "X = pd.read_csv('X_features.csv', index_col=0)\n",
    "y = pd.read_csv('y_features.csv', index_col=0)\n",
    "groups = X.pop('Feature_7')\n",
    "\n",
    "test = pd.read_csv('test_features.csv', index_col=0).drop(columns = 'Feature_7')"
   ]
  },
  {
   "cell_type": "code",
   "execution_count": 365,
   "metadata": {},
   "outputs": [
    {
     "data": {
      "text/html": [
       "<div>\n",
       "<style scoped>\n",
       "    .dataframe tbody tr th:only-of-type {\n",
       "        vertical-align: middle;\n",
       "    }\n",
       "\n",
       "    .dataframe tbody tr th {\n",
       "        vertical-align: top;\n",
       "    }\n",
       "\n",
       "    .dataframe thead th {\n",
       "        text-align: right;\n",
       "    }\n",
       "</style>\n",
       "<table border=\"1\" class=\"dataframe\">\n",
       "  <thead>\n",
       "    <tr style=\"text-align: right;\">\n",
       "      <th></th>\n",
       "      <th>Feature_2</th>\n",
       "      <th>Feature_3</th>\n",
       "      <th>Feature_4</th>\n",
       "      <th>Feature_6</th>\n",
       "      <th>Feature_8</th>\n",
       "      <th>Feature_9</th>\n",
       "      <th>Feature_11</th>\n",
       "      <th>Feature_12</th>\n",
       "      <th>Feature_13</th>\n",
       "      <th>Feature_14</th>\n",
       "      <th>...</th>\n",
       "      <th>Ranked_7_PR_120</th>\n",
       "      <th>Ranked_7_PR_Last_10</th>\n",
       "      <th>Ranked_7_PR_Last_30</th>\n",
       "      <th>Ranked_7_PR_Last_5</th>\n",
       "      <th>Ranked_7_PR_Last_60</th>\n",
       "      <th>fet_7_Minute_Mean</th>\n",
       "      <th>fet_7_Minute_MAD</th>\n",
       "      <th>fet_7_Minute_Sum</th>\n",
       "      <th>fet_7_Minute_Sum_MAD</th>\n",
       "      <th>0</th>\n",
       "    </tr>\n",
       "    <tr>\n",
       "      <th>Id</th>\n",
       "      <th></th>\n",
       "      <th></th>\n",
       "      <th></th>\n",
       "      <th></th>\n",
       "      <th></th>\n",
       "      <th></th>\n",
       "      <th></th>\n",
       "      <th></th>\n",
       "      <th></th>\n",
       "      <th></th>\n",
       "      <th></th>\n",
       "      <th></th>\n",
       "      <th></th>\n",
       "      <th></th>\n",
       "      <th></th>\n",
       "      <th></th>\n",
       "      <th></th>\n",
       "      <th></th>\n",
       "      <th></th>\n",
       "      <th></th>\n",
       "      <th></th>\n",
       "    </tr>\n",
       "  </thead>\n",
       "  <tbody>\n",
       "    <tr>\n",
       "      <th>1</th>\n",
       "      <td>-0.117558</td>\n",
       "      <td>0.558392</td>\n",
       "      <td>0.405572</td>\n",
       "      <td>0.430972</td>\n",
       "      <td>0.2254</td>\n",
       "      <td>11.0</td>\n",
       "      <td>-0.572244</td>\n",
       "      <td>0.49</td>\n",
       "      <td>5.0</td>\n",
       "      <td>1.842984</td>\n",
       "      <td>...</td>\n",
       "      <td>1.0</td>\n",
       "      <td>4.0</td>\n",
       "      <td>2.0</td>\n",
       "      <td>13.0</td>\n",
       "      <td>1.0</td>\n",
       "      <td>-9.951471e-06</td>\n",
       "      <td>0.000042</td>\n",
       "      <td>-0.001134</td>\n",
       "      <td>0.004810</td>\n",
       "      <td>-0.029308</td>\n",
       "    </tr>\n",
       "    <tr>\n",
       "      <th>2</th>\n",
       "      <td>-0.117558</td>\n",
       "      <td>0.558392</td>\n",
       "      <td>0.405572</td>\n",
       "      <td>0.388896</td>\n",
       "      <td>0.0166</td>\n",
       "      <td>13.0</td>\n",
       "      <td>-0.409923</td>\n",
       "      <td>0.71</td>\n",
       "      <td>9.0</td>\n",
       "      <td>1.577586</td>\n",
       "      <td>...</td>\n",
       "      <td>1.0</td>\n",
       "      <td>18.0</td>\n",
       "      <td>10.0</td>\n",
       "      <td>11.0</td>\n",
       "      <td>5.0</td>\n",
       "      <td>2.410986e-05</td>\n",
       "      <td>0.000027</td>\n",
       "      <td>0.002749</td>\n",
       "      <td>0.003038</td>\n",
       "      <td>-0.009560</td>\n",
       "    </tr>\n",
       "    <tr>\n",
       "      <th>3</th>\n",
       "      <td>-0.696727</td>\n",
       "      <td>0.739591</td>\n",
       "      <td>-0.167928</td>\n",
       "      <td>0.471947</td>\n",
       "      <td>0.3650</td>\n",
       "      <td>9.0</td>\n",
       "      <td>-0.473024</td>\n",
       "      <td>0.03</td>\n",
       "      <td>6.0</td>\n",
       "      <td>1.871160</td>\n",
       "      <td>...</td>\n",
       "      <td>42.0</td>\n",
       "      <td>44.0</td>\n",
       "      <td>60.0</td>\n",
       "      <td>6.0</td>\n",
       "      <td>58.0</td>\n",
       "      <td>-1.365349e-05</td>\n",
       "      <td>0.000032</td>\n",
       "      <td>-0.001556</td>\n",
       "      <td>0.003596</td>\n",
       "      <td>-0.008021</td>\n",
       "    </tr>\n",
       "    <tr>\n",
       "      <th>4</th>\n",
       "      <td>-0.694350</td>\n",
       "      <td>1.568248</td>\n",
       "      <td>0.479073</td>\n",
       "      <td>0.120653</td>\n",
       "      <td>0.2654</td>\n",
       "      <td>13.0</td>\n",
       "      <td>-2.138383</td>\n",
       "      <td>0.00</td>\n",
       "      <td>6.0</td>\n",
       "      <td>1.588524</td>\n",
       "      <td>...</td>\n",
       "      <td>39.0</td>\n",
       "      <td>38.0</td>\n",
       "      <td>23.0</td>\n",
       "      <td>41.0</td>\n",
       "      <td>35.0</td>\n",
       "      <td>5.758270e-07</td>\n",
       "      <td>0.000027</td>\n",
       "      <td>0.000066</td>\n",
       "      <td>0.003030</td>\n",
       "      <td>-0.002090</td>\n",
       "    </tr>\n",
       "    <tr>\n",
       "      <th>5</th>\n",
       "      <td>-1.736489</td>\n",
       "      <td>2.765531</td>\n",
       "      <td>1.245280</td>\n",
       "      <td>4.866985</td>\n",
       "      <td>0.2138</td>\n",
       "      <td>13.0</td>\n",
       "      <td>-4.795565</td>\n",
       "      <td>0.97</td>\n",
       "      <td>5.0</td>\n",
       "      <td>0.842102</td>\n",
       "      <td>...</td>\n",
       "      <td>21.0</td>\n",
       "      <td>22.0</td>\n",
       "      <td>30.0</td>\n",
       "      <td>11.0</td>\n",
       "      <td>16.0</td>\n",
       "      <td>-1.085946e-05</td>\n",
       "      <td>0.000029</td>\n",
       "      <td>-0.001238</td>\n",
       "      <td>0.003261</td>\n",
       "      <td>-0.006019</td>\n",
       "    </tr>\n",
       "  </tbody>\n",
       "</table>\n",
       "<p>5 rows × 271 columns</p>\n",
       "</div>"
      ],
      "text/plain": [
       "    Feature_2  Feature_3  Feature_4  Feature_6  Feature_8  Feature_9  \\\n",
       "Id                                                                     \n",
       "1   -0.117558   0.558392   0.405572   0.430972     0.2254       11.0   \n",
       "2   -0.117558   0.558392   0.405572   0.388896     0.0166       13.0   \n",
       "3   -0.696727   0.739591  -0.167928   0.471947     0.3650        9.0   \n",
       "4   -0.694350   1.568248   0.479073   0.120653     0.2654       13.0   \n",
       "5   -1.736489   2.765531   1.245280   4.866985     0.2138       13.0   \n",
       "\n",
       "    Feature_11  Feature_12  Feature_13  Feature_14    ...     Ranked_7_PR_120  \\\n",
       "Id                                                    ...                       \n",
       "1    -0.572244        0.49         5.0    1.842984    ...                 1.0   \n",
       "2    -0.409923        0.71         9.0    1.577586    ...                 1.0   \n",
       "3    -0.473024        0.03         6.0    1.871160    ...                42.0   \n",
       "4    -2.138383        0.00         6.0    1.588524    ...                39.0   \n",
       "5    -4.795565        0.97         5.0    0.842102    ...                21.0   \n",
       "\n",
       "    Ranked_7_PR_Last_10  Ranked_7_PR_Last_30  Ranked_7_PR_Last_5  \\\n",
       "Id                                                                 \n",
       "1                   4.0                  2.0                13.0   \n",
       "2                  18.0                 10.0                11.0   \n",
       "3                  44.0                 60.0                 6.0   \n",
       "4                  38.0                 23.0                41.0   \n",
       "5                  22.0                 30.0                11.0   \n",
       "\n",
       "    Ranked_7_PR_Last_60  fet_7_Minute_Mean  fet_7_Minute_MAD  \\\n",
       "Id                                                             \n",
       "1                   1.0      -9.951471e-06          0.000042   \n",
       "2                   5.0       2.410986e-05          0.000027   \n",
       "3                  58.0      -1.365349e-05          0.000032   \n",
       "4                  35.0       5.758270e-07          0.000027   \n",
       "5                  16.0      -1.085946e-05          0.000029   \n",
       "\n",
       "    fet_7_Minute_Sum  fet_7_Minute_Sum_MAD         0  \n",
       "Id                                                    \n",
       "1          -0.001134              0.004810 -0.029308  \n",
       "2           0.002749              0.003038 -0.009560  \n",
       "3          -0.001556              0.003596 -0.008021  \n",
       "4           0.000066              0.003030 -0.002090  \n",
       "5          -0.001238              0.003261 -0.006019  \n",
       "\n",
       "[5 rows x 271 columns]"
      ]
     },
     "metadata": {},
     "output_type": "display_data"
    },
    {
     "data": {
      "text/plain": [
       "(40000, 271)"
      ]
     },
     "execution_count": 365,
     "metadata": {},
     "output_type": "execute_result"
    }
   ],
   "source": [
    "display(X.head())\n",
    "X.shape"
   ]
  },
  {
   "cell_type": "code",
   "execution_count": 3,
   "metadata": {},
   "outputs": [],
   "source": [
    "sample = pd.read_csv('sample_submission_2.csv')\n",
    "df_train = pd.read_csv('train.csv')"
   ]
  },
  {
   "cell_type": "markdown",
   "metadata": {},
   "source": [
    "# Models for Ret_PlusOne\n",
    "\n",
    "## Ridge"
   ]
  },
  {
   "cell_type": "code",
   "execution_count": 372,
   "metadata": {},
   "outputs": [
    {
     "data": {
      "text/plain": [
       "Ridge(alpha=19, copy_X=True, fit_intercept=True, max_iter=700, normalize=True,\n",
       "   random_state=0, solver='auto', tol=0.001)"
      ]
     },
     "metadata": {},
     "output_type": "display_data"
    },
    {
     "data": {
      "text/plain": [
       "-0.01575602788214616"
      ]
     },
     "metadata": {},
     "output_type": "display_data"
    }
   ],
   "source": [
    "# interactions\n",
    "X['interaction_3']= X.PR_120 * X.grouped_mad_fet_7\n",
    "test['interaction_3']= test.PR_120 * test.grouped_mad_fet_7\n",
    "\n",
    "#X['interaction_4']= X.smoothed_minute_mean * X.minute_mad\n",
    "#test['interaction_4']= test.smoothed_minute_mean * test.minute_mad\n",
    "\n",
    "X['interaction_5']= X.minute_mad * X.PR_120\n",
    "test['interaction_5']= test.minute_mad * test.PR_120\n",
    "\n",
    "X['interaction_6']= X.smoothed_minute_mean * X.grouped_mad_fet_5\n",
    "test['interaction_6']= test.smoothed_minute_mean * test.grouped_mad_fet_5\n",
    "\n",
    "X['interaction_7']= X.PR_120 * X.fet_7_Minute_MAD\n",
    "test['interaction_7']= test.PR_120 * test.fet_7_Minute_MAD\n",
    "\n",
    "X['interaction_8']= X.fet_7_Minute_MAD * X.fet_7_Minute_Mean\n",
    "test['interaction_8']= test.fet_7_Minute_MAD * test.fet_7_Minute_Mean\n",
    "\n",
    "\n",
    "# Ret_PlusOne\n",
    "cols_to_use=[\n",
    " 'interaction_8',\n",
    " 'interaction_7',\n",
    " 'fet_7_Minute_Mean',\n",
    " 'interaction_3',\n",
    " #'interaction_4', #verschlechtert das modell\n",
    " 'interaction_5',\n",
    " 'interaction_6',\n",
    " 'Delta_last_5',\n",
    " 'smoothed_minute_mean',\n",
    " 'smoothed_minute_sum',\n",
    " 'interaction_1',\n",
    " 'PR_Last_10',\n",
    " 'Delta_119',\n",
    " 'PR_120',\n",
    " 'minute_mean',\n",
    " 'minute_sum',\n",
    " 'Delta_120',\n",
    " 'Delta_last_60',\n",
    " 'fet_7_absdiff_RetDaily_Mad',\n",
    " 'PR_Last_60',\n",
    " #'Delta_dif_10_120',\n",
    " #'Diff_Ranked',\n",
    " 'Delta_last_10',\n",
    " 'interaction_2',\n",
    " #'grouped_rank_daily_2', removing them improved the model\n",
    " #'Rank_MinusTwo', removing them improved the model\n",
    " 'PR_Last_30',\n",
    " #'PR_Last_5',\n",
    " #'last_minute_diff',\n",
    " #'fet_7_diff_RetDaily_Mad',\n",
    " #'fet_7_fet_5_Ret_MinusOne_Mad',\n",
    " #'Delta_dif_60_60',\n",
    " #'smoothed_minute_25_quantile',\n",
    " #'minute_kurt',\n",
    " #'Ret_MinusOne',\n",
    " #'last_minute_sum'\n",
    " #most correalting with ret plus two\n",
    "\n",
    "]\n",
    "\n",
    "from sklearn.model_selection import GridSearchCV\n",
    "from sklearn.model_selection import cross_val_score\n",
    "from sklearn.model_selection import GroupShuffleSplit\n",
    "group_shuffle = GroupShuffleSplit(n_splits=10, test_size=0.6, train_size=0.4, random_state=0)\n",
    "from sklearn.linear_model import Lasso\n",
    "from sklearn.linear_model import Ridge\n",
    "\n",
    "\n",
    "ridge = Ridge()\n",
    "param_grid= {'alpha': [20,19,18,17,16,15,12,11],'normalize':[True],'max_iter':[700], 'random_state': [0]}\n",
    "gs= GridSearchCV(ridge, param_grid, iid=False, refit=True, cv=group_shuffle, return_train_score =True, scoring='neg_mean_absolute_error')\n",
    "gs.fit(X[cols_to_use], y.Ret_PlusOne, groups)\n",
    "gs.cv_results_ \n",
    "display(gs.best_estimator_)\n",
    "display(gs.best_score_ )\n",
    "\n",
    "\n",
    "###do not ever overwrite the winning solution\n",
    "grid = pd.DataFrame(np.zeros([120000, 62]), columns = df_train.loc[:, 'Ret_121':'Ret_PlusTwo'].columns)\n",
    "grid.shape\n",
    "\n",
    "grid['Ret_PlusOne'] = ((gs.predict(test[cols_to_use])))\n",
    "\n",
    "sample['Predicted'] = grid.values.flatten()\n",
    "sample.to_csv('submissions/Ret_PlusOne_ridge_aplha_18_new_interaction_7_8.csv', index=False)\n",
    "\n",
    "#-0.01575766851627325 nur mit interaction 3\n",
    "#-0.01575671834227754 ohne 4\n",
    "#-0.015756860156482495 mit alles interactions\n",
    "#-0.01575784705279763\n",
    "#-0.015756375888029382 feature 7 minute mean"
   ]
  },
  {
   "cell_type": "markdown",
   "metadata": {},
   "source": [
    "zuerst hab ich ausprobiert ein kleineres aplha zu benutzen weil ich irgendwo gelesen hab das die regularisierung idr schon bei sehr kleinen alphas sehr zuverlässig ist allerdings hab ich mit einem alpha von 1 eine schlechtere score erzielt als die benchmark\n",
    "meine ersten alphas waren [ 100,10,7,4] und es wurde 10 gewählt, nachdem ich gesehen hab wie stark der effekt von alpha auf die ergebnisse sein kann hab ich versucht es weiter zu optimieren und filigranere werte um 10 gewählt mit dem ergebnis das 17 gewählt wurde und und sich die score nochmal ein stück verbessert hat auf 1728.18407 was platz 30 auf dem leaderboard entspricht\n",
    "ein riesen vorteil an linearen modellen ist das sie super schnell zu fitten sind und demensprechen optimierung super schnell geht\n",
    "außerdem zeigt die optimierung das mein cross validationset funktioniert was auch geil ist\n",
    "\n",
    "jetzt kann man noch versuchen durch float werte um 17 weiter zu optimieren allerdings muss ich da erst schauen wie groß der effekt überhaupt noch ist --> keine weitere verbesserung 17 bleibt das optimum\n",
    "\n",
    "### anzahl der features veränder\n",
    "wenn ich 30 statt 20 features nehme verschlechtert sich die score ein bisschen was bedeutet ich füg irgendwie wieder noise hinzu jetzt dann mal checken ob weniger features vlt bessere ergebnisse erzielen auch weil auf dem graphen mit den koeffizienten die beiden interactionen besonders hervorstechen, was aber auch an skalierung liegen kann\n",
    "\n",
    "hab grad kurz gegoogelt und normalisieren (0,1) der daten bei ridge hat den vorteil, dass sich die relative wichtigkeit der  koeffizienten interpretieren lassen, allerdings das modell an sich nicht mehr\n",
    "standartisiereung hat wohl den vorteil, das sich da model noch interpretiren lässt\n",
    "\n",
    "jetzt wollte ich die top 15 korrelierenden features nehmen dabei ist mir dann aber aufgefallen, das ich auch einen interactionsterm rausnehmen müsste, was glaube ich nicht so gut wäre aber ich sollte es trtzdem probieren\n",
    "ich hab jetzt erstmal 2 minuten feautres raus um zu testen ob es was verbesser aber so oder so scheint korrelation nicht das beste mittel zur feature selection allerdings waren 'PR_last_10' und 'Delta_Last_10' auch relativ ähnlich\n",
    "außerdem sind teilweise ähnliche Features drinnen wie Delta_119 und Delta_120 vlt eins mit raus nehmen und mal die raus nehmen die geringe koeffizienten haben\n",
    "\n",
    "nachdem ich 'grouped_rank_daily_2' und 'Rank_MinusTwo' rausgenommen hab hat sich die score nochmal ein kleines bisschen verbesser, beide waren relativ weit unten bei den korrelationen und hatten keine sichtbaren koeffizienten bei ridge ich hab jetzt die anderen beiden ohne sichtbaren koeffizienten auch raus und mal schauen was sich dann so tut\n",
    "- hat sich nochmal ein kleines bisschen verbessert jetzt gibt es aber keine mehr ohne sichbaren einfluss und ich glaub ich schau jetzt mal nach anderen möglichekeiten weiter zu kommen z.b. mehr interaktionen **und alpha hat sich jetzt auf 18 verändert**\n",
    "\n",
    "also neue features hinzufügen hat egal wie zu keiner verbesserung geführ also lass ich das jetzt wieder was aber komisch ist, ist das die features die der algorithmus benutzt fast nur minuten werte sind die eigentlich keinen zusammenhang mit morgen haben sollten, hab jetzt mal die interactionen entfernt und das modell versclechtert sich doch relativ stark ist aber immernoch besser als die benchmark\n",
    "\n",
    "weitere interactionen die ich hier schnell berechnet hab haben noch mal 0.2-0.4 gebracht allerdings gilt das bloß für die private score und nicht für die public score, insbesondere bei interaction 7 und 8 auf basis von fet 7 minute mad haben auf dem public leaderboard zu einer verschlechterung geführt auf dem private leaderboard allerdings zu einer verbesserung"
   ]
  },
  {
   "cell_type": "code",
   "execution_count": 96,
   "metadata": {},
   "outputs": [
    {
     "data": {
      "text/plain": [
       "Ridge(alpha=18, copy_X=True, fit_intercept=True, max_iter=700, normalize=True,\n",
       "   random_state=None, solver='auto', tol=0.001)"
      ]
     },
     "metadata": {},
     "output_type": "display_data"
    },
    {
     "data": {
      "text/plain": [
       "-0.01575833195085613"
      ]
     },
     "metadata": {},
     "output_type": "display_data"
    }
   ],
   "source": [
    "display(gs.best_estimator_)\n",
    "display(gs.best_score_) \n",
    "#-0.015757554282432244 top 20 features alpha 17 || LB: 1728.18407\n",
    "#-0.015757003916674322 top 30 featuers alpha 17 || LB: 1728.18985 \n",
    "#-0.0157584373749962 18/20 top fet alpha 17 || LB: 1728.16958 (removed two of low correlating and where ridge hat not really a koefficent)"
   ]
  },
  {
   "cell_type": "code",
   "execution_count": 396,
   "metadata": {},
   "outputs": [
    {
     "data": {
      "text/plain": [
       "<Container object of 14 artists>"
      ]
     },
     "execution_count": 396,
     "metadata": {},
     "output_type": "execute_result"
    },
    {
     "data": {
      "image/png": "[encoded data removed]",
      "text/plain": [
       "<matplotlib.figure.Figure at 0x1be032b1710>"
      ]
     },
     "metadata": {},
     "output_type": "display_data"
    }
   ],
   "source": [
    "\n",
    "#fig, ax = plt.subplots()\n",
    "plt.figure(figsize=(20,10))\n",
    "plt.xticks(rotation='vertical')\n",
    "plt.bar(cols_to_use, gs.best_estimator_.coef_)"
   ]
  },
  {
   "cell_type": "markdown",
   "metadata": {},
   "source": [
    "interactionterms funktionieren ziemlich geil evtl da noch ein paar ausprobieren oder einfach poly features für einen teil davon und nochmal die correlation berechnen"
   ]
  },
  {
   "cell_type": "markdown",
   "metadata": {},
   "source": [
    "### FEature importance with Random Forest\n",
    "siehe email"
   ]
  },
  {
   "cell_type": "code",
   "execution_count": 389,
   "metadata": {},
   "outputs": [
    {
     "name": "stdout",
     "output_type": "stream",
     "text": [
      "training time: 25.703 s\n"
     ]
    },
    {
     "data": {
      "text/plain": [
       "GradientBoostingRegressor(alpha=0.9, criterion='friedman_mse', init=None,\n",
       "             learning_rate=0.1, loss='ls', max_depth=1,\n",
       "             max_features='sqrt', max_leaf_nodes=None,\n",
       "             min_impurity_decrease=0.0, min_impurity_split=None,\n",
       "             min_samples_leaf=3, min_samples_split=20,\n",
       "             min_weight_fraction_leaf=0.0, n_estimators=6, presort='auto',\n",
       "             random_state=0, subsample=1.0, verbose=0, warm_start=False)"
      ]
     },
     "metadata": {},
     "output_type": "display_data"
    },
    {
     "data": {
      "text/plain": [
       "-0.01577111157916574"
      ]
     },
     "metadata": {},
     "output_type": "display_data"
    },
    {
     "data": {
      "text/plain": [
       "\"GradientBoostingRegressor(alpha=0.9, criterion='friedman_mse', init=None,\\n             learning_rate=0.1, loss='ls', max_depth=1,\\n             max_features='sqrt', max_leaf_nodes=None,\\n             min_impurity_decrease=0.0, min_impurity_split=None,\\n             min_samples_leaf=2, min_samples_split=4,\\n             min_weight_fraction_leaf=0.0, n_estimators=9, presort='auto',\\n             random_state=0, subsample=1.0, verbose=0, warm_start=False)\""
      ]
     },
     "execution_count": 389,
     "metadata": {},
     "output_type": "execute_result"
    }
   ],
   "source": [
    "from sklearn.ensemble import GradientBoostingRegressor\n",
    "import time\n",
    "t0=time.time()\n",
    "\n",
    "cols_to_use =[\n",
    " 'interaction_8',\n",
    " 'interaction_7',\n",
    " 'fet_7_Minute_Mean',\n",
    " 'interaction_3',\n",
    " #'interaction_4', #verschlechtert das modell\n",
    " 'interaction_5',\n",
    " 'interaction_6',\n",
    " 'Delta_last_5',\n",
    " 'smoothed_minute_mean', 'smoothed_minute_sum',\n",
    "       'interaction_1', 'PR_Last_10', 'Delta_119', 'PR_120', 'minute_mean',\n",
    "       'minute_sum', 'Delta_120', 'Delta_last_60',\n",
    "       'fet_7_absdiff_RetDaily_Mad', 'PR_Last_60', 'Delta_dif_10_120',\n",
    "       'Diff_Ranked', 'Delta_last_10', 'interaction_2', 'grouped_rank_daily_2',\n",
    "       'Rank_MinusTwo', 'PR_Last_30', 'PR_Last_5', 'last_minute_diff',\n",
    "       'fet_7_diff_RetDaily_Mad', 'fet_7_fet_5_Ret_MinusOne_Mad',\n",
    "       'Delta_dif_60_60', 'smoothed_minute_25_quantile', 'minute_kurt',\n",
    "       'Ret_MinusOne', 'last_minute_sum']\n",
    "\n",
    "gbm = GradientBoostingRegressor()\n",
    "param_grid= {'random_state': [0],'n_estimators': [6,5],'loss':['ls'],'max_depth':[2,1],\n",
    "             'max_features':['sqrt'],\n",
    "             'min_samples_leaf':[3,2,1],\n",
    "             'min_samples_split':[20,100]}\n",
    "gs= GridSearchCV(gbm, param_grid, iid=False, refit=True, cv=group_shuffle, return_train_score =True, scoring='neg_mean_absolute_error')\n",
    "gs.fit(X[cols_to_use], y.Ret_PlusOne, groups)\n",
    "\n",
    "print(\"training time:\", round(time.time()-t0, 3), \"s\")\n",
    "\n",
    "gs.cv_results_ \n",
    "display(gs.best_estimator_)\n",
    "display(gs.best_score_ )\n",
    "\n",
    "\n",
    "\n",
    "###do not ever overwrite the winning solution\n",
    "grid = pd.DataFrame(np.zeros([120000, 62]), columns = df_train.loc[:, 'Ret_121':'Ret_PlusTwo'].columns)\n",
    "grid.shape\n",
    "\n",
    "grid['Ret_PlusOne'] = ((gs.predict(test[cols_to_use])))\n",
    "\n",
    "sample['Predicted'] = grid.values.flatten()\n",
    "sample.to_csv('submissions/Ret_PlusOne_gbm_6.csv', index=False)\n",
    "\n",
    "#0.016339105417099438 gbm 200 trees\n",
    "#0.016239437064163274 gbm 200 huber\n",
    "#0.0158... gbm 200\n",
    "#-0.01577489575507015\n",
    "'''GradientBoostingRegressor(alpha=0.9, criterion='friedman_mse', init=None,\n",
    "             learning_rate=0.1, loss='ls', max_depth=1,\n",
    "             max_features='sqrt', max_leaf_nodes=None,\n",
    "             min_impurity_decrease=0.0, min_impurity_split=None,\n",
    "             min_samples_leaf=2, min_samples_split=4,\n",
    "             min_weight_fraction_leaf=0.0, n_estimators=9, presort='auto',\n",
    "             random_state=0, subsample=1.0, verbose=0, warm_start=False)'''\n"
   ]
  },
  {
   "cell_type": "code",
   "execution_count": 323,
   "metadata": {},
   "outputs": [],
   "source": [
    "sample['Predicted'] = grid.values.flatten()\n",
    "sample.to_csv('submissions/Ret_PlusOne_gbm_10.csv', index=False)\n"
   ]
  },
  {
   "cell_type": "code",
   "execution_count": 395,
   "metadata": {},
   "outputs": [
    {
     "ename": "AttributeError",
     "evalue": "'HuberRegressor' object has no attribute 'feature_importances_'",
     "output_type": "error",
     "traceback": [
      "\u001b[1;31m---------------------------------------------------------------------------\u001b[0m",
      "\u001b[1;31mAttributeError\u001b[0m                            Traceback (most recent call last)",
      "\u001b[1;32m<ipython-input-395-f67bfe3f4e57>\u001b[0m in \u001b[0;36m<module>\u001b[1;34m()\u001b[0m\n\u001b[0;32m      1\u001b[0m \u001b[0mfeatures\u001b[0m \u001b[1;33m=\u001b[0m \u001b[0mnp\u001b[0m\u001b[1;33m.\u001b[0m\u001b[0masarray\u001b[0m\u001b[1;33m(\u001b[0m\u001b[0mcols_to_use\u001b[0m\u001b[1;33m)\u001b[0m\u001b[1;33m\u001b[0m\u001b[0m\n\u001b[1;32m----> 2\u001b[1;33m \u001b[0mimportances\u001b[0m \u001b[1;33m=\u001b[0m \u001b[0mgs\u001b[0m\u001b[1;33m.\u001b[0m\u001b[0mbest_estimator_\u001b[0m\u001b[1;33m.\u001b[0m\u001b[0mfeature_importances_\u001b[0m\u001b[1;33m\u001b[0m\u001b[0m\n\u001b[0m\u001b[0;32m      3\u001b[0m \u001b[0mindices\u001b[0m \u001b[1;33m=\u001b[0m \u001b[0mnp\u001b[0m\u001b[1;33m.\u001b[0m\u001b[0margsort\u001b[0m\u001b[1;33m(\u001b[0m\u001b[0mimportances\u001b[0m\u001b[1;33m)\u001b[0m\u001b[1;33m\u001b[0m\u001b[0m\n\u001b[0;32m      4\u001b[0m \u001b[0mplt\u001b[0m\u001b[1;33m.\u001b[0m\u001b[0mfigure\u001b[0m\u001b[1;33m(\u001b[0m\u001b[0mfigsize\u001b[0m\u001b[1;33m=\u001b[0m\u001b[1;33m(\u001b[0m\u001b[1;36m20\u001b[0m\u001b[1;33m,\u001b[0m\u001b[1;36m10\u001b[0m\u001b[1;33m)\u001b[0m\u001b[1;33m)\u001b[0m\u001b[1;33m\u001b[0m\u001b[0m\n\u001b[0;32m      5\u001b[0m \u001b[0mplt\u001b[0m\u001b[1;33m.\u001b[0m\u001b[0mtitle\u001b[0m\u001b[1;33m(\u001b[0m\u001b[1;34m'Feature Importances'\u001b[0m\u001b[1;33m)\u001b[0m\u001b[1;33m\u001b[0m\u001b[0m\n",
      "\u001b[1;31mAttributeError\u001b[0m: 'HuberRegressor' object has no attribute 'feature_importances_'"
     ]
    }
   ],
   "source": [
    "features = np.asarray(cols_to_use)\n",
    "importances = gs.best_estimator_.feature_importances_\n",
    "indices = np.argsort(importances)\n",
    "plt.figure(figsize=(20,10))\n",
    "plt.title('Feature Importances')\n",
    "plt.barh(range(len(indices)), importances[indices], color='b', align='center')\n",
    "plt.yticks(range(len(indices)), features[indices])\n",
    "plt.xlabel('Relative Importance')\n"
   ]
  },
  {
   "cell_type": "markdown",
   "metadata": {},
   "source": [
    "### GBM beating the Zerobenchmark slightly\n",
    "\n",
    "also ich hab jetzt angefangen GBM auf dem korrelierenden Features zu trainieren und wieder zeigt sich wie maßgeblich die parameter einfluss auf die modelle haben, hab die n estimators von 100 auf unter 10 herabgesetzt und langsam wird es interesannt, außerdem zeigt sich wieder das mein CV set einigermaßen funktioniert\n",
    "\n",
    "Der erste GBM der die ZeroBenchmark allerdings nur auf dem Private LB geschlagen hat war auf basis der 20 top cor features folgender stimator\n",
    "GradientBoostingRegressor(alpha=0.9, criterion='friedman_mse', init=None,\n",
    "             learning_rate=0.1, loss='ls', max_depth=1,\n",
    "             max_features='sqrt', max_leaf_nodes=None,\n",
    "             min_impurity_decrease=0.0, min_impurity_split=None,\n",
    "             min_samples_leaf=2, min_samples_split=4,\n",
    "             min_weight_fraction_leaf=0.0, n_estimators=9, presort='auto',\n",
    "             random_state=0, subsample=1.0, verbose=0, warm_start=False)\n",
    "\n",
    "-0.015778046226966144 leaderboardscore = "
   ]
  },
  {
   "cell_type": "markdown",
   "metadata": {},
   "source": [
    "### The first score beating model\n",
    "Scores 1769.96181\n",
    "\n",
    "Estimator:\n",
    "\n",
    "Ridge(alpha=10, copy_X=True, fit_intercept=True, max_iter=700, normalize=True,\n",
    "   random_state=None, solver='auto', tol=0.001)\n",
    "   \n",
    "   \n",
    "clipping still beats the zeros but its not as good as without clipping\n",
    "\n",
    "Dividing by 8 (using 0.8 as a constant) imporoves the score to 1769.94673\n",
    "\n",
    "the less i blend it with the zeros the better it gets the final result for not deviding is\n",
    "1769.93298 on the public leaderboard and 1728.23696 on the more important private leaderboard"
   ]
  },
  {
   "cell_type": "markdown",
   "metadata": {},
   "source": [
    "### Huber Regression"
   ]
  },
  {
   "cell_type": "code",
   "execution_count": 211,
   "metadata": {},
   "outputs": [
    {
     "data": {
      "text/plain": [
       "HuberRegressor(alpha=190, epsilon=1, fit_intercept=True, max_iter=700,\n",
       "        tol=1e-05, warm_start=False)"
      ]
     },
     "metadata": {},
     "output_type": "display_data"
    },
    {
     "data": {
      "text/plain": [
       "-0.015746708355898777"
      ]
     },
     "metadata": {},
     "output_type": "display_data"
    }
   ],
   "source": [
    "from sklearn.linear_model import HuberRegressor\n",
    "\n",
    "huber = HuberRegressor()\n",
    "\n",
    "cols_to_use=['Delta_last_5',\n",
    " 'smoothed_minute_mean',\n",
    " 'smoothed_minute_sum',\n",
    " 'inteaction_1',\n",
    " 'PR_Last_10',\n",
    " 'Delta_119',\n",
    " 'PR_120',\n",
    " 'minute_mean',\n",
    " 'minute_sum',\n",
    " 'Delta_120',\n",
    " 'Delta_last_60',\n",
    " 'fet_7_absdiff_RetDaily_Mad',\n",
    " 'PR_Last_60',\n",
    " #'Delta_dif_10_120',\n",
    " 'Diff_Ranked',\n",
    " 'Delta_last_10',\n",
    " 'inteaction_2',\n",
    " 'grouped_rank_daily_2', #removing them improved the model\n",
    " 'Rank_MinusTwo', #removing them improved the model\n",
    " 'PR_Last_30',\n",
    " #'PR_Last_5',\n",
    " #'last_minute_diff',\n",
    " 'fet_7_diff_RetDaily_Mad',\n",
    " 'fet_7_fet_5_Ret_MinusOne_Mad',\n",
    " #'Delta_dif_60_60',\n",
    " #'smoothed_minute_25_quantile',\n",
    " #'minute_kurt',\n",
    " #'Ret_MinusOne',\n",
    " #'last_minute_sum'\n",
    " #most correalting with ret plus two\n",
    "            ]\n",
    "\n",
    "param_grid= {'alpha': [200,190,180], 'epsilon':[1,1.1,1.2 ],'max_iter':[700]}\n",
    "gs= GridSearchCV(huber, param_grid, iid=False, refit=True, cv=group_shuffle, return_train_score =True, scoring='neg_mean_absolute_error')\n",
    "gs.fit(X[cols_to_use], y.Ret_PlusOne, groups)\n",
    "gs.cv_results_ \n",
    "display(gs.best_estimator_)\n",
    "display(gs.best_score_) #-0.015748066482884227\n"
   ]
  },
  {
   "cell_type": "code",
   "execution_count": 212,
   "metadata": {},
   "outputs": [],
   "source": [
    "grid = pd.DataFrame(np.zeros([120000, 62]), columns = df_train.loc[:, 'Ret_121':'Ret_PlusTwo'].columns)\n",
    "grid.shape\n",
    "\n",
    "grid['Ret_PlusOne'] = ((gs.predict(test[cols_to_use])))\n",
    "\n",
    "sample['Predicted'] = grid.values.flatten()\n",
    "sample.to_csv('submissions/Ret_PlusOne_huber_aplha_190_eps_1.csv', index=False)"
   ]
  },
  {
   "cell_type": "markdown",
   "metadata": {},
   "source": [
    "# Minute Rets"
   ]
  },
  {
   "cell_type": "code",
   "execution_count": 106,
   "metadata": {},
   "outputs": [
    {
     "data": {
      "text/plain": [
       "Ridge(alpha=15, copy_X=True, fit_intercept=True, max_iter=700, normalize=True,\n",
       "   random_state=None, solver='auto', tol=0.001)"
      ]
     },
     "metadata": {},
     "output_type": "display_data"
    },
    {
     "data": {
      "text/plain": [
       "-0.004819276309693662"
      ]
     },
     "metadata": {},
     "output_type": "display_data"
    }
   ],
   "source": [
    "### Ret_Next_60 (only predicting next 5 Minutes though)\n",
    "from sklearn.model_selection import GridSearchCV\n",
    "from sklearn.model_selection import cross_val_score\n",
    "from sklearn.model_selection import GroupShuffleSplit\n",
    "group_shuffle = GroupShuffleSplit(n_splits=10, test_size=0.6, train_size=0.4, random_state=0)\n",
    "from sklearn.linear_model import Lasso\n",
    "from sklearn.linear_model import Ridge\n",
    "\n",
    "cols_to_use =  ['fet_7_diff_RetDaily_Mean', 'fet_7_fet_5_Diff_Daily_Mean',\n",
    "       'fet_7_RetMinTwo_Mean', 'grouped_mean_fet_7', 'fet_7_RetMinOne_Mean',\n",
    "       'fet_7_fet_5_Ret_MinusTwo_Mean', 'daily_diff',\n",
    "       'fet_7_fet_5_Ret_MinusOne_Mean', 'Ret_MinusTwo', 'last_minute_sum', 'PR_Last_10', 'Delta_last_5']\n",
    "\n",
    "ridge = Ridge()\n",
    "param_grid= {'alpha': [15,10,7 ,5,1,0.1],'normalize':[False, True],'max_iter':[700]}\n",
    "gs= GridSearchCV(ridge, param_grid, iid=False, refit=True, cv=group_shuffle, return_train_score =True, scoring='neg_mean_absolute_error')\n",
    "gs.fit(X[cols_to_use], y.Ret_Next_60, groups)\n",
    "gs.cv_results_ \n",
    "display(gs.best_estimator_)\n",
    "display(gs.best_score_ )\n",
    "\n",
    "\n",
    "sample = pd.read_csv('sample_submission_2.csv')\n",
    "df_train = pd.read_csv('train.csv')\n",
    "grid = pd.DataFrame(np.zeros([120000, 62]), columns = df_train.loc[:, 'Ret_121':'Ret_PlusTwo'].columns)\n",
    "grid.shape\n",
    "\n",
    "for cols in grid.loc[:,'Ret_121':'Ret_125'].columns:\n",
    "    grid[cols] = ((gs.predict(test[cols_to_use]))/60)\n",
    "    \n",
    "#sample['Predicted'] = grid.values.flatten()\n",
    "#sample.to_csv('submissions/Ret_Next_60with_ridge.csv', index=False)"
   ]
  },
  {
   "cell_type": "code",
   "execution_count": null,
   "metadata": {},
   "outputs": [],
   "source": [
    "### lasso mit Ret_next_10\n",
    "\n",
    "from sklearn.model_selection import GridSearchCV\n",
    "from sklearn.model_selection import cross_val_score\n",
    "from sklearn.model_selection import GroupShuffleSplit\n",
    "group_shuffle = GroupShuffleSplit(n_splits=10, test_size=0.6, train_size=0.4, random_state=0)\n",
    "from sklearn.linear_model import Lasso\n",
    "from sklearn.linear_model import Ridge\n",
    "\n",
    "cols_to_use =  ['Ranked_7_PR_Last_30', 'Ranked_7_PR_Last_60' ,'Ranked_7_PR_Last_10', 'Ranked_7_PR_120',\n",
    "'Ranked_7_PR_Last_5',\n",
    "'daily_sum',\n",
    "'PR_Last_30',\n",
    "'Ret_MinusOne',\n",
    "'fet_7_RetMinTwo_Mean',\n",
    "'Ret_MinusTwo',\n",
    "'PR_Last_10',\n",
    "'MAD_dif_60_120',\n",
    "]\n",
    "\n",
    "lasso = Lasso()\n",
    "param_grid= {'alpha': [10,7 ,5,1,0.1],'normalize':[False, True],'max_iter':[700]}\n",
    "gs= GridSearchCV(lasso, param_grid, iid=False, refit=True, cv=group_shuffle, return_train_score =True, scoring='neg_mean_absolute_error')\n",
    "gs.fit(X[cols_to_use], y.Ret_Next_10, groups)\n",
    "gs.cv_results_ \n",
    "gs.best_estimator_\n",
    "gs.best_score_ \n",
    "\n",
    "grid = pd.DataFrame(np.zeros([120000, 62]), columns = df_train.loc[:, 'Ret_121':'Ret_PlusTwo'].columns)\n",
    "grid.shape\n",
    "\n",
    "for cols in grid.loc[:,'Ret_121':'Ret_130'].columns:\n",
    "    grid[cols] = ((gs.predict(test[cols_to_use]))/10)\n",
    "    \n",
    "#sample['Predicted'] = grid.values.flatten()\n",
    "#sample.to_csv('submissions/Ret_Next_10with_lasso.csv', index=False)"
   ]
  },
  {
   "cell_type": "markdown",
   "metadata": {},
   "source": [
    "score: 1770.04587"
   ]
  },
  {
   "cell_type": "code",
   "execution_count": 201,
   "metadata": {},
   "outputs": [
    {
     "data": {
      "text/plain": [
       "Lasso(alpha=1000, copy_X=True, fit_intercept=True, max_iter=700,\n",
       "   normalize=True, positive=False, precompute=False, random_state=0,\n",
       "   selection='cyclic', tol=0.0001, warm_start=False)"
      ]
     },
     "metadata": {},
     "output_type": "display_data"
    },
    {
     "data": {
      "text/plain": [
       "-0.0017868019120695674"
      ]
     },
     "metadata": {},
     "output_type": "display_data"
    }
   ],
   "source": [
    "### ridge mit Ret_next_10\n",
    "\n",
    "from sklearn.model_selection import GridSearchCV\n",
    "from sklearn.model_selection import cross_val_score\n",
    "from sklearn.model_selection import GroupShuffleSplit\n",
    "group_shuffle = GroupShuffleSplit(n_splits=10, test_size=0.6, train_size=0.4, random_state=0)\n",
    "from sklearn.linear_model import Lasso\n",
    "from sklearn.linear_model import Ridge\n",
    "\n",
    "cols_to_use =  ['Ranked_7_PR_Last_30',\n",
    " #'Ranked_7_PR_Last_60',\n",
    " #'Ranked_7_PR_Last_10',\n",
    " #'Ranked_7_PR_120',\n",
    " #'Ranked_7_PR_Last_5',\n",
    " 'daily_sum',\n",
    " 'PR_Last_30',\n",
    " 'Ret_MinusOne',\n",
    " #'fet_7_RetMinTwo_Mean',\n",
    " 'Ret_MinusTwo',\n",
    " 'PR_Last_10',\n",
    " 'MAD_dif_60_120',\n",
    " 'Delta_last_10',\n",
    " #'fet_7_fet_5_Ret_MinusTwo_Mean',\n",
    " 'inteaction_2',\n",
    " 'AbsDiff_Ranked',\n",
    " 'inteaction_2',\n",
    " 'inteaction_1'\n",
    "               ]\n",
    "\n",
    "lasso = Lasso()\n",
    "param_grid= {'alpha': [1000,960,959,958,900,55,51,50,40,30,16,15,14,13,12,11,10],'normalize':[True],'max_iter':[700],'random_state':[0]}\n",
    "gs= GridSearchCV(lasso, param_grid, iid=False, refit=True, cv=group_shuffle, return_train_score =True, scoring='neg_mean_absolute_error')\n",
    "gs.fit(X[cols_to_use], y.Ret_Next_10, groups)\n",
    "gs.cv_results_ \n",
    "display(gs.best_estimator_)\n",
    "display(gs.best_score_ )\n",
    "\n",
    "grid = pd.DataFrame(np.zeros([120000, 62]), columns = df_train.loc[:, 'Ret_121':'Ret_PlusTwo'].columns)\n",
    "grid.shape\n",
    "\n",
    "for cols in grid.loc[:,'Ret_121':'Ret_130'].columns:\n",
    "    grid[cols] = ((gs.predict(test[cols_to_use]))/10)\n",
    "    \n",
    "sample['Predicted'] = grid.values.flatten()\n",
    "sample.to_csv('submissions/Ret_Next_10with_lasso_alpha1000.csv', index=False)"
   ]
  },
  {
   "cell_type": "markdown",
   "metadata": {},
   "source": [
    "# Models for Ret_PlusTwo"
   ]
  },
  {
   "cell_type": "code",
   "execution_count": 198,
   "metadata": {},
   "outputs": [
    {
     "data": {
      "text/plain": [
       "Ridge(alpha=100, copy_X=True, fit_intercept=True, max_iter=700,\n",
       "   normalize=False, random_state=None, solver='auto', tol=0.001)"
      ]
     },
     "metadata": {},
     "output_type": "display_data"
    },
    {
     "data": {
      "text/plain": [
       "-0.015192656593536035"
      ]
     },
     "metadata": {},
     "output_type": "display_data"
    }
   ],
   "source": [
    "\n",
    "# Ret_PlusTwo\n",
    "cols_to_use=['fet_7_absdiff_RetDaily_Mean',\n",
    " #'last_minute_diff',\n",
    " \n",
    " 'fet_7_RetMinTwo_Mad',\n",
    " 'fet_7_absdiff_RetDaily_Mad',\n",
    " #'MAD_last_60',\n",
    " 'abs_daily_diff',\n",
    " 'MAD_dif_60_120',\n",
    " 'MAD_120',\n",
    " 'minute_median',\n",
    " 'minute_mad',\n",
    " #'minute_sem',\n",
    " #'minute_var',\n",
    " 'minute_std',\n",
    " 'smoothed_minute_var',\n",
    " 'smoothed_minute_std',\n",
    " 'smoothed_minute_sem',\n",
    " 'fet_7_fet_5_AbsDiff_Daily_Mean',\n",
    " #'smoothed_minute_median',\n",
    " #'smoothed_minute_mad',\n",
    " #'MAD_last_30',\n",
    " 'fet_7_diff_RetDaily_Mad',\n",
    " #'grouped_rank_daily_2',\n",
    " #'Rank_MinusTwo'\n",
    " ]\n",
    "\n",
    "from sklearn.model_selection import GridSearchCV\n",
    "from sklearn.model_selection import cross_val_score\n",
    "from sklearn.model_selection import GroupShuffleSplit\n",
    "group_shuffle = GroupShuffleSplit(n_splits=10, test_size=0.6, train_size=0.4, random_state=0)\n",
    "from sklearn.linear_model import Lasso\n",
    "from sklearn.linear_model import Ridge\n",
    "\n",
    "\n",
    "ridge = Ridge()\n",
    "param_grid= {'alpha': [100,60,20,19,18,17,16,15,12,11],'normalize':[False, True],'max_iter':[700]}\n",
    "gs= GridSearchCV(ridge, param_grid, iid=False, refit=True, cv=group_shuffle, return_train_score =True, scoring='neg_mean_absolute_error')\n",
    "gs.fit(X[cols_to_use], y.Ret_PlusTwo, groups)\n",
    "gs.cv_results_ \n",
    "display(gs.best_estimator_)\n",
    "display(gs.best_score_ )\n",
    "\n",
    "\n",
    "###do not ever overwrite the winning solution\n",
    "grid = pd.DataFrame(np.zeros([120000, 62]), columns = df_train.loc[:, 'Ret_121':'Ret_PlusTwo'].columns)\n",
    "grid.shape\n",
    "\n",
    "grid['Ret_PlusTwo'] = ((gs.predict(test[cols_to_use])))\n",
    "\n",
    "sample['Predicted'] = grid.values.flatten()\n",
    "sample.to_csv('submissions/Ret_PlusTwo_ridge_aplha_17_23_fet.csv', index=False)"
   ]
  },
  {
   "cell_type": "markdown",
   "metadata": {},
   "source": [
    "-0.015192651972771632\n",
    "\n",
    "the 20 most correlating features for Ret_PlusTwo an with Rodge(alpha=100) scores with 1728.57031 on the leaderboard"
   ]
  },
  {
   "cell_type": "markdown",
   "metadata": {},
   "source": [
    "## Combinbing best ResPlusOne and Best RetPlusTwo"
   ]
  },
  {
   "cell_type": "code",
   "execution_count": 394,
   "metadata": {},
   "outputs": [
    {
     "data": {
      "text/plain": [
       "Ridge(alpha=19, copy_X=True, fit_intercept=True, max_iter=700, normalize=True,\n",
       "   random_state=None, solver='auto', tol=0.001)"
      ]
     },
     "metadata": {},
     "output_type": "display_data"
    },
    {
     "data": {
      "text/plain": [
       "-0.01575602788214616"
      ]
     },
     "metadata": {},
     "output_type": "display_data"
    },
    {
     "data": {
      "text/plain": [
       "HuberRegressor(alpha=100, epsilon=1, fit_intercept=True, max_iter=700,\n",
       "        tol=1e-05, warm_start=False)"
      ]
     },
     "metadata": {},
     "output_type": "display_data"
    },
    {
     "data": {
      "text/plain": [
       "-0.01517831440283846"
      ]
     },
     "metadata": {},
     "output_type": "display_data"
    },
    {
     "data": {
      "text/plain": [
       "\" old\\nRidge(alpha=18, copy_X=True, fit_intercept=True, max_iter=700, normalize=True,\\n   random_state=None, solver='auto', tol=0.001)\\n\\n-0.015758869963216026\\n\\nRidge(alpha=100, copy_X=True, fit_intercept=True, max_iter=700,\\n   normalize=False, random_state=None, solver='auto', tol=0.001)\\n\\n-0.015192651972771632\\n\""
      ]
     },
     "execution_count": 394,
     "metadata": {},
     "output_type": "execute_result"
    }
   ],
   "source": [
    "cols_to_use=[\n",
    " 'interaction_8',\n",
    " 'interaction_7',\n",
    " 'fet_7_Minute_Mean',\n",
    " 'interaction_3',\n",
    " #'interaction_4', #verschlechtert das modell\n",
    " 'interaction_5',\n",
    " 'interaction_6',\n",
    " #new features   \n",
    " 'Delta_last_5',\n",
    " 'smoothed_minute_mean',\n",
    " 'smoothed_minute_sum',\n",
    " 'interaction_1',\n",
    " 'PR_Last_10',\n",
    " 'Delta_119',\n",
    " 'PR_120',\n",
    " 'minute_mean',\n",
    " 'minute_sum',\n",
    " 'Delta_120',\n",
    " 'Delta_last_60',\n",
    " 'fet_7_absdiff_RetDaily_Mad',\n",
    " 'PR_Last_60',\n",
    " #'Delta_dif_10_120',\n",
    " #'Diff_Ranked',\n",
    " 'Delta_last_10',\n",
    " 'interaction_2',\n",
    " #'grouped_rank_daily_2', removing them improved the model\n",
    " #'Rank_MinusTwo', removing them improved the model\n",
    " 'PR_Last_30',\n",
    " #'PR_Last_5',\n",
    " #'last_minute_diff',\n",
    " #'fet_7_diff_RetDaily_Mad',\n",
    " #'fet_7_fet_5_Ret_MinusOne_Mad',\n",
    " #'Delta_dif_60_60',\n",
    " #'smoothed_minute_25_quantile',\n",
    " #'minute_kurt',\n",
    " #'Ret_MinusOne',\n",
    " #'last_minute_sum'\n",
    " #most correalting with ret plus two\n",
    "\n",
    "]\n",
    "\n",
    "ridge = Ridge()\n",
    "param_grid= {'alpha': [20,19,18,17,16,15,12,11],'normalize':[False, True],'max_iter':[700]}\n",
    "gs= GridSearchCV(ridge, param_grid, iid=False, refit=True, cv=group_shuffle, return_train_score =True, scoring='neg_mean_absolute_error')\n",
    "gs.fit(X[cols_to_use], y.Ret_PlusOne, groups)\n",
    "gs.cv_results_ \n",
    "display(gs.best_estimator_)\n",
    "display(gs.best_score_ )\n",
    "\n",
    "###do not ever overwrite the winning solution\n",
    "grid = pd.DataFrame(np.zeros([120000, 62]), columns = df_train.loc[:, 'Ret_121':'Ret_PlusTwo'].columns)\n",
    "grid.shape\n",
    "\n",
    "grid['Ret_PlusOne'] = ((gs.predict(test[cols_to_use])))\n",
    "\n",
    "\n",
    "# Ret_PlusTwo\n",
    "'''\n",
    "cols_to_use=['fet_7_absdiff_RetDaily_Mean',\n",
    " 'last_minute_diff',\n",
    " \n",
    " 'fet_7_RetMinTwo_Mad',\n",
    " 'fet_7_absdiff_RetDaily_Mad',\n",
    " 'MAD_last_60',\n",
    " 'abs_daily_diff',\n",
    " 'MAD_dif_60_120',\n",
    " 'MAD_120',\n",
    " 'minute_median',\n",
    " 'minute_mad',\n",
    " 'minute_sem',\n",
    " 'minute_var',\n",
    " 'minute_std',\n",
    " 'smoothed_minute_var',\n",
    " 'smoothed_minute_std',\n",
    " 'smoothed_minute_sem',\n",
    " 'fet_7_fet_5_AbsDiff_Daily_Mean',\n",
    " 'smoothed_minute_median',\n",
    " 'smoothed_minute_mad',\n",
    " 'MAD_last_30',\n",
    " 'fet_7_diff_RetDaily_Mad',\n",
    " ]\n",
    "\n",
    "ridge = Ridge()\n",
    "param_grid= {'alpha': [100,60,20,19,18,17,16,15,12,11],'normalize':[False, True],'max_iter':[700]}\n",
    "gs= GridSearchCV(ridge, param_grid, iid=False, refit=True, cv=group_shuffle, return_train_score =True, scoring='neg_mean_absolute_error')\n",
    "gs.fit(X[cols_to_use], y.Ret_PlusTwo, groups)\n",
    "gs.cv_results_ \n",
    "display(gs.best_estimator_)\n",
    "display(gs.best_score_ )\n",
    "\n",
    "\n",
    "###do not ever overwrite the winning solution\n",
    "\n",
    "grid['Ret_PlusTwo'] = ((gs.predict(test[cols_to_use])))\n",
    "'''\n",
    "from sklearn.model_selection import GridSearchCV\n",
    "from sklearn.model_selection import cross_val_score\n",
    "from sklearn.model_selection import GroupShuffleSplit\n",
    "group_shuffle = GroupShuffleSplit(n_splits=10, test_size=0.6, train_size=0.4, random_state=0)\n",
    "from sklearn.linear_model import Lasso\n",
    "from sklearn.linear_model import Ridge\n",
    "from sklearn.linear_model import HuberRegressor\n",
    "\n",
    "cols_to_use=['x1 x8',\n",
    " 'x3 x16',\n",
    " 'x5 x10',\n",
    " 'x5 x16',\n",
    " 'x5',\n",
    " 'x5 x6',\n",
    " 'x3 x6',\n",
    " 'x3 x5',\n",
    " 'x5 x11',\n",
    " 'x3 x10',\n",
    " 'x3^2',\n",
    " 'x2^2',\n",
    " 'x3',\n",
    " 'x3 x12']\n",
    "\n",
    "huber = HuberRegressor()\n",
    "param_grid= {'alpha': [100,20,19,18,17,16,15,12,11],'epsilon':[1],'max_iter':[700]}\n",
    "gs= GridSearchCV(huber, param_grid, iid=False, refit=True, cv=group_shuffle, return_train_score =True, scoring='neg_mean_absolute_error')\n",
    "gs.fit(X_2[cols_to_use], y.Ret_PlusTwo, groups)\n",
    "gs.cv_results_ \n",
    "display(gs.best_estimator_)\n",
    "display(gs.best_score_ )\n",
    "\n",
    "\n",
    "###do not ever overwrite the winning solution\n",
    "\n",
    "grid['Ret_PlusTwo'] = ((gs.predict(test_2[cols_to_use])))\n",
    "\n",
    "\n",
    "#sample['Predicted'] = grid.values.flatten()\n",
    "#sample.to_csv('submissions/Ret_PlusOneTwo_ridge_huber_fet_int.csv', index=False)\n",
    "\n",
    "''' old\n",
    "Ridge(alpha=18, copy_X=True, fit_intercept=True, max_iter=700, normalize=True,\n",
    "   random_state=None, solver='auto', tol=0.001)\n",
    "\n",
    "-0.015758869963216026\n",
    "\n",
    "Ridge(alpha=100, copy_X=True, fit_intercept=True, max_iter=700,\n",
    "   normalize=False, random_state=None, solver='auto', tol=0.001)\n",
    "\n",
    "-0.015192651972771632\n",
    "'''"
   ]
  },
  {
   "cell_type": "markdown",
   "metadata": {},
   "source": [
    "# Trying Interactions"
   ]
  },
  {
   "cell_type": "code",
   "execution_count": 247,
   "metadata": {},
   "outputs": [
    {
     "data": {
      "text/plain": [
       "(40000, 190)"
      ]
     },
     "metadata": {},
     "output_type": "display_data"
    },
    {
     "data": {
      "text/plain": [
       "(120000, 190)"
      ]
     },
     "metadata": {},
     "output_type": "display_data"
    }
   ],
   "source": [
    "display(X_2.shape)\n",
    "display(test_2.shape)"
   ]
  },
  {
   "cell_type": "code",
   "execution_count": 377,
   "metadata": {},
   "outputs": [],
   "source": [
    "from sklearn.preprocessing import PolynomialFeatures\n",
    "poly=PolynomialFeatures()\n",
    "X_2 = pd.read_csv('X_features_2.csv', index_col=0)\n",
    "test_2 = pd.read_csv('test_features_2.csv', index_col=0)\n",
    "X_2 = pd.DataFrame(poly.fit_transform(X_2), columns= poly.get_feature_names())\n",
    "test_2=pd.DataFrame(poly.fit_transform(test_2), columns= poly.get_feature_names())"
   ]
  },
  {
   "cell_type": "code",
   "execution_count": 378,
   "metadata": {},
   "outputs": [
    {
     "data": {
      "text/html": [
       "<div>\n",
       "<style scoped>\n",
       "    .dataframe tbody tr th:only-of-type {\n",
       "        vertical-align: middle;\n",
       "    }\n",
       "\n",
       "    .dataframe tbody tr th {\n",
       "        vertical-align: top;\n",
       "    }\n",
       "\n",
       "    .dataframe thead th {\n",
       "        text-align: right;\n",
       "    }\n",
       "</style>\n",
       "<table border=\"1\" class=\"dataframe\">\n",
       "  <thead>\n",
       "    <tr style=\"text-align: right;\">\n",
       "      <th></th>\n",
       "      <th>1</th>\n",
       "      <th>x0</th>\n",
       "      <th>x1</th>\n",
       "      <th>x2</th>\n",
       "      <th>x3</th>\n",
       "      <th>x4</th>\n",
       "      <th>x5</th>\n",
       "      <th>x6</th>\n",
       "      <th>x7</th>\n",
       "      <th>x8</th>\n",
       "      <th>...</th>\n",
       "      <th>x19^2</th>\n",
       "      <th>x19 x20</th>\n",
       "      <th>x19 x21</th>\n",
       "      <th>x19 x22</th>\n",
       "      <th>x20^2</th>\n",
       "      <th>x20 x21</th>\n",
       "      <th>x20 x22</th>\n",
       "      <th>x21^2</th>\n",
       "      <th>x21 x22</th>\n",
       "      <th>x22^2</th>\n",
       "    </tr>\n",
       "  </thead>\n",
       "  <tbody>\n",
       "    <tr>\n",
       "      <th>0</th>\n",
       "      <td>1.0</td>\n",
       "      <td>-5.286893e-07</td>\n",
       "      <td>-7.099071e-07</td>\n",
       "      <td>-0.066045</td>\n",
       "      <td>0.066045</td>\n",
       "      <td>0.044505</td>\n",
       "      <td>0.000143</td>\n",
       "      <td>0.000143</td>\n",
       "      <td>0.000125</td>\n",
       "      <td>-0.003243</td>\n",
       "      <td>...</td>\n",
       "      <td>1.780043e-09</td>\n",
       "      <td>-4.786382e-08</td>\n",
       "      <td>2.029249e-07</td>\n",
       "      <td>-1.236501e-06</td>\n",
       "      <td>1.287017e-06</td>\n",
       "      <td>-5.456475e-06</td>\n",
       "      <td>3.324844e-05</td>\n",
       "      <td>0.000023</td>\n",
       "      <td>-0.000141</td>\n",
       "      <td>0.000859</td>\n",
       "    </tr>\n",
       "    <tr>\n",
       "      <th>1</th>\n",
       "      <td>1.0</td>\n",
       "      <td>-1.545452e-07</td>\n",
       "      <td>5.356965e-08</td>\n",
       "      <td>-0.006760</td>\n",
       "      <td>0.006760</td>\n",
       "      <td>0.012735</td>\n",
       "      <td>0.000263</td>\n",
       "      <td>0.000263</td>\n",
       "      <td>0.000249</td>\n",
       "      <td>0.002226</td>\n",
       "      <td>...</td>\n",
       "      <td>7.100520e-10</td>\n",
       "      <td>7.323937e-08</td>\n",
       "      <td>8.094592e-08</td>\n",
       "      <td>-2.547479e-07</td>\n",
       "      <td>7.554384e-06</td>\n",
       "      <td>8.349288e-06</td>\n",
       "      <td>-2.627635e-05</td>\n",
       "      <td>0.000009</td>\n",
       "      <td>-0.000029</td>\n",
       "      <td>0.000091</td>\n",
       "    </tr>\n",
       "    <tr>\n",
       "      <th>2</th>\n",
       "      <td>1.0</td>\n",
       "      <td>-8.857104e-07</td>\n",
       "      <td>1.083472e-07</td>\n",
       "      <td>0.003104</td>\n",
       "      <td>0.003104</td>\n",
       "      <td>0.009258</td>\n",
       "      <td>-0.000101</td>\n",
       "      <td>0.000101</td>\n",
       "      <td>-0.000642</td>\n",
       "      <td>-0.003532</td>\n",
       "      <td>...</td>\n",
       "      <td>9.949417e-10</td>\n",
       "      <td>-4.909615e-08</td>\n",
       "      <td>1.134234e-07</td>\n",
       "      <td>-2.530092e-07</td>\n",
       "      <td>2.422686e-06</td>\n",
       "      <td>-5.596961e-06</td>\n",
       "      <td>1.248493e-05</td>\n",
       "      <td>0.000013</td>\n",
       "      <td>-0.000029</td>\n",
       "      <td>0.000064</td>\n",
       "    </tr>\n",
       "    <tr>\n",
       "      <th>3</th>\n",
       "      <td>1.0</td>\n",
       "      <td>-8.064639e-08</td>\n",
       "      <td>-2.398953e-07</td>\n",
       "      <td>0.013122</td>\n",
       "      <td>0.013122</td>\n",
       "      <td>0.015090</td>\n",
       "      <td>0.000069</td>\n",
       "      <td>0.000069</td>\n",
       "      <td>0.000375</td>\n",
       "      <td>0.019371</td>\n",
       "      <td>...</td>\n",
       "      <td>7.062566e-10</td>\n",
       "      <td>1.744529e-09</td>\n",
       "      <td>8.051326e-08</td>\n",
       "      <td>-5.554555e-08</td>\n",
       "      <td>4.309171e-09</td>\n",
       "      <td>1.988763e-07</td>\n",
       "      <td>-1.372034e-07</td>\n",
       "      <td>0.000009</td>\n",
       "      <td>-0.000006</td>\n",
       "      <td>0.000004</td>\n",
       "    </tr>\n",
       "    <tr>\n",
       "      <th>4</th>\n",
       "      <td>1.0</td>\n",
       "      <td>-1.245552e-08</td>\n",
       "      <td>6.795388e-07</td>\n",
       "      <td>0.029289</td>\n",
       "      <td>0.029289</td>\n",
       "      <td>-0.007159</td>\n",
       "      <td>-0.001208</td>\n",
       "      <td>0.001208</td>\n",
       "      <td>0.001207</td>\n",
       "      <td>0.007319</td>\n",
       "      <td>...</td>\n",
       "      <td>8.184735e-10</td>\n",
       "      <td>-3.541729e-08</td>\n",
       "      <td>9.330598e-08</td>\n",
       "      <td>-1.722047e-07</td>\n",
       "      <td>1.532590e-06</td>\n",
       "      <td>-4.037571e-06</td>\n",
       "      <td>7.451706e-06</td>\n",
       "      <td>0.000011</td>\n",
       "      <td>-0.000020</td>\n",
       "      <td>0.000036</td>\n",
       "    </tr>\n",
       "  </tbody>\n",
       "</table>\n",
       "<p>5 rows × 300 columns</p>\n",
       "</div>"
      ],
      "text/plain": [
       "     1            x0            x1        x2        x3        x4        x5  \\\n",
       "0  1.0 -5.286893e-07 -7.099071e-07 -0.066045  0.066045  0.044505  0.000143   \n",
       "1  1.0 -1.545452e-07  5.356965e-08 -0.006760  0.006760  0.012735  0.000263   \n",
       "2  1.0 -8.857104e-07  1.083472e-07  0.003104  0.003104  0.009258 -0.000101   \n",
       "3  1.0 -8.064639e-08 -2.398953e-07  0.013122  0.013122  0.015090  0.000069   \n",
       "4  1.0 -1.245552e-08  6.795388e-07  0.029289  0.029289 -0.007159 -0.001208   \n",
       "\n",
       "         x6        x7        x8    ...            x19^2       x19 x20  \\\n",
       "0  0.000143  0.000125 -0.003243    ...     1.780043e-09 -4.786382e-08   \n",
       "1  0.000263  0.000249  0.002226    ...     7.100520e-10  7.323937e-08   \n",
       "2  0.000101 -0.000642 -0.003532    ...     9.949417e-10 -4.909615e-08   \n",
       "3  0.000069  0.000375  0.019371    ...     7.062566e-10  1.744529e-09   \n",
       "4  0.001208  0.001207  0.007319    ...     8.184735e-10 -3.541729e-08   \n",
       "\n",
       "        x19 x21       x19 x22         x20^2       x20 x21       x20 x22  \\\n",
       "0  2.029249e-07 -1.236501e-06  1.287017e-06 -5.456475e-06  3.324844e-05   \n",
       "1  8.094592e-08 -2.547479e-07  7.554384e-06  8.349288e-06 -2.627635e-05   \n",
       "2  1.134234e-07 -2.530092e-07  2.422686e-06 -5.596961e-06  1.248493e-05   \n",
       "3  8.051326e-08 -5.554555e-08  4.309171e-09  1.988763e-07 -1.372034e-07   \n",
       "4  9.330598e-08 -1.722047e-07  1.532590e-06 -4.037571e-06  7.451706e-06   \n",
       "\n",
       "      x21^2   x21 x22     x22^2  \n",
       "0  0.000023 -0.000141  0.000859  \n",
       "1  0.000009 -0.000029  0.000091  \n",
       "2  0.000013 -0.000029  0.000064  \n",
       "3  0.000009 -0.000006  0.000004  \n",
       "4  0.000011 -0.000020  0.000036  \n",
       "\n",
       "[5 rows x 300 columns]"
      ]
     },
     "execution_count": 378,
     "metadata": {},
     "output_type": "execute_result"
    }
   ],
   "source": [
    "X_2.head()"
   ]
  },
  {
   "cell_type": "markdown",
   "metadata": {},
   "source": [
    "## Ret_PlusOne\n",
    "### ridge"
   ]
  },
  {
   "cell_type": "code",
   "execution_count": 386,
   "metadata": {},
   "outputs": [
    {
     "data": {
      "text/plain": [
       "Ridge(alpha=22, copy_X=True, fit_intercept=True, max_iter=700, normalize=True,\n",
       "   random_state=0, solver='auto', tol=0.001)"
      ]
     },
     "metadata": {},
     "output_type": "display_data"
    },
    {
     "data": {
      "text/plain": [
       "-0.015755930185026055"
      ]
     },
     "metadata": {},
     "output_type": "display_data"
    }
   ],
   "source": [
    "from sklearn.model_selection import GridSearchCV\n",
    "from sklearn.model_selection import cross_val_score\n",
    "from sklearn.model_selection import GroupShuffleSplit\n",
    "group_shuffle = GroupShuffleSplit(n_splits=10, test_size=0.6, train_size=0.4, random_state=0)\n",
    "from sklearn.linear_model import Lasso\n",
    "from sklearn.linear_model import Ridge\n",
    "\n",
    "cols_to_use=['x16 x18',\n",
    " 'x20 x22',\n",
    " 'x6 x18',\n",
    " 'x10 x18',\n",
    " 'x20 x21',\n",
    " 'x18 x21',\n",
    " 'x13 x20',\n",
    " 'x3 x20',\n",
    " 'x18',\n",
    " 'x20',\n",
    " 'x11 x20',\n",
    " 'x12 x18',\n",
    " 'x9 x18',\n",
    " 'x15 x16',\n",
    " 'x16 x17',\n",
    " ]\n",
    "\n",
    "ridge = Ridge()\n",
    "param_grid= {'alpha': [23,22,21,20,19,18,17],'normalize':[True],'max_iter':[700], 'random_state': [0]}\n",
    "gs= GridSearchCV(ridge, param_grid, iid=False, refit=True, cv=group_shuffle, return_train_score =True, scoring='neg_mean_absolute_error')\n",
    "gs.fit(X_2[cols_to_use], y.Ret_PlusOne, groups)\n",
    "gs.cv_results_ \n",
    "display(gs.best_estimator_)\n",
    "display(gs.best_score_ )\n",
    "\n",
    "\n",
    "###do not ever overwrite the winning solution\n",
    "grid = pd.DataFrame(np.zeros([120000, 62]), columns = df_train.loc[:, 'Ret_121':'Ret_PlusTwo'].columns)\n",
    "grid.shape\n",
    "\n",
    "grid['Ret_PlusOne'] = ((gs.predict(test_2[cols_to_use])))\n",
    "\n",
    "sample['Predicted'] = grid.values.flatten()\n",
    "sample.to_csv('submissions/Ret_PlusOne_ridge_aplha_16_interaction_new.csv', index=False)\n",
    "\n",
    "#-0.01575766851627325 nur mit interaction 3\n",
    "#-0.01575671834227754 ohne 4\n",
    "#-0.015756860156482495 mit alles interactions\n",
    "#-0.015755930185026055 neugeneriertes polyfeatureset"
   ]
  },
  {
   "cell_type": "code",
   "execution_count": 262,
   "metadata": {},
   "outputs": [
    {
     "data": {
      "text/plain": [
       "<Container object of 14 artists>"
      ]
     },
     "execution_count": 262,
     "metadata": {},
     "output_type": "execute_result"
    },
    {
     "data": {
      "image/png": "[encoded data removed]",
      "text/plain": [
       "<matplotlib.figure.Figure at 0x1be00819b00>"
      ]
     },
     "metadata": {},
     "output_type": "display_data"
    }
   ],
   "source": [
    "plt.figure(figsize=(20,10))\n",
    "plt.xticks(rotation='vertical')\n",
    "plt.bar(cols_to_use, gs.best_estimator_.coef_)"
   ]
  },
  {
   "cell_type": "markdown",
   "metadata": {},
   "source": [
    "### GBM"
   ]
  },
  {
   "cell_type": "code",
   "execution_count": 387,
   "metadata": {},
   "outputs": [
    {
     "name": "stdout",
     "output_type": "stream",
     "text": [
      "training time: 91.577 s\n"
     ]
    },
    {
     "data": {
      "text/plain": [
       "GradientBoostingRegressor(alpha=0.9, criterion='friedman_mse', init=None,\n",
       "             learning_rate=0.1, loss='ls', max_depth=1,\n",
       "             max_features='sqrt', max_leaf_nodes=None,\n",
       "             min_impurity_decrease=0.0, min_impurity_split=None,\n",
       "             min_samples_leaf=1, min_samples_split=5,\n",
       "             min_weight_fraction_leaf=0.0, n_estimators=7, presort='auto',\n",
       "             random_state=0, subsample=1.0, verbose=0, warm_start=False)"
      ]
     },
     "metadata": {},
     "output_type": "display_data"
    },
    {
     "data": {
      "text/plain": [
       "-0.015791775404999493"
      ]
     },
     "metadata": {},
     "output_type": "display_data"
    }
   ],
   "source": [
    "from sklearn.ensemble import GradientBoostingRegressor\n",
    "import time\n",
    "t0=time.time()\n",
    "\n",
    "cols_to_use=['x15 x16', 'x16 x17', 'x10 x15', 'x0 x10', 'x10 x17', 'x0 x6',\n",
    "       'x11 x15', 'x14 x16', 'x15', 'x0 x11', 'x0', 'x3 x15', 'x11 x17',\n",
    "       'x10 x14', 'x16 x18',\n",
    " 'x20 x22',\n",
    " 'x6 x18',\n",
    " 'x10 x18',\n",
    " 'x20 x21',\n",
    " 'x18 x21',\n",
    " 'x13 x20',\n",
    " 'x3 x20',\n",
    " 'x18',\n",
    " 'x20',\n",
    " 'x11 x20',\n",
    " 'x12 x18',\n",
    " 'x9 x18',\n",
    " 'x15 x16',\n",
    " 'x16 x17']\n",
    "\n",
    "gbm = GradientBoostingRegressor()\n",
    "param_grid= {'random_state': [0],'n_estimators': [9,8,7],'loss':['ls'],'max_depth':[2,1],\n",
    "             'max_features':['auto','sqrt'],\n",
    "             'min_samples_leaf':[2,1],\n",
    "             'min_samples_split':[5,4,3]}\n",
    "gs= GridSearchCV(gbm, param_grid, iid=False, refit=True, cv=group_shuffle, return_train_score =True, scoring='neg_mean_absolute_error')\n",
    "gs.fit(X_2[cols_to_use], y.Ret_PlusOne, groups)\n",
    "\n",
    "print(\"training time:\", round(time.time()-t0, 3), \"s\")\n",
    "\n",
    "gs.cv_results_ \n",
    "display(gs.best_estimator_)\n",
    "display(gs.best_score_ )\n",
    "\n",
    "#-0.015771038303451772"
   ]
  },
  {
   "cell_type": "markdown",
   "metadata": {},
   "source": [
    "## Ret_PlusTwo"
   ]
  },
  {
   "cell_type": "code",
   "execution_count": 263,
   "metadata": {},
   "outputs": [
    {
     "data": {
      "text/plain": [
       "HuberRegressor(alpha=100, epsilon=1, fit_intercept=True, max_iter=700,\n",
       "        tol=1e-05, warm_start=False)"
      ]
     },
     "metadata": {},
     "output_type": "display_data"
    },
    {
     "data": {
      "text/plain": [
       "-0.01517831440283846"
      ]
     },
     "metadata": {},
     "output_type": "display_data"
    }
   ],
   "source": [
    "from sklearn.model_selection import GridSearchCV\n",
    "from sklearn.model_selection import cross_val_score\n",
    "from sklearn.model_selection import GroupShuffleSplit\n",
    "group_shuffle = GroupShuffleSplit(n_splits=10, test_size=0.6, train_size=0.4, random_state=0)\n",
    "from sklearn.linear_model import Lasso\n",
    "from sklearn.linear_model import Ridge\n",
    "from sklearn.linear_model import HuberRegressor\n",
    "\n",
    "cols_to_use=['x1 x8',\n",
    " 'x3 x16',\n",
    " 'x5 x10',\n",
    " 'x5 x16',\n",
    " 'x5',\n",
    " 'x5 x6',\n",
    " 'x3 x6',\n",
    " 'x3 x5',\n",
    " 'x5 x11',\n",
    " 'x3 x10',\n",
    " 'x3^2',\n",
    " 'x2^2',\n",
    " 'x3',\n",
    " 'x3 x12']\n",
    "\n",
    "huber = HuberRegressor()\n",
    "param_grid= {'alpha': [100,20,19,18,17,16,15,12,11],'epsilon':[1],'max_iter':[700]}\n",
    "gs= GridSearchCV(huber, param_grid, iid=False, refit=True, cv=group_shuffle, return_train_score =True, scoring='neg_mean_absolute_error')\n",
    "gs.fit(X_2[cols_to_use], y.Ret_PlusTwo, groups)\n",
    "gs.cv_results_ \n",
    "display(gs.best_estimator_)\n",
    "display(gs.best_score_ )\n",
    "\n",
    "\n",
    "###do not ever overwrite the winning solution\n",
    "grid = pd.DataFrame(np.zeros([120000, 62]), columns = df_train.loc[:, 'Ret_121':'Ret_PlusTwo'].columns)\n",
    "grid.shape\n",
    "\n",
    "grid['Ret_PlusTwo'] = ((gs.predict(test_2[cols_to_use])))\n",
    "\n",
    "#sample['Predicted'] = grid.values.flatten()\n",
    "#sample.to_csv('submissions/Ret_PlusTwo_huber_aplha_100_interaction.csv', index=False)\n",
    "\n",
    "#-0.01575766851627325 nur mit interaction 3\n",
    "#-0.01575671834227754 ohne 4\n",
    "#-0.015756860156482495 mit alles interactions"
   ]
  },
  {
   "cell_type": "code",
   "execution_count": 361,
   "metadata": {},
   "outputs": [
    {
     "name": "stdout",
     "output_type": "stream",
     "text": [
      "training time: 26.196 s\n"
     ]
    },
    {
     "data": {
      "text/plain": [
       "GradientBoostingRegressor(alpha=0.9, criterion='friedman_mse', init=None,\n",
       "             learning_rate=0.1, loss='ls', max_depth=1,\n",
       "             max_features='sqrt', max_leaf_nodes=None,\n",
       "             min_impurity_decrease=0.0, min_impurity_split=None,\n",
       "             min_samples_leaf=1, min_samples_split=10,\n",
       "             min_weight_fraction_leaf=0.0, n_estimators=6, presort='auto',\n",
       "             random_state=0, subsample=1.0, verbose=0, warm_start=False)"
      ]
     },
     "metadata": {},
     "output_type": "display_data"
    },
    {
     "data": {
      "text/plain": [
       "-0.0151948668047378"
      ]
     },
     "metadata": {},
     "output_type": "display_data"
    }
   ],
   "source": [
    "from sklearn.ensemble import GradientBoostingRegressor\n",
    "import time\n",
    "t0=time.time()\n",
    "\n",
    "cols_to_use=['x1 x8',\n",
    " 'x3 x16',\n",
    " 'x5 x10',\n",
    " 'x5 x16',\n",
    " 'x5',\n",
    " 'x5 x6',\n",
    " 'x3 x6',\n",
    " 'x3 x5',\n",
    " 'x5 x11',\n",
    " 'x3 x10',\n",
    " 'x3^2',\n",
    " 'x2^2',\n",
    " 'x3',\n",
    " 'x3 x12']\n",
    "\n",
    "gbm = GradientBoostingRegressor()\n",
    "param_grid= {'random_state': [0],'n_estimators': [8,7,6],'loss':['ls'],'max_depth':[2,1],\n",
    "             'max_features':['sqrt'],\n",
    "             'min_samples_leaf':[2,1],\n",
    "             'min_samples_split':[10,5,4,3]}\n",
    "gs= GridSearchCV(gbm, param_grid, iid=False, refit=True, cv=group_shuffle, return_train_score =True, scoring='neg_mean_absolute_error')\n",
    "gs.fit(X_2[cols_to_use], y.Ret_PlusTwo, groups)\n",
    "\n",
    "print(\"training time:\", round(time.time()-t0, 3), \"s\")\n",
    "\n",
    "gs.cv_results_ \n",
    "display(gs.best_estimator_)\n",
    "display(gs.best_score_ )\n",
    "\n",
    "\n",
    "#0.0151948668047378"
   ]
  },
  {
   "cell_type": "code",
   "execution_count": 357,
   "metadata": {},
   "outputs": [],
   "source": [
    "grid = pd.DataFrame(np.zeros([120000, 62]), columns = df_train.loc[:, 'Ret_121':'Ret_PlusTwo'].columns)\n",
    "grid.shape\n",
    "\n",
    "grid['Ret_PlusTwo'] = ((gs.predict(test_2[cols_to_use])))\n",
    "sample['Predicted'] = grid.values.flatten()\n",
    "sample.to_csv('submissions/Ret_PlusTwo_gbm_interaction.csv', index=False)"
   ]
  },
  {
   "cell_type": "markdown",
   "metadata": {},
   "source": [
    "## Minute Rets"
   ]
  },
  {
   "cell_type": "code",
   "execution_count": 347,
   "metadata": {},
   "outputs": [
    {
     "data": {
      "text/plain": [
       "Ridge(alpha=20000, copy_X=True, fit_intercept=True, max_iter=700,\n",
       "   normalize=False, random_state=None, solver='auto', tol=0.001)"
      ]
     },
     "metadata": {},
     "output_type": "display_data"
    },
    {
     "data": {
      "text/plain": [
       "-0.0017866446060416073"
      ]
     },
     "metadata": {},
     "output_type": "display_data"
    }
   ],
   "source": [
    "# Ret_Next 10\n",
    "\n",
    "cols_to_use = ['x5 x8',\n",
    " 'x4 x13',\n",
    " 'x4 x12',\n",
    " 'x4',\n",
    " 'x4 x11',\n",
    " 'x4 x16',\n",
    " 'x4 x10',\n",
    " 'x4 x6',\n",
    " 'x3 x4',\n",
    " 'x4 x9',\n",
    " 'x0 x8',\n",
    " 'x15^2',\n",
    " 'x15 x17',\n",
    " 'x14 x15',\n",
    " 'x14^2',\n",
    " 'x1 x6',\n",
    " 'x1 x13',\n",
    " 'x1 x8',\n",
    " 'x17^2']\n",
    "\n",
    "ridge = Ridge()\n",
    "param_grid= {'alpha': [20000,4000,5000,10000],'normalize':[False, True],'max_iter':[700]}\n",
    "gs= GridSearchCV(ridge, param_grid, iid=False, refit=True, cv=group_shuffle, return_train_score =True, scoring='neg_mean_absolute_error')\n",
    "gs.fit(X_2[cols_to_use], y.Ret_Next_10, groups)\n",
    "gs.cv_results_ \n",
    "display(gs.best_estimator_)\n",
    "display(gs.best_score_ )\n",
    "\n",
    "\n",
    "sample = pd.read_csv('sample_submission_2.csv')\n",
    "df_train = pd.read_csv('train.csv')\n",
    "grid = pd.DataFrame(np.zeros([120000, 62]), columns = df_train.loc[:, 'Ret_121':'Ret_PlusTwo'].columns)\n",
    "grid.shape\n",
    "\n",
    "for cols in grid.loc[:,'Ret_121':'Ret_130'].columns:\n",
    "    grid[cols] = ((gs.predict(test_2[cols_to_use]))/10)\n",
    "    \n",
    "sample['Predicted'] = grid.values.flatten()\n",
    "sample.to_csv('submissions/Ret_Next_10with_ridge_interactions.csv', index=False)\n",
    "#-0.0017866446060416073"
   ]
  },
  {
   "cell_type": "code",
   "execution_count": 351,
   "metadata": {},
   "outputs": [
    {
     "name": "stdout",
     "output_type": "stream",
     "text": [
      "training time: 280.688 s\n"
     ]
    },
    {
     "data": {
      "text/plain": [
       "GradientBoostingRegressor(alpha=0.9, criterion='friedman_mse', init=None,\n",
       "             learning_rate=0.1, loss='ls', max_depth=1,\n",
       "             max_features='sqrt', max_leaf_nodes=None,\n",
       "             min_impurity_decrease=0.0, min_impurity_split=None,\n",
       "             min_samples_leaf=1, min_samples_split=5,\n",
       "             min_weight_fraction_leaf=0.0, n_estimators=7, presort='auto',\n",
       "             random_state=0, subsample=1.0, verbose=0, warm_start=False)"
      ]
     },
     "metadata": {},
     "output_type": "display_data"
    },
    {
     "data": {
      "text/plain": [
       "-0.01520127524305033"
      ]
     },
     "metadata": {},
     "output_type": "display_data"
    }
   ],
   "source": [
    "cols_to_use = ['x5 x8',\n",
    " 'x4 x13',\n",
    " 'x4 x12',\n",
    " 'x4',\n",
    " 'x4 x11',\n",
    " 'x4 x16',\n",
    " 'x4 x10',\n",
    " 'x4 x6',\n",
    " 'x3 x4',\n",
    " 'x4 x9',\n",
    " 'x0 x8',\n",
    " 'x15^2',\n",
    " 'x15 x17',\n",
    " 'x14 x15',\n",
    " 'x14^2',\n",
    " 'x1 x6',\n",
    " 'x1 x13',\n",
    " 'x1 x8',\n",
    " 'x17^2']\n",
    "\n",
    "\n",
    "gbm = GradientBoostingRegressor()\n",
    "param_grid= {'random_state': [0],'n_estimators': [8,7],'loss':['ls'],'max_depth':[2,1],\n",
    "             'max_features':['sqrt'],\n",
    "             'min_samples_leaf':[2,1],\n",
    "             'min_samples_split':[5,4,3]}\n",
    "gs= GridSearchCV(gbm, param_grid, iid=False, refit=True, cv=group_shuffle, return_train_score =True, scoring='neg_mean_absolute_error')\n",
    "gs.fit(X_2[cols_to_use], y.Ret_PlusTwo, groups)\n",
    "\n",
    "print(\"training time:\", round(time.time()-t0, 3), \"s\")\n",
    "\n",
    "gs.cv_results_ \n",
    "display(gs.best_estimator_)\n",
    "display(gs.best_score_ )\n",
    "\n",
    "for cols in grid.loc[:,'Ret_121':'Ret_130'].columns:\n",
    "    grid[cols] = ((gs.predict(test_2[cols_to_use]))/10)\n",
    "    \n",
    "sample['Predicted'] = grid.values.flatten()\n",
    "sample.to_csv('submissions/Ret_Next_10with_gbm_interactions.csv', index=False)"
   ]
  },
  {
   "cell_type": "code",
   "execution_count": null,
   "metadata": {},
   "outputs": [],
   "source": []
  }
 ],
 "metadata": {
  "kernelspec": {
   "display_name": "Python 3",
   "language": "python",
   "name": "python3"
  },
  "language_info": {
   "codemirror_mode": {
    "name": "ipython",
    "version": 3
   },
   "file_extension": ".py",
   "mimetype": "text/x-python",
   "name": "python",
   "nbconvert_exporter": "python",
   "pygments_lexer": "ipython3",
   "version": "3.6.4"
  }
 },
 "nbformat": 4,
 "nbformat_minor": 2
}
