{
 "cells": [
  {
   "cell_type": "code",
   "execution_count": 1,
   "metadata": {},
   "outputs": [
    {
     "name": "stdout",
     "output_type": "stream",
     "text": [
      "C:\\Users\\matze\\Documents\\Winton\\CRISPDM\n"
     ]
    }
   ],
   "source": [
    "import numpy as np # linear algebra\n",
    "import pandas as pd # data processing, CSV file I/O (e.g. pd.read_csv)\n",
    "import matplotlib.pyplot as plt\n",
    "import seaborn as sns\n",
    "\n",
    "import os\n",
    "print(os.getcwd()) "
   ]
  },
  {
   "cell_type": "code",
   "execution_count": 2,
   "metadata": {},
   "outputs": [],
   "source": [
    "df_train = pd.read_csv('train.csv').set_index('Id')\n",
    "df_test = pd.read_csv('test_2.csv').set_index('Id')"
   ]
  },
  {
   "cell_type": "markdown",
   "metadata": {},
   "source": [
    "### break down "
   ]
  },
  {
   "cell_type": "code",
   "execution_count": 3,
   "metadata": {},
   "outputs": [],
   "source": [
    "X_train = df_train.loc[:,'Feature_1':'Ret_120']\n",
    "y_train = df_train.loc[:,'Ret_121':'Ret_PlusTwo']\n",
    "weights = df_train[['Weight_Daily','Weight_Intraday']]\n",
    "X_train_Feature = X_train.loc[:,'Feature_1':'Feature_25']\n",
    "X_train_Daily = X_train.loc[:,'Ret_MinusTwo':'Ret_MinusOne']\n",
    "X_train_Minute = X_train.loc[:,'Ret_2':'Ret_120']"
   ]
  },
  {
   "cell_type": "code",
   "execution_count": 4,
   "metadata": {},
   "outputs": [],
   "source": [
    "X_test = df_test.loc[:,'Feature_1':'Ret_120']\n",
    "\n",
    "X_test_Feature = X_test.loc[:,'Feature_1':'Feature_25']\n",
    "X_test_Daily = X_test.loc[:,'Ret_MinusTwo':'Ret_MinusOne']\n",
    "X_test_Minute = X_test.loc[:,'Ret_2':'Ret_120']"
   ]
  },
  {
   "cell_type": "markdown",
   "metadata": {},
   "source": [
    "# Typecasting"
   ]
  },
  {
   "cell_type": "code",
   "execution_count": 5,
   "metadata": {},
   "outputs": [],
   "source": [
    "#X_Feature.head()"
   ]
  },
  {
   "cell_type": "code",
   "execution_count": null,
   "metadata": {},
   "outputs": [],
   "source": [
    "df_train.Feature_1.unique().size\n",
    "for col in df_train.loc[:, 'Feature_1':'Feature_25'].columns:\n",
    "    print(col, df_train[col].unique().size, df_test[col].unique().size)"
   ]
  },
  {
   "cell_type": "code",
   "execution_count": 6,
   "metadata": {},
   "outputs": [],
   "source": [
    "\n",
    "def typecasting(df):\n",
    "    categorial_cols = ['Feature_1', 'Feature_5', 'Feature_10', 'Feature_20']\n",
    "    binary_cols = ['Feature_16']\n",
    "\n",
    "    for col in categorial_cols:\n",
    "        df[col] = df[col].astype('category')\n",
    "    \n",
    "    for col in binary_cols:\n",
    "        df[col] = (df[col]-1).astype('category')\n",
    "\n"
   ]
  },
  {
   "cell_type": "code",
   "execution_count": 7,
   "metadata": {},
   "outputs": [],
   "source": [
    "typecasting(X_train_Feature)\n",
    "typecasting(X_test_Feature)\n",
    "#df_train.dtypes"
   ]
  },
  {
   "cell_type": "markdown",
   "metadata": {},
   "source": [
    "### One Hot encode"
   ]
  },
  {
   "cell_type": "code",
   "execution_count": 9,
   "metadata": {},
   "outputs": [],
   "source": [
    "X_train_Feature = pd.get_dummies(X_train_Feature)\n",
    "X_test_Feature = pd.get_dummies(X_test_Feature)\n",
    "\n",
    "#adding Feature_5 for FEature enineering reasons\n",
    "X_train_Feature['Feature_5'] = X_train.Feature_5\n",
    "X_test_Feature['Feature_5'] = X_test.Feature_5"
   ]
  },
  {
   "cell_type": "markdown",
   "metadata": {},
   "source": [
    "# check for missing values"
   ]
  },
  {
   "cell_type": "code",
   "execution_count": 11,
   "metadata": {},
   "outputs": [
    {
     "name": "stdout",
     "output_type": "stream",
     "text": [
      "Missing Values in X:: True\n",
      "Missing Values in Target:: False\n"
     ]
    }
   ],
   "source": [
    "print('Missing Values in X:: {}'.format(X_train.isna().sum().any()))\n",
    "print('Missing Values in Target:: {}'.format(y_train.isna().sum().any()))"
   ]
  },
  {
   "cell_type": "code",
   "execution_count": null,
   "metadata": {},
   "outputs": [],
   "source": []
  },
  {
   "cell_type": "code",
   "execution_count": 13,
   "metadata": {},
   "outputs": [
    {
     "name": "stdout",
     "output_type": "stream",
     "text": [
      "Missing Values in X Features:: True\n",
      "Missing Values in X Daily:: False\n",
      "Missing Values in X Minute:: True\n"
     ]
    }
   ],
   "source": [
    "print('Missing Values in X Features:: {}'.format(X_train_Feature.isna().sum().any()))\n",
    "print('Missing Values in X Daily:: {}'.format(X_train_Daily.isna().sum().any()))\n",
    "print('Missing Values in X Minute:: {}'.format(X_train_Minute.isna().sum().any()))"
   ]
  },
  {
   "cell_type": "markdown",
   "metadata": {},
   "source": [
    "## missing values in minute returns\n",
    "Entweder Mittelwert oder 0er"
   ]
  },
  {
   "cell_type": "code",
   "execution_count": null,
   "metadata": {},
   "outputs": [],
   "source": []
  },
  {
   "cell_type": "code",
   "execution_count": null,
   "metadata": {},
   "outputs": [],
   "source": [
    "labels = []\n",
    "values = []\n",
    "for col in X_Minute.index:\n",
    "    labels.append(col)\n",
    "    values.append(X_Minute.loc[col].isnull().sum()/(X_Minute.columns.size))\n",
    "print('Percentage of stocks with missing values:: {}'.format((X_Minute.isna().sum(axis=1)!=0).sum()/40000))\n",
    "pd.DataFrame(values, columns=['Description of Missing Values']).describe()\n",
    "#der anteil von fehlenden wertenschwankt für die "
   ]
  },
  {
   "cell_type": "code",
   "execution_count": null,
   "metadata": {},
   "outputs": [],
   "source": [
    "print('Anteil der Werte mit mehr als 10% Fehlenden return rates:: {}'.format(((X_train_Minute.isna().sum(axis=1)/119) > 0.1).sum()/40000))\n",
    "print('Anteil der Werte mit mehr als 10% Fehlenden return rates:: {}'.format(((X_test_Minute.isna().sum(axis=1)/119) > 0.1).sum()/40000))\n"
   ]
  },
  {
   "cell_type": "markdown",
   "metadata": {},
   "source": [
    "### conclusion\n",
    "Für die Minutenrenditen sind bei den allermeisten werten mehr als 97.5% der WErte vorhanden für diese würde ich einfach mean imputation wählen für die werte die mehr als 10% fehlende werte enthalten muss ggf ein anderen vorgehen gewählt werden oder man schmeißt sie einfach raus"
   ]
  },
  {
   "cell_type": "markdown",
   "metadata": {},
   "source": [
    "## Missing Values in Features"
   ]
  },
  {
   "cell_type": "code",
   "execution_count": null,
   "metadata": {},
   "outputs": [],
   "source": []
  },
  {
   "cell_type": "code",
   "execution_count": null,
   "metadata": {},
   "outputs": [],
   "source": [
    "labels = []\n",
    "values = []\n",
    "for col in X_Feature.columns:\n",
    "    labels.append(col)\n",
    "    values.append(X_Feature[col].isnull().sum()/(X_Feature.index.size))\n",
    "#    print(col, values[-1])\n",
    "    \n",
    "train_nan = pd.DataFrame(labels, columns=['labels'])\n",
    "train_nan['Percentage'] = values\n",
    "train_nan.loc[train_nan['Percentage'] > 0.1]"
   ]
  },
  {
   "cell_type": "markdown",
   "metadata": {},
   "source": [
    "### conclusion\n",
    "some of the columns have lots of missing values i don't think that mean/modus imputation will help a lot there, one option could be to fill in 0 and onehotencode the categorial values\n",
    "\n",
    "for simplicity reasons i will for now simply fillna(0) the featureset"
   ]
  },
  {
   "cell_type": "markdown",
   "metadata": {},
   "source": [
    "# Imputation"
   ]
  },
  {
   "cell_type": "code",
   "execution_count": 14,
   "metadata": {},
   "outputs": [],
   "source": [
    "from sklearn.pipeline import Pipeline\n",
    "from sklearn.preprocessing import Imputer"
   ]
  },
  {
   "cell_type": "code",
   "execution_count": null,
   "metadata": {},
   "outputs": [],
   "source": []
  },
  {
   "cell_type": "code",
   "execution_count": 15,
   "metadata": {},
   "outputs": [],
   "source": [
    "minute_pipeline = Pipeline([\n",
    " ('imputer', Imputer(axis=1))\n",
    "])\n",
    "feature_pipeline = Pipeline([\n",
    " ('imputer', Imputer(axis=0))\n",
    "])\n"
   ]
  },
  {
   "cell_type": "code",
   "execution_count": 16,
   "metadata": {},
   "outputs": [],
   "source": [
    "#train\n",
    "def imputation(df_feature, df_minute, df_daily):\n",
    "    df_feature = pd.DataFrame(feature_pipeline.fit_transform(df_feature), columns=df_feature.columns, index = df_feature.index)\n",
    "    df_minute = pd.DataFrame(minute_pipeline.fit_transform(df_minute),columns=df_minute.columns, index=df_minute.index)\n",
    "    return pd.concat([df_feature, df_daily, df_minute], axis=1)"
   ]
  },
  {
   "cell_type": "code",
   "execution_count": 17,
   "metadata": {},
   "outputs": [],
   "source": [
    "X_train_cleaned = imputation(X_train_Feature, X_train_Minute, X_train_Daily)\n",
    "X_test_cleaned = imputation(X_test_Feature, X_test_Minute, X_test_Daily)"
   ]
  },
  {
   "cell_type": "markdown",
   "metadata": {},
   "source": [
    "### checking shape and nans"
   ]
  },
  {
   "cell_type": "code",
   "execution_count": 18,
   "metadata": {},
   "outputs": [
    {
     "name": "stdout",
     "output_type": "stream",
     "text": [
      "Train:: Columns with missing Values::  0 Number of Columns::  179\n",
      "Train Target:: Columns with missing Values::  0 Number of Columns::  62\n",
      "Test:: Columns with missing Values::  0 Number of Columns::  179\n"
     ]
    }
   ],
   "source": [
    "print('Train:: Columns with missing Values:: ',X_train_cleaned.isna().any().sum(), 'Number of Columns:: ', X_train_cleaned.shape[1])\n",
    "print('Train Target:: Columns with missing Values:: ',y_train.isna().any().sum(), 'Number of Columns:: ', y_train.shape[1])\n",
    "print('Test:: Columns with missing Values:: ',X_test_cleaned.isna().any().sum(), 'Number of Columns:: ', X_test_cleaned.shape[1])"
   ]
  },
  {
   "cell_type": "code",
   "execution_count": 26,
   "metadata": {},
   "outputs": [
    {
     "name": "stdout",
     "output_type": "stream",
     "text": [
      "Train Feature_5:: True\n",
      "test Feature_5:: True\n"
     ]
    }
   ],
   "source": [
    "#check if feature 5 is in data for feature engineering\n",
    "print('Train Feature_5::', X_train_cleaned.columns.isin(['Feature_5']).any())\n",
    "print('test Feature_5::', X_test_cleaned.columns.isin(['Feature_5']).any())\n"
   ]
  },
  {
   "cell_type": "markdown",
   "metadata": {},
   "source": [
    "# Export Cleaned Data"
   ]
  },
  {
   "cell_type": "code",
   "execution_count": 27,
   "metadata": {},
   "outputs": [],
   "source": [
    "#train\n",
    "X_train_cleaned.to_csv(\"X_cleaned.csv\")\n",
    "y_train.to_csv(\"y_cleaned.csv\")"
   ]
  },
  {
   "cell_type": "code",
   "execution_count": 28,
   "metadata": {},
   "outputs": [],
   "source": [
    "#test\n",
    "X_test_cleaned.to_csv('Test_cleaned.csv')"
   ]
  },
  {
   "cell_type": "code",
   "execution_count": 29,
   "metadata": {},
   "outputs": [],
   "source": [
    "#weights\n",
    "weights.to_csv('weights.csv')"
   ]
  },
  {
   "cell_type": "code",
   "execution_count": null,
   "metadata": {},
   "outputs": [],
   "source": []
  }
 ],
 "metadata": {
  "kernelspec": {
   "display_name": "Python 3",
   "language": "python",
   "name": "python3"
  },
  "language_info": {
   "codemirror_mode": {
    "name": "ipython",
    "version": 3
   },
   "file_extension": ".py",
   "mimetype": "text/x-python",
   "name": "python",
   "nbconvert_exporter": "python",
   "pygments_lexer": "ipython3",
   "version": "3.6.4"
  }
 },
 "nbformat": 4,
 "nbformat_minor": 2
}
