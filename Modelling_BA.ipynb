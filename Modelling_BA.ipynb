{
 "cells": [
  {
   "cell_type": "code",
   "execution_count": 2,
   "metadata": {},
   "outputs": [
    {
     "name": "stdout",
     "output_type": "stream",
     "text": [
      "C:\\Users\\matze\\Documents\\Winton\\CRISPDM\n"
     ]
    }
   ],
   "source": [
    "import numpy as np # linear algebra\n",
    "import pandas as pd # data processing, CSV file I/O (e.g. pd.read_csv)\n",
    "import matplotlib.pyplot as plt\n",
    "import seaborn as sns\n",
    "\n",
    "import os\n",
    "print(os.getcwd()) \n",
    "\n",
    "X = pd.read_csv('X_features.csv', index_col=0)\n",
    "y = pd.read_csv('y_features.csv', index_col=0)\n",
    "groups = X.pop('Feature_7')\n",
    "\n",
    "test = pd.read_csv('test_features.csv', index_col=0).drop(columns = 'Feature_7')\n",
    "sample = pd.read_csv('sample_submission_2.csv')\n",
    "df_train = pd.read_csv('train.csv').set_index('Id')\n",
    "df_test = pd.read_csv('test_2.csv').set_index('Id')\n",
    "weights = df_train.loc[:,'Weight_Intraday':'Weight_Daily']"
   ]
  },
  {
   "cell_type": "code",
   "execution_count": 15,
   "metadata": {},
   "outputs": [],
   "source": [
    "#Helper\n",
    "def typecasting(df):\n",
    "    categorial_cols = ['Feature_20','Feature_5']\n",
    "    binary_cols = ['Feature_16']\n",
    "\n",
    "    for col in categorial_cols:\n",
    "        df[col] = df[col].astype('category')\n",
    "    \n",
    "    for col in binary_cols:\n",
    "        df[col] = (df[col]-1).astype('category')\n",
    "\n",
    "def trainscore(y_true,y_pred,weights):\n",
    "    weights = weights.loc[y_true.index,:]\n",
    "    daily = pd.concat([weights.Weight_Daily]*2,axis=1)\n",
    "    minute = pd.concat([weights.Weight_Intraday]*60,axis=1)\n",
    "    weights = pd.concat([minute,daily],axis=1)\n",
    "    weights.columns = df_train.loc[:,'Ret_121':'Ret_PlusTwo'].columns\n",
    "    \n",
    "    \n",
    "    wmea = (((abs(y_true-y_pred))*weights).values.flatten().sum()/y_true.size)\n",
    "    \n",
    "    \n",
    "    #minute_ret = abs(y_true.loc[:,'Ret_121':'180']-y_pred.loc[:,'Ret_121':'Ret_180'])*weights.Weight_Intraday\n",
    "    return wmea\n",
    "\n",
    "\n",
    "def create_core_features(train,test):\n",
    "    X_train=train.loc[:,'Feature_1':'Ret_MinusOne']\n",
    "    X_val=test.loc[:,'Feature_1':'Ret_MinusOne']\n",
    "    from sklearn.preprocessing import Imputer\n",
    "\n",
    "    typecasting(X_train)\n",
    "    X_train = pd.get_dummies(X_train,drop_first=True)\n",
    "\n",
    "    typecasting(X_val)\n",
    "    X_val = pd.get_dummies(X_val,drop_first=True)\n",
    "\n",
    "    imputer = Imputer(strategy='mean', axis=0)\n",
    "    X_train = pd.DataFrame(imputer.fit_transform(X_train), index= X_train.index,columns=X_train.columns)\n",
    "    X_val = pd.DataFrame(imputer.fit_transform(X_val), index= X_val.index,columns=X_val.columns)\n",
    "    X_train['Ret_MinutePast'] = train.loc[:,'Ret_2':'Ret_120'].sum(axis=1)\n",
    "    X_val['Ret_MinutePast'] = test.loc[:,'Ret_2':'Ret_120'].sum(axis=1)\n",
    "    return X_train, X_val"
   ]
  },
  {
   "cell_type": "markdown",
   "metadata": {},
   "source": [
    "### Creating featuresets"
   ]
  },
  {
   "cell_type": "code",
   "execution_count": 17,
   "metadata": {},
   "outputs": [],
   "source": [
    "core_features, core_features_test = create_core_features(df_train,df_test)\n",
    "# generated features is X\n",
    "#Adding the interactions to Featureset\n",
    "crafted_features = pd.read_csv('BA_Features/X_features_BA.csv', index_col=0)\n",
    "crafted_features_test = pd.read_csv('BA_Features/test_features_BA.csv', index_col=0)"
   ]
  },
  {
   "cell_type": "code",
   "execution_count": 21,
   "metadata": {},
   "outputs": [
    {
     "name": "stdout",
     "output_type": "stream",
     "text": [
      "(40000, 102) (120000, 102)\n"
     ]
    }
   ],
   "source": [
    "crafted_features['interaction_3']= crafted_features.PR_120 * crafted_features.grouped_mad_fet_7\n",
    "crafted_features_test['interaction_3']= crafted_features_test.PR_120 * test.grouped_mad_fet_7\n",
    "\n",
    "#X['interaction_4']= X.smoothed_minute_mean * X.minute_mad\n",
    "#test['interaction_4']= test.smoothed_minute_mean * test.minute_mad\n",
    "\n",
    "crafted_features['interaction_5']= crafted_features.minute_mad * crafted_features.PR_120\n",
    "crafted_features_test['interaction_5']= crafted_features_test.minute_mad * crafted_features_test.PR_120\n",
    "\n",
    "crafted_features['interaction_6']= crafted_features.smoothed_minute_mean * crafted_features.grouped_mad_fet_5\n",
    "crafted_features_test['interaction_6']= crafted_features_test.smoothed_minute_mean * crafted_features_test.grouped_mad_fet_5\n",
    "\n",
    "crafted_features['interaction_7']= crafted_features.PR_120 * crafted_features.fet_7_Minute_MAD\n",
    "crafted_features_test['interaction_7']= crafted_features_test.PR_120 * crafted_features_test.fet_7_Minute_MAD\n",
    "\n",
    "crafted_features['interaction_8']= crafted_features.fet_7_Minute_MAD * crafted_features.fet_7_Minute_Mean\n",
    "crafted_features_test['interaction_8']= crafted_features_test.fet_7_Minute_MAD * crafted_features_test.fet_7_Minute_Mean\n",
    "\n",
    "print(crafted_features.shape,crafted_features_test.shape)"
   ]
  },
  {
   "cell_type": "code",
   "execution_count": 293,
   "metadata": {},
   "outputs": [],
   "source": [
    "all_features = pd.concat([core_features,crafted_features],axis=1).drop('Feature_7',axis='columns')\n",
    "all_features_test = pd.concat([core_features_test,crafted_features_test],axis=1).drop('Feature_7',axis='columns')\n",
    "\n",
    "features_and_target = all_features.copy()\n",
    "features_and_target['Ret_PlusOne'] = y.Ret_PlusOne\n",
    "features_and_target['Ret_PlusTwo'] = y.Ret_PlusTwo\n",
    "features_and_target['Ret_MinutesFut'] = df_train.loc[:,'Ret_121':'Ret_180'].sum(axis=1)\n",
    "\n"
   ]
  },
  {
   "cell_type": "code",
   "execution_count": null,
   "metadata": {},
   "outputs": [],
   "source": []
  },
  {
   "cell_type": "code",
   "execution_count": 294,
   "metadata": {},
   "outputs": [
    {
     "name": "stdout",
     "output_type": "stream",
     "text": [
      "time: 111.148 s\n"
     ]
    }
   ],
   "source": [
    "#import time\n",
    "#t0=time.time()\n",
    "#corr_spearman = features_and_target.corr(method='spearman').to_csv('BA_Features/spearman_cor.csv')\n",
    "print(\"time:\", round(time.time()-t0, 3), \"s\")\n",
    "#corr_pearson = features_and_target.corr(method='pearson').to_csv('BA_Features/pearson_cor.csv')\n",
    "#print(\"time:\", round(time.time()-t0, 3), \"s\")"
   ]
  },
  {
   "cell_type": "code",
   "execution_count": null,
   "metadata": {},
   "outputs": [],
   "source": [
    "'''\n",
    "from sklearn.feature_selection import SelectKBest\n",
    "from sklearn.feature_selection import mutual_info_regression\n",
    "n=20000\n",
    "\n",
    "t0 = time.time()\n",
    "mic_Ret_PlusOne = mutual_info_regression(all_features.sample(n,random_state=0), y.Ret_PlusOne.sample(n,random_state=0), random_state=0)\n",
    "print('Time: ',time.time()-t0)\n",
    "t0 = time.time()\n",
    "#select10 = SelectKBest(score_func=mutual_info_regression, k=20).fit(all_features.sample(n,random_state=0), y.Ret_PlusOne.sample(n,random_state=0))\n",
    "print('Time: ',time.time()-t0)\n",
    "mic_Ret_PlusTwo = mutual_info_regression(all_features.sample(n,random_state=0), y.Ret_PlusTwo.sample(n,random_state=0), random_state=0)\n",
    "print('Time: ',time.time()-t0)\n",
    "t0 = time.time()\n",
    "mic_Ret_Minute = mutual_info_regression(all_features.sample(n,random_state=0), df_train.loc[:,'Ret_121':'Ret_180'].sum(axis=1).sample(n,random_state=0), random_state=0)\n",
    "\n",
    "print('Time: ',time.time()-t0)\n",
    "'''"
   ]
  },
  {
   "cell_type": "code",
   "execution_count": 132,
   "metadata": {},
   "outputs": [],
   "source": [
    "#pd.DataFrame([mic_Ret_PlusOne,mic_Ret_PlusTwo,mic_Ret_Minute], index = ['MIC_PlusOne','MIC_PlusTwo','MIC_Minute'],columns=all_features.columns.values).T.to_csv('BA_Features/MIC.csv')"
   ]
  },
  {
   "cell_type": "code",
   "execution_count": null,
   "metadata": {},
   "outputs": [],
   "source": [
    "'''from sklearn.preprocessing import PolynomialFeatures\n",
    "poly=PolynomialFeatures()\n",
    "X_poly = pd.read_csv('X_features_2.csv', index_col=0)\n",
    "X_poly_test = pd.read_csv('test_features_2.csv', index_col=0)\n",
    "X_poly = pd.DataFrame(poly.fit_transform(X_poly), columns= poly.get_feature_names(),index=X_poly.index).drop(['1'],axis='columns')\n",
    "X_poly_test=pd.DataFrame(poly.fit_transform(X_poly_test), columns= poly.get_feature_names(),index=X_poly_test.index).drop(['1'],axis='columns')\n",
    "display(X_poly.head())\n",
    "display(X_poly_test.head())\n",
    "\n",
    "X_poly_and_target = X_poly.copy()\n",
    "X_poly_and_target['Ret_PlusOne'] = y.Ret_PlusOne\n",
    "X_poly_and_target['Ret_PlusTwo'] = y.Ret_PlusTwo\n",
    "X_poly_and_target['Ret_MinutesFut'] = df_train.loc[:,'Ret_121':'Ret_180'].sum(axis=1)\n",
    "\n",
    "X_poly_and_target.corr(method='spearman').to_csv('BA_Features/poly_cor.csv')'''\n"
   ]
  },
  {
   "cell_type": "code",
   "execution_count": 133,
   "metadata": {},
   "outputs": [],
   "source": [
    "MIC = pd.read_csv('BA_Features/MIC.csv', index_col=0)\n",
    "corr_spearman = pd.read_csv('BA_Features/spearman_cor.csv',index_col=0).drop(['Ret_MinutesFut','Ret_PlusOne','Ret_PlusTwo'])\n",
    "corr_poly = pd.read_csv('BA_Features/poly_cor.csv',index_col=0).drop(['Ret_MinutesFut','Ret_PlusOne','Ret_PlusTwo'])\n"
   ]
  },
  {
   "cell_type": "code",
   "execution_count": 481,
   "metadata": {},
   "outputs": [],
   "source": [
    "MIC_poly = pd.read_csv('BA_Features/MIC_Poly.csv', index_col=0)"
   ]
  },
  {
   "cell_type": "markdown",
   "metadata": {},
   "source": [
    "## Predicting Ret_PlusOne"
   ]
  },
  {
   "cell_type": "markdown",
   "metadata": {},
   "source": [
    "### Featuresets (Needed once for each Target)"
   ]
  },
  {
   "cell_type": "code",
   "execution_count": 667,
   "metadata": {},
   "outputs": [],
   "source": [
    "results = pd.DataFrame(columns=['algo','featureset','target','fitting_time','zerobenchmark','validationmark','mae','params'])"
   ]
  },
  {
   "cell_type": "code",
   "execution_count": 668,
   "metadata": {},
   "outputs": [],
   "source": [
    "mic10 = MIC.MIC_PlusOne.sort_values(ascending=False)[0:10].index\n",
    "mic20 = MIC.MIC_PlusOne.sort_values(ascending=False)[0:20].index\n",
    "mic30 = MIC.MIC_PlusOne.sort_values(ascending=False)[0:30].index\n",
    "corr10 = abs(corr_spearman.Ret_PlusOne).sort_values(ascending=False)[0:10].index\n",
    "corr20 = abs(corr_spearman.Ret_PlusOne).sort_values(ascending=False)[0:20].index\n",
    "corr30 = abs(corr_spearman.Ret_PlusOne).sort_values(ascending=False)[0:30].index\n",
    "core=core_features.drop('Feature_7',axis='columns').columns.values\n",
    "poly15_1 = ['x1 x8','x3 x16', 'x5 x10', 'x5 x16', 'x5', 'x5 x6', 'x3 x6', 'x3 x5', 'x5 x11', 'x3 x10', 'x3^2', 'x2^2', 'x3', 'x3 x12']\n",
    "poly15_2 = abs(corr_poly.Ret_PlusOne).sort_values(ascending=False)[0:15].index\n",
    "micpoly15 = MIC_poly.MIC_PlusOne.sort_values(ascending=False)[0:15].index"
   ]
  },
  {
   "cell_type": "markdown",
   "metadata": {},
   "source": [
    "### Ridge"
   ]
  },
  {
   "cell_type": "code",
   "execution_count": 669,
   "metadata": {
    "scrolled": true
   },
   "outputs": [
    {
     "name": "stdout",
     "output_type": "stream",
     "text": [
      "training time: 507.368 s\n",
      "training time: 520.664 s\n",
      "training time: 533.558 s\n"
     ]
    },
    {
     "data": {
      "text/plain": [
       "Index(['core', 'mic10', 'mic20', 'mic30', 'corr10', 'corr20', 'corr30',\n",
       "       'rfe10', 'rfe20', 'rfe30', 'polycorr15_1', 'polycorr15_2', 'micpoly15'],\n",
       "      dtype='object')"
      ]
     },
     "metadata": {},
     "output_type": "display_data"
    },
    {
     "data": {
      "text/plain": [
       "'core'"
      ]
     },
     "metadata": {},
     "output_type": "display_data"
    },
    {
     "data": {
      "text/plain": [
       "'mic10'"
      ]
     },
     "metadata": {},
     "output_type": "display_data"
    },
    {
     "data": {
      "text/plain": [
       "'mic20'"
      ]
     },
     "metadata": {},
     "output_type": "display_data"
    },
    {
     "data": {
      "text/plain": [
       "'mic30'"
      ]
     },
     "metadata": {},
     "output_type": "display_data"
    },
    {
     "data": {
      "text/plain": [
       "'corr10'"
      ]
     },
     "metadata": {},
     "output_type": "display_data"
    },
    {
     "data": {
      "text/plain": [
       "'corr20'"
      ]
     },
     "metadata": {},
     "output_type": "display_data"
    },
    {
     "data": {
      "text/plain": [
       "'corr30'"
      ]
     },
     "metadata": {},
     "output_type": "display_data"
    },
    {
     "data": {
      "text/plain": [
       "'rfe10'"
      ]
     },
     "metadata": {},
     "output_type": "display_data"
    },
    {
     "data": {
      "text/plain": [
       "'rfe20'"
      ]
     },
     "metadata": {},
     "output_type": "display_data"
    },
    {
     "data": {
      "text/plain": [
       "'rfe30'"
      ]
     },
     "metadata": {},
     "output_type": "display_data"
    },
    {
     "data": {
      "text/plain": [
       "'polycorr15_1'"
      ]
     },
     "metadata": {},
     "output_type": "display_data"
    },
    {
     "data": {
      "text/plain": [
       "'polycorr15_2'"
      ]
     },
     "metadata": {},
     "output_type": "display_data"
    },
    {
     "data": {
      "text/plain": [
       "'micpoly15'"
      ]
     },
     "metadata": {},
     "output_type": "display_data"
    }
   ],
   "source": [
    "#RFE Params\n",
    "rfe_learner = Ridge()\n",
    "rfe_params ={'alpha':100,'normalize':True,'max_iter':700,'random_state':[0]}\n",
    "rfe_learner = rfe_learner.set_params(**rfe_params)\n",
    "rfe_target = 'Ret_PlusOne'\n",
    "\n",
    "#RFE Fitting\n",
    "rfe = RFE(rfe_learner,n_features_to_select=10, step=1, verbose=0)\n",
    "rfe.fit(all_features,y[rfe_target])\n",
    "print(\"training time:\", round(time.time()-t0, 3), \"s\")\n",
    "rfe10 = all_features.columns[rfe.get_support(indices=True)]\n",
    "\n",
    "rfe = RFE(rfe_learner,n_features_to_select=20, step=1, verbose=0)\n",
    "rfe.fit(all_features, y[rfe_target])\n",
    "print(\"training time:\", round(time.time()-t0, 3), \"s\")\n",
    "rfe20 = all_features.columns[rfe.get_support(indices=True)]\n",
    "\n",
    "rfe = RFE(rfe_learner,n_features_to_select=30, step=1, verbose=0)\n",
    "rfe.fit(all_features,y[rfe_target])\n",
    "print(\"training time:\", round(time.time()-t0, 3), \"s\")\n",
    "rfe30 = all_features.columns[rfe.get_support(indices=True)]\n",
    "\n",
    "from sklearn.model_selection import GridSearchCV\n",
    "from sklearn.model_selection import cross_val_score\n",
    "from sklearn.model_selection import GroupShuffleSplit\n",
    "group_shuffle = GroupShuffleSplit(n_splits=10, test_size=0.60, train_size=0.4, random_state=0)\n",
    "from sklearn.linear_model import Ridge\n",
    "from sklearn.linear_model import Lasso\n",
    "from sklearn.feature_selection import RFE\n",
    "\n",
    "#Model_Params\n",
    "train = pd.concat([all_features,X_poly],axis=1)\n",
    "test = pd.concat([all_features_test,X_poly_test],axis=1)\n",
    "learner = Ridge()\n",
    "target= 'Ret_PlusOne'\n",
    "param_grid= {'alpha': [20,19,18,17,16,15,12,11,10,8,6,4,2,1,0.5],'normalize':[True],'max_iter':[700],'random_state':[0]}\n",
    "\n",
    "\n",
    "#Choose Featuresets\n",
    "featuresets = pd.DataFrame([core,mic10,mic20,mic30,corr10,corr20,corr30,rfe10,rfe20,rfe30,poly15_1,poly15_2,micpoly15],index=['core','mic10','mic20','mic30','corr10','corr20','corr30','rfe10','rfe20','rfe30','polycorr15_1','polycorr15_2','micpoly15'],columns=list(range(1,43))).T\n",
    "display(featuresets.columns)\n",
    "#Fitting\n",
    "\n",
    "for name in featuresets.columns:\n",
    "\n",
    "\n",
    "    cols_to_use = featuresets[name].dropna()\n",
    "    \n",
    "    t0=time.time()\n",
    "    gs= GridSearchCV(learner, param_grid, iid=False, refit=True, cv=group_shuffle, return_train_score =True, scoring='neg_mean_absolute_error')\n",
    "    gs.fit(train[cols_to_use], y[target], groups)\n",
    "    gs.cv_results_ \n",
    "    #display(gs.best_estimator_)\n",
    "    #display(gs.best_score_ )\n",
    "    display(name)\n",
    "    fitting_time = time.time()-t0\n",
    "    #Trainscore\n",
    "    grid = pd.DataFrame(np.zeros([40000, 62]), columns = df_train.loc[:, 'Ret_121':'Ret_PlusTwo'].columns,index=df_train.index)\n",
    "    grid.shape\n",
    "    zerobenchmark= trainscore(df_train.loc[:,'Ret_121':'Ret_PlusTwo'],grid,weights).round(5)\n",
    "    grid[target] = ((gs.predict(train[cols_to_use])))\n",
    "    validationbenchmark = trainscore(df_train.loc[:,'Ret_121':'Ret_PlusTwo'],grid,weights).round(5) \n",
    "\n",
    "\n",
    "    ###Submission\n",
    "    grid = pd.DataFrame(np.zeros([120000, 62]), columns = df_train.loc[:, 'Ret_121':'Ret_PlusTwo'].columns)\n",
    "    grid.shape\n",
    "\n",
    "    grid[target] = ((gs.predict(test[cols_to_use])))\n",
    "\n",
    "    sample['Predicted'] = grid.values.flatten()\n",
    "    sample.to_csv(('BA_Submissions/'+str(learner).split('(',1)[0]+'_'+name+target+\".csv\"), index=False)\n",
    "\n",
    "         ###Output\n",
    "    algo = str(learner).split('(',1)[0]\n",
    "    params= gs.best_estimator_.get_params()\n",
    "    mae = abs(gs.best_score_)\n",
    "    results = results.append(pd.DataFrame([algo,name,target,fitting_time,zerobenchmark,validationbenchmark,mae,params],index=results.columns).T, ignore_index=True)\n"
   ]
  },
  {
   "cell_type": "markdown",
   "metadata": {},
   "source": [
    "### Huber"
   ]
  },
  {
   "cell_type": "code",
   "execution_count": 670,
   "metadata": {},
   "outputs": [
    {
     "data": {
      "text/plain": [
       "Index(['core', 'mic10', 'mic20', 'mic30', 'corr10', 'corr20', 'corr30',\n",
       "       'polycorr15_1', 'polycorr15_2', 'micpoly15'],\n",
       "      dtype='object')"
      ]
     },
     "metadata": {},
     "output_type": "display_data"
    },
    {
     "data": {
      "text/plain": [
       "'core'"
      ]
     },
     "metadata": {},
     "output_type": "display_data"
    },
    {
     "data": {
      "text/plain": [
       "'mic10'"
      ]
     },
     "metadata": {},
     "output_type": "display_data"
    },
    {
     "data": {
      "text/plain": [
       "'mic20'"
      ]
     },
     "metadata": {},
     "output_type": "display_data"
    },
    {
     "data": {
      "text/plain": [
       "'mic30'"
      ]
     },
     "metadata": {},
     "output_type": "display_data"
    },
    {
     "data": {
      "text/plain": [
       "'corr10'"
      ]
     },
     "metadata": {},
     "output_type": "display_data"
    },
    {
     "data": {
      "text/plain": [
       "'corr20'"
      ]
     },
     "metadata": {},
     "output_type": "display_data"
    },
    {
     "data": {
      "text/plain": [
       "'corr30'"
      ]
     },
     "metadata": {},
     "output_type": "display_data"
    },
    {
     "data": {
      "text/plain": [
       "'polycorr15_1'"
      ]
     },
     "metadata": {},
     "output_type": "display_data"
    },
    {
     "data": {
      "text/plain": [
       "'polycorr15_2'"
      ]
     },
     "metadata": {},
     "output_type": "display_data"
    },
    {
     "data": {
      "text/plain": [
       "'micpoly15'"
      ]
     },
     "metadata": {},
     "output_type": "display_data"
    }
   ],
   "source": [
    "from sklearn.model_selection import GridSearchCV\n",
    "from sklearn.model_selection import cross_val_score\n",
    "from sklearn.model_selection import GroupShuffleSplit\n",
    "group_shuffle = GroupShuffleSplit(n_splits=10, test_size=0.60, train_size=0.4, random_state=0)\n",
    "from sklearn.linear_model import HuberRegressor\n",
    "from sklearn.feature_selection import RFE\n",
    "\n",
    "#Model_Params\n",
    "\n",
    "learner = HuberRegressor()\n",
    "target= 'Ret_PlusOne'\n",
    "param_grid= {'alpha': [100,20,19,18,17,16,15,12,11,10],'max_iter':[700]}\n",
    "\n",
    "\n",
    "#Choose Featuresets\n",
    "featuresets = pd.DataFrame([core,mic10,mic20,mic30,corr10,corr20,corr30,poly15_1,poly15_2,micpoly15],index=['core','mic10','mic20','mic30','corr10','corr20','corr30','polycorr15_1','polycorr15_2','micpoly15'],columns=list(range(1,43))).T\n",
    "display(featuresets.columns)\n",
    "#Fitting\n",
    "\n",
    "for name in featuresets.columns:\n",
    "\n",
    "\n",
    "    cols_to_use = featuresets[name].dropna()\n",
    "    \n",
    "    t0=time.time()\n",
    "    gs= GridSearchCV(learner, param_grid, iid=False, refit=True, cv=group_shuffle, return_train_score =True, scoring='neg_mean_absolute_error')\n",
    "    gs.fit(train[cols_to_use], y[target], groups)\n",
    "    gs.cv_results_ \n",
    "    #display(gs.best_estimator_)\n",
    "    #display(gs.best_score_ )\n",
    "    display(name)\n",
    "    fitting_time = time.time()-t0\n",
    "    #Trainscore\n",
    "    grid = pd.DataFrame(np.zeros([40000, 62]), columns = df_train.loc[:, 'Ret_121':'Ret_PlusTwo'].columns,index=df_train.index)\n",
    "    grid.shape\n",
    "    zerobenchmark= trainscore(df_train.loc[:,'Ret_121':'Ret_PlusTwo'],grid,weights).round(5)\n",
    "    grid[target] = ((gs.predict(train[cols_to_use])))\n",
    "    validationbenchmark = trainscore(df_train.loc[:,'Ret_121':'Ret_PlusTwo'],grid,weights).round(5) \n",
    "\n",
    "\n",
    "    ###Submission\n",
    "    grid = pd.DataFrame(np.zeros([120000, 62]), columns = df_train.loc[:, 'Ret_121':'Ret_PlusTwo'].columns)\n",
    "    grid.shape\n",
    "\n",
    "    grid[target] = ((gs.predict(test[cols_to_use])))\n",
    "\n",
    "    sample['Predicted'] = grid.values.flatten()\n",
    "    sample.to_csv(('BA_Submissions/'+str(learner).split('(',1)[0]+'_'+name+target+\".csv\"), index=False)\n",
    "\n",
    "         ###Output\n",
    "    algo = str(learner).split('(',1)[0]\n",
    "    params= gs.best_estimator_.get_params()\n",
    "    mae = abs(gs.best_score_)\n",
    "    results = results.append(pd.DataFrame([algo,name,target,fitting_time,zerobenchmark,validationbenchmark,mae,params],index=results.columns).T, ignore_index=True)\n"
   ]
  },
  {
   "cell_type": "markdown",
   "metadata": {},
   "source": [
    "### Extra Tree Regressor"
   ]
  },
  {
   "cell_type": "code",
   "execution_count": 671,
   "metadata": {},
   "outputs": [
    {
     "data": {
      "text/plain": [
       "Index(['core', 'mic10', 'mic20', 'mic30', 'corr10', 'corr20', 'corr30',\n",
       "       'polycorr15_1', 'polycorr15_2', 'micpoly15'],\n",
       "      dtype='object')"
      ]
     },
     "metadata": {},
     "output_type": "display_data"
    },
    {
     "data": {
      "text/plain": [
       "'core'"
      ]
     },
     "metadata": {},
     "output_type": "display_data"
    },
    {
     "data": {
      "text/plain": [
       "'mic10'"
      ]
     },
     "metadata": {},
     "output_type": "display_data"
    },
    {
     "data": {
      "text/plain": [
       "'mic20'"
      ]
     },
     "metadata": {},
     "output_type": "display_data"
    },
    {
     "data": {
      "text/plain": [
       "'mic30'"
      ]
     },
     "metadata": {},
     "output_type": "display_data"
    },
    {
     "data": {
      "text/plain": [
       "'corr10'"
      ]
     },
     "metadata": {},
     "output_type": "display_data"
    },
    {
     "data": {
      "text/plain": [
       "'corr20'"
      ]
     },
     "metadata": {},
     "output_type": "display_data"
    },
    {
     "data": {
      "text/plain": [
       "'corr30'"
      ]
     },
     "metadata": {},
     "output_type": "display_data"
    },
    {
     "data": {
      "text/plain": [
       "'polycorr15_1'"
      ]
     },
     "metadata": {},
     "output_type": "display_data"
    },
    {
     "data": {
      "text/plain": [
       "'polycorr15_2'"
      ]
     },
     "metadata": {},
     "output_type": "display_data"
    },
    {
     "data": {
      "text/plain": [
       "'micpoly15'"
      ]
     },
     "metadata": {},
     "output_type": "display_data"
    }
   ],
   "source": [
    "from sklearn.model_selection import GridSearchCV\n",
    "from sklearn.model_selection import cross_val_score\n",
    "from sklearn.model_selection import GroupShuffleSplit\n",
    "group_shuffle = GroupShuffleSplit(n_splits=10, test_size=0.60, train_size=0.4, random_state=0)\n",
    "\n",
    "from sklearn.ensemble import ExtraTreesRegressor\n",
    "\n",
    "\n",
    "#Model_Params\n",
    "train = pd.concat([all_features,X_poly],axis=1)\n",
    "test = pd.concat([all_features_test,X_poly_test],axis=1)\n",
    "learner = ExtraTreesRegressor()\n",
    "target= 'Ret_PlusOne'\n",
    "param_grid= {'max_depth': [3],#tiefer\n",
    "             \n",
    "             'max_features': 'auto',#wahrscheinlich weniger glaub kürzere fitting time\n",
    "             'min_samples_leaf': [5000], #höher\n",
    "             #'min_samples_split': [],\n",
    "             'n_estimators': [100,150],#mehr bedeuten dauert länger\n",
    "             'n_jobs':[-1],\n",
    "            'random_state':[0],\n",
    "            'max_features':['sqrt']}\n",
    "\n",
    "\n",
    "#Choose Featuresets\n",
    "featuresets = pd.DataFrame([core,mic10,mic20,mic30,corr10,corr20,corr30,poly15_1,poly15_2,micpoly15],index=['core','mic10','mic20','mic30','corr10','corr20','corr30','polycorr15_1','polycorr15_2','micpoly15'],columns=list(range(1,43))).T\n",
    "display(featuresets.columns)\n",
    "#Fitting\n",
    "\n",
    "for name in featuresets.columns:\n",
    "\n",
    "\n",
    "    cols_to_use = featuresets[name].dropna()\n",
    "    \n",
    "    t0=time.time()\n",
    "    gs= GridSearchCV(learner, param_grid, iid=False, refit=True, cv=group_shuffle, return_train_score =True, scoring='neg_mean_absolute_error')\n",
    "    gs.fit(train[cols_to_use], y[target], groups)\n",
    "    gs.cv_results_ \n",
    "    #display(gs.best_estimator_)\n",
    "    #display(gs.best_score_ )\n",
    "    display(name)\n",
    "    fitting_time = time.time()-t0\n",
    "    #Trainscore\n",
    "    grid = pd.DataFrame(np.zeros([40000, 62]), columns = df_train.loc[:, 'Ret_121':'Ret_PlusTwo'].columns,index=df_train.index)\n",
    "    grid.shape\n",
    "    zerobenchmark= trainscore(df_train.loc[:,'Ret_121':'Ret_PlusTwo'],grid,weights).round(5)\n",
    "    grid[target] = ((gs.predict(train[cols_to_use])))\n",
    "    validationbenchmark = trainscore(df_train.loc[:,'Ret_121':'Ret_PlusTwo'],grid,weights).round(5) \n",
    "\n",
    "\n",
    "    ###Submission\n",
    "    grid = pd.DataFrame(np.zeros([120000, 62]), columns = df_train.loc[:, 'Ret_121':'Ret_PlusTwo'].columns)\n",
    "    grid.shape\n",
    "\n",
    "    grid[target] = ((gs.predict(test[cols_to_use])))\n",
    "\n",
    "    sample['Predicted'] = grid.values.flatten()\n",
    "    sample.to_csv(('BA_Submissions/'+str(learner).split('(',1)[0]+'_'+name+target+\".csv\"), index=False)\n",
    "\n",
    "     ###Output\n",
    "    algo = str(learner).split('(',1)[0]\n",
    "    params= gs.best_estimator_.get_params()\n",
    "    mae = abs(gs.best_score_)\n",
    "    results = results.append(pd.DataFrame([algo,name,target,fitting_time,zerobenchmark,validationbenchmark,mae,params],index=results.columns).T, ignore_index=True)\n"
   ]
  },
  {
   "cell_type": "markdown",
   "metadata": {},
   "source": [
    "## GradientBoostingRegressor"
   ]
  },
  {
   "cell_type": "code",
   "execution_count": 672,
   "metadata": {},
   "outputs": [
    {
     "data": {
      "text/plain": [
       "Index(['core', 'mic10', 'mic20', 'mic30', 'corr10', 'corr20', 'corr30',\n",
       "       'polycorr15_1', 'polycorr15_2', 'micpoly15'],\n",
       "      dtype='object')"
      ]
     },
     "metadata": {},
     "output_type": "display_data"
    },
    {
     "data": {
      "text/plain": [
       "'core'"
      ]
     },
     "metadata": {},
     "output_type": "display_data"
    },
    {
     "data": {
      "text/plain": [
       "337.34855222702026"
      ]
     },
     "metadata": {},
     "output_type": "display_data"
    },
    {
     "data": {
      "text/plain": [
       "'mic10'"
      ]
     },
     "metadata": {},
     "output_type": "display_data"
    },
    {
     "data": {
      "text/plain": [
       "164.78439211845398"
      ]
     },
     "metadata": {},
     "output_type": "display_data"
    },
    {
     "data": {
      "text/plain": [
       "'mic20'"
      ]
     },
     "metadata": {},
     "output_type": "display_data"
    },
    {
     "data": {
      "text/plain": [
       "228.82843470573425"
      ]
     },
     "metadata": {},
     "output_type": "display_data"
    },
    {
     "data": {
      "text/plain": [
       "'mic30'"
      ]
     },
     "metadata": {},
     "output_type": "display_data"
    },
    {
     "data": {
      "text/plain": [
       "275.67026925086975"
      ]
     },
     "metadata": {},
     "output_type": "display_data"
    },
    {
     "data": {
      "text/plain": [
       "'corr10'"
      ]
     },
     "metadata": {},
     "output_type": "display_data"
    },
    {
     "data": {
      "text/plain": [
       "164.50741696357727"
      ]
     },
     "metadata": {},
     "output_type": "display_data"
    },
    {
     "data": {
      "text/plain": [
       "'corr20'"
      ]
     },
     "metadata": {},
     "output_type": "display_data"
    },
    {
     "data": {
      "text/plain": [
       "239.9802281856537"
      ]
     },
     "metadata": {},
     "output_type": "display_data"
    },
    {
     "data": {
      "text/plain": [
       "'corr30'"
      ]
     },
     "metadata": {},
     "output_type": "display_data"
    },
    {
     "data": {
      "text/plain": [
       "307.3225631713867"
      ]
     },
     "metadata": {},
     "output_type": "display_data"
    },
    {
     "data": {
      "text/plain": [
       "'polycorr15_1'"
      ]
     },
     "metadata": {},
     "output_type": "display_data"
    },
    {
     "data": {
      "text/plain": [
       "196.24394154548645"
      ]
     },
     "metadata": {},
     "output_type": "display_data"
    },
    {
     "data": {
      "text/plain": [
       "'polycorr15_2'"
      ]
     },
     "metadata": {},
     "output_type": "display_data"
    },
    {
     "data": {
      "text/plain": [
       "173.72495865821838"
      ]
     },
     "metadata": {},
     "output_type": "display_data"
    },
    {
     "data": {
      "text/plain": [
       "'micpoly15'"
      ]
     },
     "metadata": {},
     "output_type": "display_data"
    },
    {
     "data": {
      "text/plain": [
       "186.17970418930054"
      ]
     },
     "metadata": {},
     "output_type": "display_data"
    }
   ],
   "source": [
    "from sklearn.model_selection import GridSearchCV\n",
    "from sklearn.model_selection import cross_val_score\n",
    "from sklearn.model_selection import GroupShuffleSplit\n",
    "group_shuffle = GroupShuffleSplit(n_splits=10, test_size=0.60, train_size=0.4, random_state=0)\n",
    "\n",
    "from sklearn.ensemble import GradientBoostingRegressor\n",
    "\n",
    "#Model_Params\n",
    "train = pd.concat([all_features,X_poly],axis=1)\n",
    "test = pd.concat([all_features_test,X_poly_test],axis=1)\n",
    "learner = GradientBoostingRegressor()\n",
    "target= 'Ret_PlusOne'\n",
    "param_grid= {'loss':['lad'],\n",
    "             'learning_rate':[0.001],\n",
    "            'max_depth': [3],\n",
    "             'n_estimators': [300,400],\n",
    "            'random_state':[0],\n",
    "            'subsample':[0.5],\n",
    "             'verbose':[0],\n",
    "            'max_features':['auto','sqrt']}\n",
    "             \n",
    "\n",
    "\n",
    "#Choose Featuresets\n",
    "featuresets = pd.DataFrame([core,mic10,mic20,mic30,corr10,corr20,corr30,poly15_1,poly15_2,micpoly15],index=['core','mic10','mic20','mic30','corr10','corr20','corr30','polycorr15_1','polycorr15_2','micpoly15'],columns=list(range(1,43))).T\n",
    "display(featuresets.columns)\n",
    "#Fitting\n",
    "\n",
    "for name in featuresets.columns:\n",
    "\n",
    "\n",
    "    cols_to_use = featuresets[name].dropna()\n",
    "    \n",
    "    t0=time.time()\n",
    "    gs= GridSearchCV(learner, param_grid, iid=False, refit=True, cv=group_shuffle, return_train_score =True, scoring='neg_mean_absolute_error')\n",
    "    gs.fit(train[cols_to_use], y[target], groups)\n",
    "    gs.cv_results_ \n",
    "    #display(gs.best_estimator_)\n",
    "    display(name)\n",
    "    fitting_time = time.time()-t0\n",
    "    #Trainscore\n",
    "    grid = pd.DataFrame(np.zeros([40000, 62]), columns = df_train.loc[:, 'Ret_121':'Ret_PlusTwo'].columns,index=df_train.index)\n",
    "    grid.shape\n",
    "    zerobenchmark= trainscore(df_train.loc[:,'Ret_121':'Ret_PlusTwo'],grid,weights).round(5)\n",
    "    grid[target] = ((gs.predict(train[cols_to_use])))\n",
    "    validationbenchmark = trainscore(df_train.loc[:,'Ret_121':'Ret_PlusTwo'],grid,weights).round(5) \n",
    "    display(fitting_time)\n",
    "\n",
    "    ###Submission\n",
    "    grid = pd.DataFrame(np.zeros([120000, 62]), columns = df_train.loc[:, 'Ret_121':'Ret_PlusTwo'].columns)\n",
    "    grid.shape\n",
    "\n",
    "    grid[target] = ((gs.predict(test[cols_to_use])))\n",
    "\n",
    "    sample['Predicted'] = grid.values.flatten()\n",
    "    sample.to_csv(('BA_Submissions/'+str(learner).split('(',1)[0]+'_'+name+target+\".csv\"), index=False)\n",
    "\n",
    "    ###Output\n",
    "    algo = str(learner).split('(',1)[0]\n",
    "    params= gs.best_estimator_.get_params()\n",
    "    mae = abs(gs.best_score_)\n",
    "    results = results.append(pd.DataFrame([algo,name,target,fitting_time,zerobenchmark,validationbenchmark,mae,params],index=results.columns).T, ignore_index=True)\n"
   ]
  },
  {
   "cell_type": "code",
   "execution_count": 673,
   "metadata": {},
   "outputs": [],
   "source": [
    "results.to_excel((\"BA_Submissions/results_\"+target+\".xls\"),header=True)"
   ]
  },
  {
   "cell_type": "markdown",
   "metadata": {},
   "source": [
    "# Ret_PlusTwo"
   ]
  },
  {
   "cell_type": "code",
   "execution_count": 674,
   "metadata": {},
   "outputs": [],
   "source": [
    "mic10 = MIC.MIC_PlusTwo.sort_values(ascending=False)[0:10].index\n",
    "mic20 = MIC.MIC_PlusTwo.sort_values(ascending=False)[0:20].index\n",
    "mic30 = MIC.MIC_PlusTwo.sort_values(ascending=False)[0:30].index\n",
    "corr10 = abs(corr_spearman.Ret_PlusTwo).sort_values(ascending=False)[0:10].index\n",
    "corr20 = abs(corr_spearman.Ret_PlusTwo).sort_values(ascending=False)[0:20].index\n",
    "corr30 = abs(corr_spearman.Ret_PlusTwo).sort_values(ascending=False)[0:30].index\n",
    "#corrPear = abs(corr_pearson.Ret_PlusTwo).sort_values(ascending=False)[0:20].index\n",
    "core=core_features.drop('Feature_7',axis='columns').columns.values\n",
    "poly15_1 = ['x1 x8','x3 x16', 'x5 x10', 'x5 x16', 'x5', 'x5 x6', 'x3 x6', 'x3 x5', 'x5 x11', 'x3 x10', 'x3^2', 'x2^2', 'x3', 'x3 x12']\n",
    "poly15_2 = abs(corr_poly.Ret_PlusTwo).sort_values(ascending=False)[0:15].index\n",
    "micpoly15 = MIC_poly.MIC_PlusOne.sort_values(ascending=False)[0:15].index"
   ]
  },
  {
   "cell_type": "markdown",
   "metadata": {},
   "source": [
    "## Ridge"
   ]
  },
  {
   "cell_type": "code",
   "execution_count": 675,
   "metadata": {},
   "outputs": [
    {
     "name": "stdout",
     "output_type": "stream",
     "text": [
      "training time: 221.884 s\n",
      "training time: 236.291 s\n",
      "training time: 249.294 s\n"
     ]
    },
    {
     "data": {
      "text/plain": [
       "Index(['core', 'mic10', 'mic20', 'mic30', 'corr10', 'corr20', 'corr30',\n",
       "       'rfe10', 'rfe20', 'rfe30', 'polycorr15_1', 'polycorr15_2', 'micpoly15'],\n",
       "      dtype='object')"
      ]
     },
     "metadata": {},
     "output_type": "display_data"
    },
    {
     "data": {
      "text/plain": [
       "'core'"
      ]
     },
     "metadata": {},
     "output_type": "display_data"
    },
    {
     "data": {
      "text/plain": [
       "'mic10'"
      ]
     },
     "metadata": {},
     "output_type": "display_data"
    },
    {
     "data": {
      "text/plain": [
       "'mic20'"
      ]
     },
     "metadata": {},
     "output_type": "display_data"
    },
    {
     "data": {
      "text/plain": [
       "'mic30'"
      ]
     },
     "metadata": {},
     "output_type": "display_data"
    },
    {
     "data": {
      "text/plain": [
       "'corr10'"
      ]
     },
     "metadata": {},
     "output_type": "display_data"
    },
    {
     "data": {
      "text/plain": [
       "'corr20'"
      ]
     },
     "metadata": {},
     "output_type": "display_data"
    },
    {
     "data": {
      "text/plain": [
       "'corr30'"
      ]
     },
     "metadata": {},
     "output_type": "display_data"
    },
    {
     "data": {
      "text/plain": [
       "'rfe10'"
      ]
     },
     "metadata": {},
     "output_type": "display_data"
    },
    {
     "data": {
      "text/plain": [
       "'rfe20'"
      ]
     },
     "metadata": {},
     "output_type": "display_data"
    },
    {
     "data": {
      "text/plain": [
       "'rfe30'"
      ]
     },
     "metadata": {},
     "output_type": "display_data"
    },
    {
     "data": {
      "text/plain": [
       "'polycorr15_1'"
      ]
     },
     "metadata": {},
     "output_type": "display_data"
    },
    {
     "data": {
      "text/plain": [
       "'polycorr15_2'"
      ]
     },
     "metadata": {},
     "output_type": "display_data"
    },
    {
     "data": {
      "text/plain": [
       "'micpoly15'"
      ]
     },
     "metadata": {},
     "output_type": "display_data"
    }
   ],
   "source": [
    "#RFE Params\n",
    "rfe_learner = Ridge()\n",
    "rfe_params ={'alpha':100,'normalize':True,'max_iter':700,'random_state':[0]}\n",
    "rfe_learner = rfe_learner.set_params(**rfe_params)\n",
    "rfe_target = 'Ret_PlusTwo'\n",
    "\n",
    "#RFE Fitting\n",
    "rfe = RFE(rfe_learner,n_features_to_select=10, step=1, verbose=0)\n",
    "rfe.fit(all_features,y[rfe_target])\n",
    "print(\"training time:\", round(time.time()-t0, 3), \"s\")\n",
    "rfe10 = all_features.columns[rfe.get_support(indices=True)]\n",
    "\n",
    "rfe = RFE(rfe_learner,n_features_to_select=20, step=1, verbose=0)\n",
    "rfe.fit(all_features, y[rfe_target])\n",
    "print(\"training time:\", round(time.time()-t0, 3), \"s\")\n",
    "rfe20 = all_features.columns[rfe.get_support(indices=True)]\n",
    "\n",
    "rfe = RFE(rfe_learner,n_features_to_select=30, step=1, verbose=0)\n",
    "rfe.fit(all_features,y[rfe_target])\n",
    "print(\"training time:\", round(time.time()-t0, 3), \"s\")\n",
    "rfe30 = all_features.columns[rfe.get_support(indices=True)]\n",
    "\n",
    "from sklearn.model_selection import GridSearchCV\n",
    "from sklearn.model_selection import cross_val_score\n",
    "from sklearn.model_selection import GroupShuffleSplit\n",
    "group_shuffle = GroupShuffleSplit(n_splits=10, test_size=0.60, train_size=0.4, random_state=0)\n",
    "from sklearn.linear_model import Ridge\n",
    "from sklearn.linear_model import Lasso\n",
    "from sklearn.feature_selection import RFE\n",
    "\n",
    "#Model_Params\n",
    "train = pd.concat([all_features,X_poly],axis=1)\n",
    "test = pd.concat([all_features_test,X_poly_test],axis=1)\n",
    "learner = Ridge()\n",
    "target= 'Ret_PlusTwo'\n",
    "param_grid= {'alpha': [20,19,18,17,16,15,12,11,10,8,6,4,2,1,0.5],'normalize':[True],'max_iter':[700],'random_state':[0]}\n",
    "\n",
    "\n",
    "#Choose Featuresets\n",
    "featuresets = pd.DataFrame([core,mic10,mic20,mic30,corr10,corr20,corr30,rfe10,rfe20,rfe30,poly15_1,poly15_2,micpoly15],index=['core','mic10','mic20','mic30','corr10','corr20','corr30','rfe10','rfe20','rfe30','polycorr15_1','polycorr15_2','micpoly15'],columns=list(range(1,43))).T\n",
    "display(featuresets.columns)\n",
    "#Fitting\n",
    "\n",
    "for name in featuresets.columns:\n",
    "\n",
    "\n",
    "    cols_to_use = featuresets[name].dropna()\n",
    "    \n",
    "    t0=time.time()\n",
    "    gs= GridSearchCV(learner, param_grid, iid=False, refit=True, cv=group_shuffle, return_train_score =True, scoring='neg_mean_absolute_error')\n",
    "    gs.fit(train[cols_to_use], y[target], groups)\n",
    "    gs.cv_results_ \n",
    "    #display(gs.best_estimator_)\n",
    "    #display(gs.best_score_ )\n",
    "    display(name)\n",
    "    fitting_time = time.time()-t0\n",
    "    #Trainscore\n",
    "    grid = pd.DataFrame(np.zeros([40000, 62]), columns = df_train.loc[:, 'Ret_121':'Ret_PlusTwo'].columns,index=df_train.index)\n",
    "    grid.shape\n",
    "    zerobenchmark= trainscore(df_train.loc[:,'Ret_121':'Ret_PlusTwo'],grid,weights).round(5)\n",
    "    grid[target] = ((gs.predict(train[cols_to_use])))\n",
    "    validationbenchmark = trainscore(df_train.loc[:,'Ret_121':'Ret_PlusTwo'],grid,weights).round(5) \n",
    "\n",
    "\n",
    "    ###Submission\n",
    "    grid = pd.DataFrame(np.zeros([120000, 62]), columns = df_train.loc[:, 'Ret_121':'Ret_PlusTwo'].columns)\n",
    "    grid.shape\n",
    "\n",
    "    grid[target] = ((gs.predict(test[cols_to_use])))\n",
    "\n",
    "    sample['Predicted'] = grid.values.flatten()\n",
    "    sample.to_csv(('BA_Submissions/'+str(learner).split('(',1)[0]+'_'+name+target+\".csv\"), index=False)\n",
    "\n",
    "         ###Output\n",
    "    algo = str(learner).split('(',1)[0]\n",
    "    params= gs.best_estimator_.get_params()\n",
    "    mae = abs(gs.best_score_)\n",
    "    results = results.append(pd.DataFrame([algo,name,target,fitting_time,zerobenchmark,validationbenchmark,mae,params],index=results.columns).T, ignore_index=True)\n"
   ]
  },
  {
   "cell_type": "markdown",
   "metadata": {},
   "source": [
    "## Huber"
   ]
  },
  {
   "cell_type": "code",
   "execution_count": 676,
   "metadata": {},
   "outputs": [
    {
     "data": {
      "text/plain": [
       "Index(['core', 'mic10', 'mic20', 'mic30', 'corr10', 'corr20', 'corr30',\n",
       "       'polycorr15_1', 'polycorr15_2', 'micpoly15'],\n",
       "      dtype='object')"
      ]
     },
     "metadata": {},
     "output_type": "display_data"
    },
    {
     "data": {
      "text/plain": [
       "'core'"
      ]
     },
     "metadata": {},
     "output_type": "display_data"
    },
    {
     "data": {
      "text/plain": [
       "'mic10'"
      ]
     },
     "metadata": {},
     "output_type": "display_data"
    },
    {
     "data": {
      "text/plain": [
       "'mic20'"
      ]
     },
     "metadata": {},
     "output_type": "display_data"
    },
    {
     "data": {
      "text/plain": [
       "'mic30'"
      ]
     },
     "metadata": {},
     "output_type": "display_data"
    },
    {
     "data": {
      "text/plain": [
       "'corr10'"
      ]
     },
     "metadata": {},
     "output_type": "display_data"
    },
    {
     "data": {
      "text/plain": [
       "'corr20'"
      ]
     },
     "metadata": {},
     "output_type": "display_data"
    },
    {
     "data": {
      "text/plain": [
       "'corr30'"
      ]
     },
     "metadata": {},
     "output_type": "display_data"
    },
    {
     "data": {
      "text/plain": [
       "'polycorr15_1'"
      ]
     },
     "metadata": {},
     "output_type": "display_data"
    },
    {
     "data": {
      "text/plain": [
       "'polycorr15_2'"
      ]
     },
     "metadata": {},
     "output_type": "display_data"
    },
    {
     "data": {
      "text/plain": [
       "'micpoly15'"
      ]
     },
     "metadata": {},
     "output_type": "display_data"
    }
   ],
   "source": [
    "#RFE Params\n",
    "rfe_learner = HuberRegressor()\n",
    "rfe_params ={'alpha':100,'max_iter':700}\n",
    "rfe_learner = rfe_learner.set_params(**rfe_params)\n",
    "rfe_target = 'Ret_PlusTwo'\n",
    "\n",
    "from sklearn.model_selection import GridSearchCV\n",
    "from sklearn.model_selection import cross_val_score\n",
    "from sklearn.model_selection import GroupShuffleSplit\n",
    "group_shuffle = GroupShuffleSplit(n_splits=10, test_size=0.60, train_size=0.4, random_state=0)\n",
    "from sklearn.linear_model import Ridge\n",
    "from sklearn.linear_model import Lasso\n",
    "from sklearn.feature_selection import RFE\n",
    "\n",
    "#Model_Params\n",
    "train = pd.concat([all_features,X_poly],axis=1)\n",
    "test = pd.concat([all_features_test,X_poly_test],axis=1)\n",
    "learner = HuberRegressor()\n",
    "target= 'Ret_PlusTwo'\n",
    "param_grid= {'alpha': [100,20,19,18,17,16,15,12,11],'epsilon':[1.35],'max_iter':[700]}\n",
    "\n",
    "\n",
    "\n",
    "#Choose Featuresets\n",
    "featuresets = pd.DataFrame([core,mic10,mic20,mic30,corr10,corr20,corr30,poly15_1,poly15_2,micpoly15],index=['core','mic10','mic20','mic30','corr10','corr20','corr30','polycorr15_1','polycorr15_2','micpoly15'],columns=list(range(1,43))).T\n",
    "display(featuresets.columns)\n",
    "#Fitting\n",
    "\n",
    "for name in featuresets.columns:\n",
    "\n",
    "\n",
    "    cols_to_use = featuresets[name].dropna()\n",
    "    \n",
    "    t0=time.time()\n",
    "    gs= GridSearchCV(learner, param_grid, iid=False, refit=True, cv=group_shuffle, return_train_score =True, scoring='neg_mean_absolute_error')\n",
    "    gs.fit(train[cols_to_use], y[target], groups)\n",
    "    gs.cv_results_ \n",
    "    #display(gs.best_estimator_)\n",
    "    #display(gs.best_score_ )\n",
    "    display(name)\n",
    "    fitting_time = time.time()-t0\n",
    "    #Trainscore\n",
    "    grid = pd.DataFrame(np.zeros([40000, 62]), columns = df_train.loc[:, 'Ret_121':'Ret_PlusTwo'].columns,index=df_train.index)\n",
    "    grid.shape\n",
    "    zerobenchmark= trainscore(df_train.loc[:,'Ret_121':'Ret_PlusTwo'],grid,weights).round(5)\n",
    "    grid[target] = ((gs.predict(train[cols_to_use])))\n",
    "    validationbenchmark = trainscore(df_train.loc[:,'Ret_121':'Ret_PlusTwo'],grid,weights).round(5) \n",
    "\n",
    "\n",
    "    ###Submission\n",
    "    grid = pd.DataFrame(np.zeros([120000, 62]), columns = df_train.loc[:, 'Ret_121':'Ret_PlusTwo'].columns)\n",
    "    grid.shape\n",
    "\n",
    "    grid[target] = ((gs.predict(test[cols_to_use])))\n",
    "\n",
    "    sample['Predicted'] = grid.values.flatten()\n",
    "    sample.to_csv(('BA_Submissions/'+str(learner).split('(',1)[0]+'_'+name+target+\".csv\"), index=False)\n",
    "\n",
    "         ###Output\n",
    "    algo = str(learner).split('(',1)[0]\n",
    "    params= gs.best_estimator_.get_params()\n",
    "    mae = abs(gs.best_score_)\n",
    "    results = results.append(pd.DataFrame([algo,name,target,fitting_time,zerobenchmark,validationbenchmark,mae,params],index=results.columns).T, ignore_index=True)\n"
   ]
  },
  {
   "cell_type": "markdown",
   "metadata": {},
   "source": [
    "### ExtraTreesRegressor"
   ]
  },
  {
   "cell_type": "code",
   "execution_count": 677,
   "metadata": {},
   "outputs": [
    {
     "data": {
      "text/plain": [
       "Index(['core', 'mic10', 'mic20', 'mic30', 'corr10', 'corr20', 'corr30',\n",
       "       'polycorr15_1', 'polycorr15_2', 'micpoly15'],\n",
       "      dtype='object')"
      ]
     },
     "metadata": {},
     "output_type": "display_data"
    },
    {
     "data": {
      "text/plain": [
       "'core'"
      ]
     },
     "metadata": {},
     "output_type": "display_data"
    },
    {
     "data": {
      "text/plain": [
       "'mic10'"
      ]
     },
     "metadata": {},
     "output_type": "display_data"
    },
    {
     "data": {
      "text/plain": [
       "'mic20'"
      ]
     },
     "metadata": {},
     "output_type": "display_data"
    },
    {
     "data": {
      "text/plain": [
       "'mic30'"
      ]
     },
     "metadata": {},
     "output_type": "display_data"
    },
    {
     "data": {
      "text/plain": [
       "'corr10'"
      ]
     },
     "metadata": {},
     "output_type": "display_data"
    },
    {
     "data": {
      "text/plain": [
       "'corr20'"
      ]
     },
     "metadata": {},
     "output_type": "display_data"
    },
    {
     "data": {
      "text/plain": [
       "'corr30'"
      ]
     },
     "metadata": {},
     "output_type": "display_data"
    },
    {
     "data": {
      "text/plain": [
       "'polycorr15_1'"
      ]
     },
     "metadata": {},
     "output_type": "display_data"
    },
    {
     "data": {
      "text/plain": [
       "'polycorr15_2'"
      ]
     },
     "metadata": {},
     "output_type": "display_data"
    },
    {
     "data": {
      "text/plain": [
       "'micpoly15'"
      ]
     },
     "metadata": {},
     "output_type": "display_data"
    }
   ],
   "source": [
    "from sklearn.model_selection import GridSearchCV\n",
    "from sklearn.model_selection import cross_val_score\n",
    "from sklearn.model_selection import GroupShuffleSplit\n",
    "group_shuffle = GroupShuffleSplit(n_splits=10, test_size=0.60, train_size=0.4, random_state=0)\n",
    "\n",
    "from sklearn.ensemble import ExtraTreesRegressor\n",
    "\n",
    "\n",
    "#Model_Params\n",
    "train = pd.concat([all_features,X_poly],axis=1)\n",
    "test = pd.concat([all_features_test,X_poly_test],axis=1)\n",
    "learner = ExtraTreesRegressor()\n",
    "target= 'Ret_PlusTwo'\n",
    "param_grid= {'max_depth': [3],#tiefer\n",
    "             \n",
    "             'max_features': 'auto',#wahrscheinlich weniger glaub kürzere fitting time\n",
    "             'min_samples_leaf': [5000], #höher\n",
    "             #'min_samples_split': [],\n",
    "             'n_estimators': [100,150],#mehr bedeuten dauert länger\n",
    "             'n_jobs':[-1],\n",
    "            'random_state':[0],\n",
    "            'max_features':['sqrt']}\n",
    "\n",
    "\n",
    "#Choose Featuresets\n",
    "featuresets = pd.DataFrame([core,mic10,mic20,mic30,corr10,corr20,corr30,poly15_1,poly15_2,micpoly15],index=['core','mic10','mic20','mic30','corr10','corr20','corr30','polycorr15_1','polycorr15_2','micpoly15'],columns=list(range(1,43))).T\n",
    "display(featuresets.columns)\n",
    "#Fitting\n",
    "\n",
    "for name in featuresets.columns:\n",
    "\n",
    "\n",
    "    cols_to_use = featuresets[name].dropna()\n",
    "    \n",
    "    t0=time.time()\n",
    "    gs= GridSearchCV(learner, param_grid, iid=False, refit=True, cv=group_shuffle, return_train_score =True, scoring='neg_mean_absolute_error')\n",
    "    gs.fit(train[cols_to_use], y[target], groups)\n",
    "    gs.cv_results_ \n",
    "    #display(gs.best_estimator_)\n",
    "    #display(gs.best_score_ )\n",
    "    display(name)\n",
    "    fitting_time = time.time()-t0\n",
    "    #Trainscore\n",
    "    grid = pd.DataFrame(np.zeros([40000, 62]), columns = df_train.loc[:, 'Ret_121':'Ret_PlusTwo'].columns,index=df_train.index)\n",
    "    grid.shape\n",
    "    zerobenchmark= trainscore(df_train.loc[:,'Ret_121':'Ret_PlusTwo'],grid,weights).round(5)\n",
    "    grid[target] = ((gs.predict(train[cols_to_use])))\n",
    "    validationbenchmark = trainscore(df_train.loc[:,'Ret_121':'Ret_PlusTwo'],grid,weights).round(5) \n",
    "\n",
    "\n",
    "    ###Submission\n",
    "    grid = pd.DataFrame(np.zeros([120000, 62]), columns = df_train.loc[:, 'Ret_121':'Ret_PlusTwo'].columns)\n",
    "    grid.shape\n",
    "\n",
    "    grid[target] = ((gs.predict(test[cols_to_use])))\n",
    "\n",
    "    sample['Predicted'] = grid.values.flatten()\n",
    "    sample.to_csv(('BA_Submissions/'+str(learner).split('(',1)[0]+'_'+name+target+\".csv\"), index=False)\n",
    "\n",
    "     ###Output\n",
    "    algo = str(learner).split('(',1)[0]\n",
    "    params= gs.best_estimator_.get_params()\n",
    "    mae = abs(gs.best_score_)\n",
    "    results = results.append(pd.DataFrame([algo,name,target,fitting_time,zerobenchmark,validationbenchmark,mae,params],index=results.columns).T, ignore_index=True)\n"
   ]
  },
  {
   "cell_type": "markdown",
   "metadata": {},
   "source": [
    "## GBM"
   ]
  },
  {
   "cell_type": "code",
   "execution_count": 678,
   "metadata": {},
   "outputs": [
    {
     "data": {
      "text/plain": [
       "Index(['core', 'mic10', 'mic20', 'mic30', 'corr10', 'corr20', 'corr30',\n",
       "       'polycorr15_1', 'polycorr15_2', 'micpoly15'],\n",
       "      dtype='object')"
      ]
     },
     "metadata": {},
     "output_type": "display_data"
    },
    {
     "data": {
      "text/plain": [
       "'core'"
      ]
     },
     "metadata": {},
     "output_type": "display_data"
    },
    {
     "data": {
      "text/plain": [
       "341.8873131275177"
      ]
     },
     "metadata": {},
     "output_type": "display_data"
    },
    {
     "data": {
      "text/plain": [
       "'mic10'"
      ]
     },
     "metadata": {},
     "output_type": "display_data"
    },
    {
     "data": {
      "text/plain": [
       "169.02080082893372"
      ]
     },
     "metadata": {},
     "output_type": "display_data"
    },
    {
     "data": {
      "text/plain": [
       "'mic20'"
      ]
     },
     "metadata": {},
     "output_type": "display_data"
    },
    {
     "data": {
      "text/plain": [
       "221.5049660205841"
      ]
     },
     "metadata": {},
     "output_type": "display_data"
    },
    {
     "data": {
      "text/plain": [
       "'mic30'"
      ]
     },
     "metadata": {},
     "output_type": "display_data"
    },
    {
     "data": {
      "text/plain": [
       "274.0946235656738"
      ]
     },
     "metadata": {},
     "output_type": "display_data"
    },
    {
     "data": {
      "text/plain": [
       "'corr10'"
      ]
     },
     "metadata": {},
     "output_type": "display_data"
    },
    {
     "data": {
      "text/plain": [
       "176.69458651542664"
      ]
     },
     "metadata": {},
     "output_type": "display_data"
    },
    {
     "data": {
      "text/plain": [
       "'corr20'"
      ]
     },
     "metadata": {},
     "output_type": "display_data"
    },
    {
     "data": {
      "text/plain": [
       "245.8819441795349"
      ]
     },
     "metadata": {},
     "output_type": "display_data"
    },
    {
     "data": {
      "text/plain": [
       "'corr30'"
      ]
     },
     "metadata": {},
     "output_type": "display_data"
    },
    {
     "data": {
      "text/plain": [
       "311.5452342033386"
      ]
     },
     "metadata": {},
     "output_type": "display_data"
    },
    {
     "data": {
      "text/plain": [
       "'polycorr15_1'"
      ]
     },
     "metadata": {},
     "output_type": "display_data"
    },
    {
     "data": {
      "text/plain": [
       "199.2218315601349"
      ]
     },
     "metadata": {},
     "output_type": "display_data"
    },
    {
     "data": {
      "text/plain": [
       "'polycorr15_2'"
      ]
     },
     "metadata": {},
     "output_type": "display_data"
    },
    {
     "data": {
      "text/plain": [
       "184.8338713645935"
      ]
     },
     "metadata": {},
     "output_type": "display_data"
    },
    {
     "data": {
      "text/plain": [
       "'micpoly15'"
      ]
     },
     "metadata": {},
     "output_type": "display_data"
    },
    {
     "data": {
      "text/plain": [
       "192.49289560317993"
      ]
     },
     "metadata": {},
     "output_type": "display_data"
    }
   ],
   "source": [
    "from sklearn.model_selection import GridSearchCV\n",
    "from sklearn.model_selection import cross_val_score\n",
    "from sklearn.model_selection import GroupShuffleSplit\n",
    "group_shuffle = GroupShuffleSplit(n_splits=10, test_size=0.60, train_size=0.4, random_state=0)\n",
    "\n",
    "from sklearn.ensemble import GradientBoostingRegressor\n",
    "\n",
    "#Model_Params\n",
    "train = pd.concat([all_features,X_poly],axis=1)\n",
    "test = pd.concat([all_features_test,X_poly_test],axis=1)\n",
    "learner = GradientBoostingRegressor()\n",
    "target= 'Ret_PlusTwo'\n",
    "param_grid= {'loss':['lad'],\n",
    "             'learning_rate':[0.001],\n",
    "            'max_depth': [3],\n",
    "             'n_estimators': [300,400],\n",
    "            'random_state':[0],\n",
    "            'subsample':[0.5],\n",
    "             'verbose':[0],\n",
    "            'max_features':['auto','sqrt']}\n",
    "             \n",
    "\n",
    "\n",
    "#Choose Featuresets\n",
    "featuresets = pd.DataFrame([core,mic10,mic20,mic30,corr10,corr20,corr30,poly15_1,poly15_2,micpoly15],index=['core','mic10','mic20','mic30','corr10','corr20','corr30','polycorr15_1','polycorr15_2','micpoly15'],columns=list(range(1,43))).T\n",
    "display(featuresets.columns)\n",
    "#Fitting\n",
    "\n",
    "for name in featuresets.columns:\n",
    "\n",
    "\n",
    "    cols_to_use = featuresets[name].dropna()\n",
    "    \n",
    "    t0=time.time()\n",
    "    gs= GridSearchCV(learner, param_grid, iid=False, refit=True, cv=group_shuffle, return_train_score =True, scoring='neg_mean_absolute_error')\n",
    "    gs.fit(train[cols_to_use], y[target], groups)\n",
    "    gs.cv_results_ \n",
    "    #display(gs.best_estimator_)\n",
    "    display(name)\n",
    "    fitting_time = time.time()-t0\n",
    "    #Trainscore\n",
    "    grid = pd.DataFrame(np.zeros([40000, 62]), columns = df_train.loc[:, 'Ret_121':'Ret_PlusTwo'].columns,index=df_train.index)\n",
    "    grid.shape\n",
    "    zerobenchmark= trainscore(df_train.loc[:,'Ret_121':'Ret_PlusTwo'],grid,weights).round(5)\n",
    "    grid[target] = ((gs.predict(train[cols_to_use])))\n",
    "    validationbenchmark = trainscore(df_train.loc[:,'Ret_121':'Ret_PlusTwo'],grid,weights).round(5) \n",
    "    display(fitting_time)\n",
    "\n",
    "    ###Submission\n",
    "    grid = pd.DataFrame(np.zeros([120000, 62]), columns = df_train.loc[:, 'Ret_121':'Ret_PlusTwo'].columns)\n",
    "    grid.shape\n",
    "\n",
    "    grid[target] = ((gs.predict(test[cols_to_use])))\n",
    "\n",
    "    sample['Predicted'] = grid.values.flatten()\n",
    "    sample.to_csv(('BA_Submissions/'+str(learner).split('(',1)[0]+'_'+name+target+\".csv\"), index=False)\n",
    "\n",
    "    ###Output\n",
    "    algo = str(learner).split('(',1)[0]\n",
    "    params= gs.best_estimator_.get_params()\n",
    "    mae = abs(gs.best_score_)\n",
    "    results = results.append(pd.DataFrame([algo,name,target,fitting_time,zerobenchmark,validationbenchmark,mae,params],index=results.columns).T, ignore_index=True)\n"
   ]
  },
  {
   "cell_type": "code",
   "execution_count": 679,
   "metadata": {},
   "outputs": [],
   "source": [
    "results.to_excel((\"BA_Submissions/results_\"+target+\".xls\"),header=True)"
   ]
  },
  {
   "cell_type": "markdown",
   "metadata": {},
   "source": [
    "# Ret_Minutes"
   ]
  },
  {
   "cell_type": "code",
   "execution_count": 680,
   "metadata": {},
   "outputs": [],
   "source": [
    "y['Ret_MinutesFut'] = df_train.loc[:, 'Ret_121':'Ret_180'].sum(axis=1)\n",
    "y['Ret_MinutesFut_20'] = df_train.loc[:, 'Ret_121':'Ret_130'].sum(axis=1)"
   ]
  },
  {
   "cell_type": "code",
   "execution_count": null,
   "metadata": {},
   "outputs": [],
   "source": []
  },
  {
   "cell_type": "code",
   "execution_count": 681,
   "metadata": {},
   "outputs": [],
   "source": [
    "mic10 = MIC.MIC_Minute.sort_values(ascending=False)[0:10].index\n",
    "mic20 = MIC.MIC_Minute.sort_values(ascending=False)[0:20].index\n",
    "mic30 = MIC.MIC_Minute.sort_values(ascending=False)[0:30].index\n",
    "corr10 = abs(corr_spearman.Ret_MinutesFut).sort_values(ascending=False)[0:10].index\n",
    "corr20 = abs(corr_spearman.Ret_MinutesFut).sort_values(ascending=False)[0:20].index\n",
    "corr30 = abs(corr_spearman.Ret_MinutesFut).sort_values(ascending=False)[0:30].index\n",
    "#corrPear = abs(corr_pearson.Ret_PlusTwo).sort_values(ascending=False)[0:20].index\n",
    "core=core_features.drop('Feature_7',axis='columns').columns.values\n",
    "poly15_1 = ['x1 x8','x3 x16', 'x5 x10', 'x5 x16', 'x5', 'x5 x6', 'x3 x6', 'x3 x5', 'x5 x11', 'x3 x10', 'x3^2', 'x2^2', 'x3', 'x3 x12']\n",
    "poly15_2 = poly15_2 = abs(corr_poly.Ret_MinutesFut).sort_values(ascending=False)[0:15].index\n",
    "micpoly15 = MIC_poly.MIC_Minute.sort_values(ascending=False)[0:15].index"
   ]
  },
  {
   "cell_type": "markdown",
   "metadata": {},
   "source": [
    "### Ridge"
   ]
  },
  {
   "cell_type": "code",
   "execution_count": 682,
   "metadata": {},
   "outputs": [
    {
     "name": "stdout",
     "output_type": "stream",
     "text": [
      "training time: 231.161 s\n",
      "training time: 247.077 s\n",
      "training time: 260.637 s\n"
     ]
    },
    {
     "data": {
      "text/plain": [
       "Index(['core', 'mic10', 'mic20', 'mic30', 'corr10', 'corr20', 'corr30',\n",
       "       'rfe10', 'rfe20', 'rfe30', 'polycorr15_1', 'polycorr15_2', 'micpoly15'],\n",
       "      dtype='object')"
      ]
     },
     "metadata": {},
     "output_type": "display_data"
    },
    {
     "data": {
      "text/plain": [
       "'core'"
      ]
     },
     "metadata": {},
     "output_type": "display_data"
    },
    {
     "data": {
      "text/plain": [
       "'mic10'"
      ]
     },
     "metadata": {},
     "output_type": "display_data"
    },
    {
     "data": {
      "text/plain": [
       "'mic20'"
      ]
     },
     "metadata": {},
     "output_type": "display_data"
    },
    {
     "data": {
      "text/plain": [
       "'mic30'"
      ]
     },
     "metadata": {},
     "output_type": "display_data"
    },
    {
     "data": {
      "text/plain": [
       "'corr10'"
      ]
     },
     "metadata": {},
     "output_type": "display_data"
    },
    {
     "data": {
      "text/plain": [
       "'corr20'"
      ]
     },
     "metadata": {},
     "output_type": "display_data"
    },
    {
     "data": {
      "text/plain": [
       "'corr30'"
      ]
     },
     "metadata": {},
     "output_type": "display_data"
    },
    {
     "data": {
      "text/plain": [
       "'rfe10'"
      ]
     },
     "metadata": {},
     "output_type": "display_data"
    },
    {
     "data": {
      "text/plain": [
       "'rfe20'"
      ]
     },
     "metadata": {},
     "output_type": "display_data"
    },
    {
     "data": {
      "text/plain": [
       "'rfe30'"
      ]
     },
     "metadata": {},
     "output_type": "display_data"
    },
    {
     "data": {
      "text/plain": [
       "'polycorr15_1'"
      ]
     },
     "metadata": {},
     "output_type": "display_data"
    },
    {
     "data": {
      "text/plain": [
       "'polycorr15_2'"
      ]
     },
     "metadata": {},
     "output_type": "display_data"
    },
    {
     "data": {
      "text/plain": [
       "'micpoly15'"
      ]
     },
     "metadata": {},
     "output_type": "display_data"
    }
   ],
   "source": [
    "\n",
    "#RFE Params\n",
    "rfe_learner = Ridge()\n",
    "rfe_params ={'alpha':100,'normalize':True,'max_iter':700,'random_state':0}\n",
    "rfe_learner = rfe_learner.set_params(**rfe_params)\n",
    "rfe_target = 'Ret_MinutesFut'\n",
    "\n",
    "#RFE Fitting\n",
    "rfe = RFE(rfe_learner,n_features_to_select=10, step=1, verbose=0)\n",
    "rfe.fit(all_features,y[rfe_target])\n",
    "print(\"training time:\", round(time.time()-t0, 3), \"s\")\n",
    "rfe10 = all_features.columns[rfe.get_support(indices=True)]\n",
    "\n",
    "rfe = RFE(rfe_learner,n_features_to_select=20, step=1, verbose=0)\n",
    "rfe.fit(all_features, y[rfe_target])\n",
    "print(\"training time:\", round(time.time()-t0, 3), \"s\")\n",
    "rfe20 = all_features.columns[rfe.get_support(indices=True)]\n",
    "\n",
    "rfe = RFE(rfe_learner,n_features_to_select=30, step=1, verbose=0)\n",
    "rfe.fit(all_features,y[rfe_target])\n",
    "print(\"training time:\", round(time.time()-t0, 3), \"s\")\n",
    "rfe30 = all_features.columns[rfe.get_support(indices=True)]\n",
    "\n",
    "from sklearn.model_selection import GridSearchCV\n",
    "from sklearn.model_selection import cross_val_score\n",
    "from sklearn.model_selection import GroupShuffleSplit\n",
    "group_shuffle = GroupShuffleSplit(n_splits=10, test_size=0.60, train_size=0.4, random_state=0)\n",
    "from sklearn.linear_model import Ridge\n",
    "from sklearn.linear_model import Lasso\n",
    "from sklearn.feature_selection import RFE\n",
    "\n",
    "#Model_Params\n",
    "train = pd.concat([all_features,X_poly],axis=1)\n",
    "test = pd.concat([all_features_test,X_poly_test],axis=1)\n",
    "learner = Ridge()\n",
    "target= 'Ret_MinutesFut'\n",
    "param_grid= {'alpha': [100,50,35,20,10],'normalize':[True],'max_iter':[700]}\n",
    "\n",
    "\n",
    "#Choose Featuresets\n",
    "featuresets = pd.DataFrame([core,mic10,mic20,mic30,corr10,corr20,corr30,rfe10,rfe20,rfe30,poly15_1,poly15_2,micpoly15],index=['core','mic10','mic20','mic30','corr10','corr20','corr30','rfe10','rfe20','rfe30','polycorr15_1','polycorr15_2','micpoly15'],columns=list(range(1,43))).T\n",
    "display(featuresets.columns)\n",
    "#Fitting\n",
    "\n",
    "for name in featuresets.columns:\n",
    "\n",
    "\n",
    "    cols_to_use = featuresets[name].dropna()\n",
    "    \n",
    "    t0=time.time()\n",
    "    gs= GridSearchCV(learner, param_grid, iid=False, refit=True, cv=group_shuffle, return_train_score =True, scoring='neg_mean_absolute_error')\n",
    "    gs.fit(train[cols_to_use], y[target], groups)\n",
    "    gs.cv_results_ \n",
    "    #display(gs.best_estimator_)\n",
    "    #display(gs.best_score_ )\n",
    "    display(name)\n",
    "    fitting_time = time.time()-t0\n",
    "    #Trainscore\n",
    "    grid = pd.DataFrame(np.zeros([40000, 62]), columns = df_train.loc[:, 'Ret_121':'Ret_PlusTwo'].columns,index=df_train.index)\n",
    "    grid.shape\n",
    "    zerobenchmark= trainscore(df_train.loc[:,'Ret_121':'Ret_PlusTwo'],grid,weights).round(5)\n",
    "    \n",
    "\n",
    "    for cols in grid.loc[:,'Ret_121':'Ret_180'].columns:\n",
    "        \n",
    "        grid[cols] = ((gs.predict(train[cols_to_use]))/60)\n",
    "    \n",
    "    validationbenchmark = trainscore(df_train.loc[:,'Ret_121':'Ret_PlusTwo'],grid,weights).round(5) \n",
    "\n",
    "\n",
    "    ###Submission\n",
    "    grid = pd.DataFrame(np.zeros([120000, 62]), columns = df_train.loc[:, 'Ret_121':'Ret_PlusTwo'].columns)\n",
    "    grid.shape\n",
    "\n",
    "    for cols in grid.loc[:,'Ret_121':'Ret_180'].columns:\n",
    "        grid[cols] = ((gs.predict(test[cols_to_use]))/60)\n",
    "\n",
    "    sample['Predicted'] = grid.values.flatten()\n",
    "    sample.to_csv(('BA_Submissions/'+str(learner).split('(',1)[0]+'_'+name+target+\".csv\"), index=False)\n",
    "\n",
    "     ###Output\n",
    "    algo = str(learner).split('(',1)[0]\n",
    "    params= gs.best_estimator_.get_params()\n",
    "    mae = abs(gs.best_score_)\n",
    "    results = results.append(pd.DataFrame([algo,name,target,fitting_time,zerobenchmark,validationbenchmark,mae,params],index=results.columns).T, ignore_index=True)\n"
   ]
  },
  {
   "cell_type": "markdown",
   "metadata": {},
   "source": [
    "### Huber"
   ]
  },
  {
   "cell_type": "code",
   "execution_count": 683,
   "metadata": {},
   "outputs": [
    {
     "data": {
      "text/plain": [
       "Index(['mic10', 'mic20', 'mic30', 'corr10', 'corr20', 'corr30', 'polycorr15_1',\n",
       "       'polycorr15_2', 'micpoly15'],\n",
       "      dtype='object')"
      ]
     },
     "metadata": {},
     "output_type": "display_data"
    },
    {
     "data": {
      "text/plain": [
       "'mic10'"
      ]
     },
     "metadata": {},
     "output_type": "display_data"
    },
    {
     "data": {
      "text/plain": [
       "'mic20'"
      ]
     },
     "metadata": {},
     "output_type": "display_data"
    },
    {
     "data": {
      "text/plain": [
       "'mic30'"
      ]
     },
     "metadata": {},
     "output_type": "display_data"
    },
    {
     "data": {
      "text/plain": [
       "'corr10'"
      ]
     },
     "metadata": {},
     "output_type": "display_data"
    },
    {
     "data": {
      "text/plain": [
       "'corr20'"
      ]
     },
     "metadata": {},
     "output_type": "display_data"
    },
    {
     "data": {
      "text/plain": [
       "'corr30'"
      ]
     },
     "metadata": {},
     "output_type": "display_data"
    },
    {
     "data": {
      "text/plain": [
       "'polycorr15_1'"
      ]
     },
     "metadata": {},
     "output_type": "display_data"
    },
    {
     "data": {
      "text/plain": [
       "'polycorr15_2'"
      ]
     },
     "metadata": {},
     "output_type": "display_data"
    },
    {
     "data": {
      "text/plain": [
       "'micpoly15'"
      ]
     },
     "metadata": {},
     "output_type": "display_data"
    }
   ],
   "source": [
    "from sklearn.model_selection import GridSearchCV\n",
    "from sklearn.model_selection import cross_val_score\n",
    "from sklearn.model_selection import GroupShuffleSplit\n",
    "group_shuffle = GroupShuffleSplit(n_splits=10, test_size=0.60, train_size=0.4, random_state=0)\n",
    "from sklearn.linear_model import Ridge\n",
    "from sklearn.linear_model import Lasso\n",
    "from sklearn.feature_selection import RFE\n",
    "from sklearn.linear_model import HuberRegressor\n",
    "\n",
    "#Model_Params\n",
    "train = pd.concat([all_features,X_poly],axis=1)\n",
    "test = pd.concat([all_features_test,X_poly_test],axis=1)\n",
    "learner = HuberRegressor()\n",
    "target= 'Ret_MinutesFut'\n",
    "param_grid= {'alpha': [20,5],'max_iter':[700]}\n",
    "\n",
    "\n",
    "#Choose Featuresets\n",
    "featuresets = pd.DataFrame([mic10,mic20,mic30,corr10,corr20,corr30,poly15_1,poly15_2,micpoly15],index=['mic10','mic20','mic30','corr10','corr20','corr30','polycorr15_1','polycorr15_2','micpoly15'],columns=list(range(1,31))).T\n",
    "display(featuresets.columns)\n",
    "#Fitting\n",
    "\n",
    "for name in featuresets.columns:\n",
    "\n",
    "\n",
    "    cols_to_use = featuresets[name].dropna()\n",
    "    \n",
    "    t0=time.time()\n",
    "    gs= GridSearchCV(learner, param_grid, iid=False, refit=True, cv=group_shuffle, return_train_score =True, scoring='neg_mean_absolute_error')\n",
    "    gs.fit(train[cols_to_use], y[target], groups)\n",
    "    gs.cv_results_ \n",
    "    #display(gs.best_estimator_)\n",
    "    #display(gs.best_score_ )\n",
    "    display(name)\n",
    "    fitting_time = time.time()-t0\n",
    "    #Trainscore\n",
    "    grid = pd.DataFrame(np.zeros([40000, 62]), columns = df_train.loc[:, 'Ret_121':'Ret_PlusTwo'].columns,index=df_train.index)\n",
    "    grid.shape\n",
    "    zerobenchmark= trainscore(df_train.loc[:,'Ret_121':'Ret_PlusTwo'],grid,weights).round(5)\n",
    "    \n",
    "\n",
    "    for cols in grid.loc[:,'Ret_121':'Ret_180'].columns:\n",
    "        \n",
    "        grid[cols] = ((gs.predict(train[cols_to_use]))/60)\n",
    "    \n",
    "    validationbenchmark = trainscore(df_train.loc[:,'Ret_121':'Ret_PlusTwo'],grid,weights).round(5) \n",
    "\n",
    "\n",
    "    ###Submission\n",
    "    grid = pd.DataFrame(np.zeros([120000, 62]), columns = df_train.loc[:, 'Ret_121':'Ret_PlusTwo'].columns)\n",
    "    grid.shape\n",
    "\n",
    "    for cols in grid.loc[:,'Ret_121':'Ret_180'].columns:\n",
    "        grid[cols] = ((gs.predict(test[cols_to_use]))/60)\n",
    "\n",
    "    sample['Predicted'] = grid.values.flatten()\n",
    "    sample.to_csv(('BA_Submissions/'+str(learner).split('(',1)[0]+'_'+name+target+\".csv\"), index=False)\n",
    "\n",
    "     ###Output\n",
    "    algo = str(learner).split('(',1)[0]\n",
    "    params= gs.best_estimator_.get_params()\n",
    "    mae = abs(gs.best_score_)\n",
    "    results = results.append(pd.DataFrame([algo,name,target,fitting_time,zerobenchmark,validationbenchmark,mae,params],index=results.columns).T, ignore_index=True)\n"
   ]
  },
  {
   "cell_type": "markdown",
   "metadata": {},
   "source": [
    "### Xtra Tree"
   ]
  },
  {
   "cell_type": "code",
   "execution_count": 684,
   "metadata": {},
   "outputs": [
    {
     "data": {
      "text/plain": [
       "Index(['core', 'mic10', 'mic20', 'mic30', 'corr10', 'corr20', 'corr30',\n",
       "       'polycorr15_1', 'polycorr15_2', 'micpoly15'],\n",
       "      dtype='object')"
      ]
     },
     "metadata": {},
     "output_type": "display_data"
    },
    {
     "data": {
      "text/plain": [
       "'core'"
      ]
     },
     "metadata": {},
     "output_type": "display_data"
    },
    {
     "data": {
      "text/plain": [
       "'mic10'"
      ]
     },
     "metadata": {},
     "output_type": "display_data"
    },
    {
     "data": {
      "text/plain": [
       "'mic20'"
      ]
     },
     "metadata": {},
     "output_type": "display_data"
    },
    {
     "data": {
      "text/plain": [
       "'mic30'"
      ]
     },
     "metadata": {},
     "output_type": "display_data"
    },
    {
     "data": {
      "text/plain": [
       "'corr10'"
      ]
     },
     "metadata": {},
     "output_type": "display_data"
    },
    {
     "data": {
      "text/plain": [
       "'corr20'"
      ]
     },
     "metadata": {},
     "output_type": "display_data"
    },
    {
     "data": {
      "text/plain": [
       "'corr30'"
      ]
     },
     "metadata": {},
     "output_type": "display_data"
    },
    {
     "data": {
      "text/plain": [
       "'polycorr15_1'"
      ]
     },
     "metadata": {},
     "output_type": "display_data"
    },
    {
     "data": {
      "text/plain": [
       "'polycorr15_2'"
      ]
     },
     "metadata": {},
     "output_type": "display_data"
    },
    {
     "data": {
      "text/plain": [
       "'micpoly15'"
      ]
     },
     "metadata": {},
     "output_type": "display_data"
    }
   ],
   "source": [
    "from sklearn.model_selection import GridSearchCV\n",
    "from sklearn.model_selection import cross_val_score\n",
    "from sklearn.model_selection import GroupShuffleSplit\n",
    "group_shuffle = GroupShuffleSplit(n_splits=10, test_size=0.60, train_size=0.4, random_state=0)\n",
    "\n",
    "from sklearn.ensemble import ExtraTreesRegressor\n",
    "\n",
    "\n",
    "#Model_Params\n",
    "train = pd.concat([all_features,X_poly],axis=1)\n",
    "test = pd.concat([all_features_test,X_poly_test],axis=1)\n",
    "learner = ExtraTreesRegressor()\n",
    "target= 'Ret_MinutesFut'\n",
    "param_grid= {'max_depth': [3],#tiefer\n",
    "             \n",
    "             'max_features': 'auto',#wahrscheinlich weniger glaub kürzere fitting time\n",
    "             'min_samples_leaf': [5000], #höher\n",
    "             #'min_samples_split': [],\n",
    "             'n_estimators': [100,150],#mehr bedeuten dauert länger\n",
    "             'n_jobs':[-1],\n",
    "            'random_state':[0],\n",
    "            'max_features':['sqrt']}\n",
    "\n",
    "\n",
    "\n",
    "#Choose Featuresets\n",
    "featuresets = pd.DataFrame([core,mic10,mic20,mic30,corr10,corr20,corr30,poly15_1,poly15_2,micpoly15],index=['core','mic10','mic20','mic30','corr10','corr20','corr30','polycorr15_1','polycorr15_2','micpoly15'],columns=list(range(1,43))).T\n",
    "display(featuresets.columns)\n",
    "#Fitting\n",
    "\n",
    "for name in featuresets.columns:\n",
    "\n",
    "\n",
    "    cols_to_use = featuresets[name].dropna()\n",
    "    \n",
    "    t0=time.time()\n",
    "    gs= GridSearchCV(learner, param_grid, iid=False, refit=True, cv=group_shuffle, return_train_score =True, scoring='neg_mean_absolute_error')\n",
    "    gs.fit(train[cols_to_use], y[target], groups)\n",
    "    gs.cv_results_ \n",
    "    #display(gs.best_estimator_)\n",
    "    #display(gs.best_score_ )\n",
    "    display(name)\n",
    "    fitting_time = time.time()-t0\n",
    "    #Trainscore\n",
    "    grid = pd.DataFrame(np.zeros([40000, 62]), columns = df_train.loc[:, 'Ret_121':'Ret_PlusTwo'].columns,index=df_train.index)\n",
    "    grid.shape\n",
    "    zerobenchmark= trainscore(df_train.loc[:,'Ret_121':'Ret_PlusTwo'],grid,weights).round(5)\n",
    "    \n",
    "\n",
    "    for cols in grid.loc[:,'Ret_121':'Ret_180'].columns:\n",
    "        \n",
    "        grid[cols] = ((gs.predict(train[cols_to_use]))/60)\n",
    "    \n",
    "    validationbenchmark = trainscore(df_train.loc[:,'Ret_121':'Ret_PlusTwo'],grid,weights).round(5) \n",
    "\n",
    "\n",
    "    ###Submission\n",
    "    grid = pd.DataFrame(np.zeros([120000, 62]), columns = df_train.loc[:, 'Ret_121':'Ret_PlusTwo'].columns)\n",
    "    grid.shape\n",
    "\n",
    "    for cols in grid.loc[:,'Ret_121':'Ret_180'].columns:\n",
    "        grid[cols] = ((gs.predict(test[cols_to_use]))/60)\n",
    "\n",
    "    sample['Predicted'] = grid.values.flatten()\n",
    "    sample.to_csv(('BA_Submissions/'+str(learner).split('(',1)[0]+'_'+name+target+\".csv\"), index=False)\n",
    "\n",
    "     ###Output\n",
    "    algo = str(learner).split('(',1)[0]\n",
    "    params= gs.best_estimator_.get_params()\n",
    "    mae = abs(gs.best_score_)\n",
    "    results = results.append(pd.DataFrame([algo,name,target,fitting_time,zerobenchmark,validationbenchmark,mae,params],index=results.columns).T, ignore_index=True)\n"
   ]
  },
  {
   "cell_type": "markdown",
   "metadata": {},
   "source": [
    "### GBM"
   ]
  },
  {
   "cell_type": "code",
   "execution_count": 685,
   "metadata": {},
   "outputs": [
    {
     "data": {
      "text/plain": [
       "Index(['core', 'mic10', 'mic20', 'mic30', 'corr10', 'corr20', 'corr30',\n",
       "       'polycorr15_1', 'polycorr15_2', 'micpoly15'],\n",
       "      dtype='object')"
      ]
     },
     "metadata": {},
     "output_type": "display_data"
    },
    {
     "data": {
      "text/plain": [
       "'core'"
      ]
     },
     "metadata": {},
     "output_type": "display_data"
    },
    {
     "data": {
      "text/plain": [
       "'mic10'"
      ]
     },
     "metadata": {},
     "output_type": "display_data"
    },
    {
     "data": {
      "text/plain": [
       "'mic20'"
      ]
     },
     "metadata": {},
     "output_type": "display_data"
    },
    {
     "data": {
      "text/plain": [
       "'mic30'"
      ]
     },
     "metadata": {},
     "output_type": "display_data"
    },
    {
     "data": {
      "text/plain": [
       "'corr10'"
      ]
     },
     "metadata": {},
     "output_type": "display_data"
    },
    {
     "data": {
      "text/plain": [
       "'corr20'"
      ]
     },
     "metadata": {},
     "output_type": "display_data"
    },
    {
     "data": {
      "text/plain": [
       "'corr30'"
      ]
     },
     "metadata": {},
     "output_type": "display_data"
    },
    {
     "data": {
      "text/plain": [
       "'polycorr15_1'"
      ]
     },
     "metadata": {},
     "output_type": "display_data"
    },
    {
     "data": {
      "text/plain": [
       "'polycorr15_2'"
      ]
     },
     "metadata": {},
     "output_type": "display_data"
    },
    {
     "data": {
      "text/plain": [
       "'micpoly15'"
      ]
     },
     "metadata": {},
     "output_type": "display_data"
    }
   ],
   "source": [
    "from sklearn.model_selection import GridSearchCV\n",
    "from sklearn.model_selection import cross_val_score\n",
    "from sklearn.model_selection import GroupShuffleSplit\n",
    "group_shuffle = GroupShuffleSplit(n_splits=10, test_size=0.60, train_size=0.4, random_state=0)\n",
    "\n",
    "from sklearn.ensemble import GradientBoostingRegressor\n",
    "\n",
    "#Model_Params\n",
    "train = pd.concat([all_features,X_poly],axis=1)\n",
    "test = pd.concat([all_features_test,X_poly_test],axis=1)\n",
    "learner = GradientBoostingRegressor()\n",
    "target= 'Ret_MinutesFut'\n",
    "param_grid= {'loss':['lad'],\n",
    "             'learning_rate':[0.001],\n",
    "            'max_depth': [3],\n",
    "             'n_estimators': [300,400],\n",
    "            'random_state':[0],\n",
    "            'subsample':[0.5],\n",
    "             'verbose':[0],\n",
    "            'max_features':['auto','sqrt']}\n",
    "             \n",
    "\n",
    "\n",
    "#Choose Featuresets\n",
    "featuresets = pd.DataFrame([core,mic10,mic20,mic30,corr10,corr20,corr30,poly15_1,poly15_2,micpoly15],index=['core','mic10','mic20','mic30','corr10','corr20','corr30','polycorr15_1','polycorr15_2','micpoly15'],columns=list(range(1,43))).T\n",
    "display(featuresets.columns)\n",
    "#Fitting\n",
    "\n",
    "for name in featuresets.columns:\n",
    "\n",
    "\n",
    "    cols_to_use = featuresets[name].dropna()\n",
    "    \n",
    "    t0=time.time()\n",
    "    gs= GridSearchCV(learner, param_grid, iid=False, refit=True, cv=group_shuffle, return_train_score =True, scoring='neg_mean_absolute_error')\n",
    "    gs.fit(train[cols_to_use], y[target], groups)\n",
    "    gs.cv_results_ \n",
    "    #display(gs.best_estimator_)\n",
    "    display(name)\n",
    "    fitting_time = time.time()-t0\n",
    "    #Trainscore\n",
    "    grid = pd.DataFrame(np.zeros([40000, 62]), columns = df_train.loc[:, 'Ret_121':'Ret_PlusTwo'].columns,index=df_train.index)\n",
    "    grid.shape\n",
    "    zerobenchmark= trainscore(df_train.loc[:,'Ret_121':'Ret_PlusTwo'],grid,weights).round(5)\n",
    "    \n",
    "\n",
    "    for cols in grid.loc[:,'Ret_121':'Ret_180'].columns:\n",
    "        \n",
    "        grid[cols] = ((gs.predict(train[cols_to_use]))/60)\n",
    "    \n",
    "    validationbenchmark = trainscore(df_train.loc[:,'Ret_121':'Ret_PlusTwo'],grid,weights).round(5) \n",
    "\n",
    "\n",
    "    ###Submission\n",
    "    grid = pd.DataFrame(np.zeros([120000, 62]), columns = df_train.loc[:, 'Ret_121':'Ret_PlusTwo'].columns)\n",
    "    grid.shape\n",
    "\n",
    "    for cols in grid.loc[:,'Ret_121':'Ret_180'].columns:\n",
    "        grid[cols] = ((gs.predict(test[cols_to_use]))/60)\n",
    "\n",
    "    sample['Predicted'] = grid.values.flatten()\n",
    "    sample.to_csv(('BA_Submissions/'+str(learner).split('(',1)[0]+'_'+name+target+\".csv\"), index=False)\n",
    "\n",
    "     ###Output\n",
    "    algo = str(learner).split('(',1)[0]\n",
    "    params= gs.best_estimator_.get_params()\n",
    "    mae = abs(gs.best_score_)\n",
    "    results = results.append(pd.DataFrame([algo,name,target,fitting_time,zerobenchmark,validationbenchmark,mae,params],index=results.columns).T, ignore_index=True)\n"
   ]
  },
  {
   "cell_type": "code",
   "execution_count": 686,
   "metadata": {},
   "outputs": [],
   "source": [
    "results.to_excel((\"BA_Submissions/results_\"+target+\".xls\"),header=True)"
   ]
  },
  {
   "cell_type": "code",
   "execution_count": 687,
   "metadata": {},
   "outputs": [],
   "source": [
    "from openpyxl import load_workbook\n",
    "book = load_workbook('BA_Submissions/Results.xlsx')\n",
    "writer = pd.ExcelWriter('BA_Submissions/Results.xlsx', engine='openpyxl')\n",
    "writer.book = book\n",
    "writer.sheets = dict((ws.title, ws) for ws in book.worksheets)\n",
    "writer.sheets['Tabelle1']\n",
    "startrow = writer.sheets['Tabelle1'].max_row\n",
    "results.to_excel(writer, index = False,header=False,startrow=startrow,sheet_name ='Tabelle1')\n",
    "writer.save()"
   ]
  },
  {
   "cell_type": "code",
   "execution_count": 688,
   "metadata": {},
   "outputs": [
    {
     "data": {
      "text/plain": [
       "'BA_Submissions/results_Ret_MinutesFut.csv'"
      ]
     },
     "execution_count": 688,
     "metadata": {},
     "output_type": "execute_result"
    }
   ],
   "source": [
    "(\"BA_Submissions/results_\"+target+\".csv\")"
   ]
  },
  {
   "cell_type": "markdown",
   "metadata": {},
   "source": [
    "# Final Model"
   ]
  },
  {
   "cell_type": "code",
   "execution_count": 706,
   "metadata": {},
   "outputs": [
    {
     "name": "stdout",
     "output_type": "stream",
     "text": [
      "training time: 13.916 s\n"
     ]
    },
    {
     "data": {
      "text/plain": [
       "1.338"
      ]
     },
     "metadata": {},
     "output_type": "display_data"
    }
   ],
   "source": [
    "train = pd.concat([all_features,X_poly],axis=1)\n",
    "test = pd.concat([all_features_test,X_poly_test],axis=1)\n",
    "\n",
    "train_grid = pd.DataFrame(np.zeros([40000, 62]), columns = df_train.loc[:, 'Ret_121':'Ret_PlusTwo'].columns,index=df_train.index)\n",
    "test_grid = pd.DataFrame(np.zeros([120000, 62]), columns = df_train.loc[:, 'Ret_121':'Ret_PlusTwo'].columns)\n",
    "\n",
    "import time\n",
    "t0 = time.time()\n",
    "\n",
    "#Ret_PlusOne\n",
    "rfe = RFE(rfe_learner,n_features_to_select=30, step=1, verbose=0)\n",
    "rfe.fit(all_features,y[rfe_target])\n",
    "print(\"training time:\", round(time.time()-t0, 3), \"s\")\n",
    "rfe30 = all_features.columns[rfe.get_support(indices=True)]\n",
    "\n",
    "t0 = time.time()\n",
    "learner = Ridge()\n",
    "cols_to_use = rfe30\n",
    "target= 'Ret_PlusOne'\n",
    "param_grid= {'alpha': 20, 'copy_X': True, 'fit_intercept': True, 'max_iter': 700, 'normalize': True, 'random_state': 0, 'solver': 'auto', 'tol': 0.001}\n",
    "learner.set_params(**param_grid)\n",
    "learner.fit(train[cols_to_use],y[target])\n",
    "train_grid[target] = ((learner.predict(train[cols_to_use])))\n",
    "validationbenchmark = trainscore(df_train.loc[:,'Ret_121':'Ret_PlusTwo'],train_grid,weights).round(5) \n",
    "test_grid[target] = ((learner.predict(test[cols_to_use])))\n",
    "\n",
    "#Ret_PlusTwo\n",
    "poly15_2 = abs(corr_poly.Ret_PlusTwo).sort_values(ascending=False)[0:15].index\n",
    "\n",
    "learner = Ridge()\n",
    "cols_to_use = poly15_2\n",
    "target= 'Ret_PlusTwo'\n",
    "param_grid= {'alpha': 15, 'copy_X': True, 'fit_intercept': True, 'max_iter': 700, 'normalize': True, 'random_state': 0, 'solver': 'auto', 'tol': 0.001}\n",
    "learner.set_params(**param_grid)\n",
    "learner.fit(train[cols_to_use],y[target])\n",
    "train_grid[target] = ((learner.predict(train[cols_to_use])))\n",
    "validationbenchmark = trainscore(df_train.loc[:,'Ret_121':'Ret_PlusTwo'],train_grid,weights).round(5) \n",
    "test_grid[target] = ((learner.predict(test[cols_to_use])))\n",
    "\n",
    "\n",
    "\n",
    "sample['Predicted'] = test_grid.values.flatten()\n",
    "display(round(time.time()-t0, 3),s)\n",
    "sample.to_csv(\"BA_Submissions/Final.csv\", index=False)\n",
    "\n",
    "# Ret_PlusOne"
   ]
  },
  {
   "cell_type": "code",
   "execution_count": 710,
   "metadata": {},
   "outputs": [
    {
     "data": {
      "text/plain": [
       "<matplotlib.axes._subplots.AxesSubplot at 0x1c997ee1c88>"
      ]
     },
     "execution_count": 710,
     "metadata": {},
     "output_type": "execute_result"
    },
    {
     "data": {
      "image/png": "[encoded data removed]",
      "text/plain": [
       "<matplotlib.figure.Figure at 0x1c997ee1630>"
      ]
     },
     "metadata": {},
     "output_type": "display_data"
    }
   ],
   "source": [
    "pd.DataFrame(learner.coef_,index = poly15_2).plot.bar()"
   ]
  },
  {
   "cell_type": "code",
   "execution_count": 715,
   "metadata": {},
   "outputs": [
    {
     "data": {
      "text/plain": [
       "array([-5.52209953e+02, -6.29519347e+04,  9.76713542e+01,  1.34526458e+02,\n",
       "        1.18005665e+00,  4.38717642e-03,  5.00138112e-01,  1.41308528e+02,\n",
       "        2.39079513e+00,  1.23954849e+00,  2.09718871e-02,  1.61091722e+04,\n",
       "       -7.39484273e+02, -6.48670415e+00,  1.21747288e+00])"
      ]
     },
     "execution_count": 715,
     "metadata": {},
     "output_type": "execute_result"
    }
   ],
   "source": [
    "learner.coef_"
   ]
  },
  {
   "cell_type": "code",
   "execution_count": 722,
   "metadata": {},
   "outputs": [
    {
     "data": {
      "text/plain": [
       "Index(['x0', 'x1', 'x2', 'x3', 'x4', 'x5', 'x6', 'x7', 'x8', 'x9', 'x10',\n",
       "       'x11', 'x12', 'x13', 'x14', 'x15', 'x16', 'x17', 'x18', 'x19', 'x20',\n",
       "       'x21', 'x22'],\n",
       "      dtype='object')"
      ]
     },
     "metadata": {},
     "output_type": "display_data"
    },
    {
     "data": {
      "text/html": [
       "<div>\n",
       "<style scoped>\n",
       "    .dataframe tbody tr th:only-of-type {\n",
       "        vertical-align: middle;\n",
       "    }\n",
       "\n",
       "    .dataframe tbody tr th {\n",
       "        vertical-align: top;\n",
       "    }\n",
       "\n",
       "    .dataframe thead th {\n",
       "        text-align: right;\n",
       "    }\n",
       "</style>\n",
       "<table border=\"1\" class=\"dataframe\">\n",
       "  <thead>\n",
       "    <tr style=\"text-align: right;\">\n",
       "      <th></th>\n",
       "      <th>0</th>\n",
       "    </tr>\n",
       "  </thead>\n",
       "  <tbody>\n",
       "    <tr>\n",
       "      <th>interaction_1</th>\n",
       "      <td>x0</td>\n",
       "    </tr>\n",
       "    <tr>\n",
       "      <th>interaction_2</th>\n",
       "      <td>x1</td>\n",
       "    </tr>\n",
       "    <tr>\n",
       "      <th>daily_diff</th>\n",
       "      <td>x2</td>\n",
       "    </tr>\n",
       "    <tr>\n",
       "      <th>abs_daily_diff</th>\n",
       "      <td>x3</td>\n",
       "    </tr>\n",
       "    <tr>\n",
       "      <th>daily_sum</th>\n",
       "      <td>x4</td>\n",
       "    </tr>\n",
       "    <tr>\n",
       "      <th>last_minute_diff</th>\n",
       "      <td>x5</td>\n",
       "    </tr>\n",
       "    <tr>\n",
       "      <th>abs_last_minute_diff</th>\n",
       "      <td>x6</td>\n",
       "    </tr>\n",
       "    <tr>\n",
       "      <th>last_minute_sum</th>\n",
       "      <td>x7</td>\n",
       "    </tr>\n",
       "    <tr>\n",
       "      <th>grouped_mean_fet_7</th>\n",
       "      <td>x8</td>\n",
       "    </tr>\n",
       "    <tr>\n",
       "      <th>grouped_mean_fet_5</th>\n",
       "      <td>x9</td>\n",
       "    </tr>\n",
       "    <tr>\n",
       "      <th>grouped_mad_fet_7</th>\n",
       "      <td>x10</td>\n",
       "    </tr>\n",
       "    <tr>\n",
       "      <th>grouped_mad_fet_5</th>\n",
       "      <td>x11</td>\n",
       "    </tr>\n",
       "    <tr>\n",
       "      <th>grouped_rank_daily_1</th>\n",
       "      <td>x12</td>\n",
       "    </tr>\n",
       "    <tr>\n",
       "      <th>grouped_rank_daily_2</th>\n",
       "      <td>x13</td>\n",
       "    </tr>\n",
       "    <tr>\n",
       "      <th>Delta_120</th>\n",
       "      <td>x14</td>\n",
       "    </tr>\n",
       "    <tr>\n",
       "      <th>smoothed_minute_mean</th>\n",
       "      <td>x15</td>\n",
       "    </tr>\n",
       "    <tr>\n",
       "      <th>minute_mad</th>\n",
       "      <td>x16</td>\n",
       "    </tr>\n",
       "    <tr>\n",
       "      <th>PR_120</th>\n",
       "      <td>x17</td>\n",
       "    </tr>\n",
       "    <tr>\n",
       "      <th>fet_7_Minute_Mean</th>\n",
       "      <td>x18</td>\n",
       "    </tr>\n",
       "    <tr>\n",
       "      <th>fet_7_Minute_MAD</th>\n",
       "      <td>x19</td>\n",
       "    </tr>\n",
       "    <tr>\n",
       "      <th>fet_7_Minute_Sum</th>\n",
       "      <td>x20</td>\n",
       "    </tr>\n",
       "    <tr>\n",
       "      <th>fet_7_Minute_Sum_MAD</th>\n",
       "      <td>x21</td>\n",
       "    </tr>\n",
       "    <tr>\n",
       "      <th>0</th>\n",
       "      <td>x22</td>\n",
       "    </tr>\n",
       "  </tbody>\n",
       "</table>\n",
       "</div>"
      ],
      "text/plain": [
       "                        0\n",
       "interaction_1          x0\n",
       "interaction_2          x1\n",
       "daily_diff             x2\n",
       "abs_daily_diff         x3\n",
       "daily_sum              x4\n",
       "last_minute_diff       x5\n",
       "abs_last_minute_diff   x6\n",
       "last_minute_sum        x7\n",
       "grouped_mean_fet_7     x8\n",
       "grouped_mean_fet_5     x9\n",
       "grouped_mad_fet_7     x10\n",
       "grouped_mad_fet_5     x11\n",
       "grouped_rank_daily_1  x12\n",
       "grouped_rank_daily_2  x13\n",
       "Delta_120             x14\n",
       "smoothed_minute_mean  x15\n",
       "minute_mad            x16\n",
       "PR_120                x17\n",
       "fet_7_Minute_Mean     x18\n",
       "fet_7_Minute_MAD      x19\n",
       "fet_7_Minute_Sum      x20\n",
       "fet_7_Minute_Sum_MAD  x21\n",
       "0                     x22"
      ]
     },
     "execution_count": 722,
     "metadata": {},
     "output_type": "execute_result"
    }
   ],
   "source": [
    "display(X_poly.columns[0:23])\n",
    "X_coef = pd.read_csv('X_features_2.csv', index_col=0)\n",
    "X_coef.columns\n",
    "pd.DataFrame(X_poly.columns[0:23],index=X_coef.columns)"
   ]
  },
  {
   "cell_type": "code",
   "execution_count": null,
   "metadata": {},
   "outputs": [],
   "source": []
  }
 ],
 "metadata": {
  "kernelspec": {
   "display_name": "Python 3",
   "language": "python",
   "name": "python3"
  },
  "language_info": {
   "codemirror_mode": {
    "name": "ipython",
    "version": 3
   },
   "file_extension": ".py",
   "mimetype": "text/x-python",
   "name": "python",
   "nbconvert_exporter": "python",
   "pygments_lexer": "ipython3",
   "version": "3.6.4"
  }
 },
 "nbformat": 4,
 "nbformat_minor": 2
}
